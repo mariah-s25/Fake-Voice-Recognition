{
  "cells": [
    {
      "cell_type": "markdown",
      "metadata": {
        "id": "ytVGxQzT7DQo"
      },
      "source": [
        "# **Deep Fake Voice Recognition**"
      ]
    },
    {
      "cell_type": "markdown",
      "source": [
        "# Import all Needed Libraries"
      ],
      "metadata": {
        "id": "iaqz3bgWsK9M"
      }
    },
    {
      "cell_type": "code",
      "execution_count": 85,
      "metadata": {
        "id": "ks8LBIIY7Om3"
      },
      "outputs": [],
      "source": [
        "#To upload data zipfile\n",
        "from google.colab import files\n",
        "import zipfile\n",
        "import os\n",
        "import numpy as np\n",
        "\n",
        "#To load and read file\n",
        "import pandas as pd\n",
        "\n",
        "#To encode LABEL Column\n",
        "from sklearn.preprocessing import LabelEncoder\n",
        "\n",
        "#To split data into training and testing sets\n",
        "from sklearn.model_selection import train_test_split\n",
        "\n",
        "#To scale data\n",
        "from sklearn.preprocessing import RobustScaler"
      ]
    },
    {
      "cell_type": "code",
      "source": [
        "#To build the model\n",
        "from sklearn.neural_network import MLPClassifier\n",
        "\n",
        "from sklearn.metrics import accuracy_score, classification_report, confusion_matrix, log_loss\n",
        "\n",
        "#To plot the loss curves\n",
        "import matplotlib.pyplot as plt\n",
        "\n",
        "#To predict label of new audio\n",
        "import librosa\n",
        "import joblib"
      ],
      "metadata": {
        "id": "CZmqUWXpC6Gm"
      },
      "execution_count": 86,
      "outputs": []
    },
    {
      "cell_type": "code",
      "source": [
        "#Grid Search in hyperparameter tuning\n",
        "from sklearn.model_selection import GridSearchCV\n",
        "\n",
        "from sklearn.pipeline import make_pipeline"
      ],
      "metadata": {
        "id": "FYisigzkBwVd"
      },
      "execution_count": 87,
      "outputs": []
    },
    {
      "cell_type": "code",
      "source": [
        "#LSTM Model\n",
        "from tensorflow.keras.models import Sequential\n",
        "from tensorflow.keras.layers import LSTM, Dense, Dropout, Input"
      ],
      "metadata": {
        "id": "9939jdn0C3_e"
      },
      "execution_count": 88,
      "outputs": []
    },
    {
      "cell_type": "code",
      "source": [
        "#Transfer Learning\n",
        "import tensorflow as tf\n",
        "import tensorflow_hub as hub\n",
        "from tensorflow.keras import layers, models"
      ],
      "metadata": {
        "id": "1v6-phY3Fgvn"
      },
      "execution_count": 89,
      "outputs": []
    },
    {
      "cell_type": "markdown",
      "metadata": {
        "id": "dbliWQZx7ZrB"
      },
      "source": [
        "#Load Data"
      ]
    },
    {
      "cell_type": "markdown",
      "metadata": {
        "id": "GSvYNo1L7pxz"
      },
      "source": [
        "Load the csv file containing extracted features & unzip it"
      ]
    },
    {
      "cell_type": "code",
      "execution_count": 90,
      "metadata": {
        "colab": {
          "base_uri": "https://localhost:8080/",
          "height": 73
        },
        "id": "QUxVPAIp7b1o",
        "outputId": "98c78018-b562-4f09-831e-ffec1fd79133"
      },
      "outputs": [
        {
          "output_type": "display_data",
          "data": {
            "text/plain": [
              "<IPython.core.display.HTML object>"
            ],
            "text/html": [
              "\n",
              "     <input type=\"file\" id=\"files-b0c731ba-fb6a-4212-9497-6f6c14d5d36c\" name=\"files[]\" multiple disabled\n",
              "        style=\"border:none\" />\n",
              "     <output id=\"result-b0c731ba-fb6a-4212-9497-6f6c14d5d36c\">\n",
              "      Upload widget is only available when the cell has been executed in the\n",
              "      current browser session. Please rerun this cell to enable.\n",
              "      </output>\n",
              "      <script>// Copyright 2017 Google LLC\n",
              "//\n",
              "// Licensed under the Apache License, Version 2.0 (the \"License\");\n",
              "// you may not use this file except in compliance with the License.\n",
              "// You may obtain a copy of the License at\n",
              "//\n",
              "//      http://www.apache.org/licenses/LICENSE-2.0\n",
              "//\n",
              "// Unless required by applicable law or agreed to in writing, software\n",
              "// distributed under the License is distributed on an \"AS IS\" BASIS,\n",
              "// WITHOUT WARRANTIES OR CONDITIONS OF ANY KIND, either express or implied.\n",
              "// See the License for the specific language governing permissions and\n",
              "// limitations under the License.\n",
              "\n",
              "/**\n",
              " * @fileoverview Helpers for google.colab Python module.\n",
              " */\n",
              "(function(scope) {\n",
              "function span(text, styleAttributes = {}) {\n",
              "  const element = document.createElement('span');\n",
              "  element.textContent = text;\n",
              "  for (const key of Object.keys(styleAttributes)) {\n",
              "    element.style[key] = styleAttributes[key];\n",
              "  }\n",
              "  return element;\n",
              "}\n",
              "\n",
              "// Max number of bytes which will be uploaded at a time.\n",
              "const MAX_PAYLOAD_SIZE = 100 * 1024;\n",
              "\n",
              "function _uploadFiles(inputId, outputId) {\n",
              "  const steps = uploadFilesStep(inputId, outputId);\n",
              "  const outputElement = document.getElementById(outputId);\n",
              "  // Cache steps on the outputElement to make it available for the next call\n",
              "  // to uploadFilesContinue from Python.\n",
              "  outputElement.steps = steps;\n",
              "\n",
              "  return _uploadFilesContinue(outputId);\n",
              "}\n",
              "\n",
              "// This is roughly an async generator (not supported in the browser yet),\n",
              "// where there are multiple asynchronous steps and the Python side is going\n",
              "// to poll for completion of each step.\n",
              "// This uses a Promise to block the python side on completion of each step,\n",
              "// then passes the result of the previous step as the input to the next step.\n",
              "function _uploadFilesContinue(outputId) {\n",
              "  const outputElement = document.getElementById(outputId);\n",
              "  const steps = outputElement.steps;\n",
              "\n",
              "  const next = steps.next(outputElement.lastPromiseValue);\n",
              "  return Promise.resolve(next.value.promise).then((value) => {\n",
              "    // Cache the last promise value to make it available to the next\n",
              "    // step of the generator.\n",
              "    outputElement.lastPromiseValue = value;\n",
              "    return next.value.response;\n",
              "  });\n",
              "}\n",
              "\n",
              "/**\n",
              " * Generator function which is called between each async step of the upload\n",
              " * process.\n",
              " * @param {string} inputId Element ID of the input file picker element.\n",
              " * @param {string} outputId Element ID of the output display.\n",
              " * @return {!Iterable<!Object>} Iterable of next steps.\n",
              " */\n",
              "function* uploadFilesStep(inputId, outputId) {\n",
              "  const inputElement = document.getElementById(inputId);\n",
              "  inputElement.disabled = false;\n",
              "\n",
              "  const outputElement = document.getElementById(outputId);\n",
              "  outputElement.innerHTML = '';\n",
              "\n",
              "  const pickedPromise = new Promise((resolve) => {\n",
              "    inputElement.addEventListener('change', (e) => {\n",
              "      resolve(e.target.files);\n",
              "    });\n",
              "  });\n",
              "\n",
              "  const cancel = document.createElement('button');\n",
              "  inputElement.parentElement.appendChild(cancel);\n",
              "  cancel.textContent = 'Cancel upload';\n",
              "  const cancelPromise = new Promise((resolve) => {\n",
              "    cancel.onclick = () => {\n",
              "      resolve(null);\n",
              "    };\n",
              "  });\n",
              "\n",
              "  // Wait for the user to pick the files.\n",
              "  const files = yield {\n",
              "    promise: Promise.race([pickedPromise, cancelPromise]),\n",
              "    response: {\n",
              "      action: 'starting',\n",
              "    }\n",
              "  };\n",
              "\n",
              "  cancel.remove();\n",
              "\n",
              "  // Disable the input element since further picks are not allowed.\n",
              "  inputElement.disabled = true;\n",
              "\n",
              "  if (!files) {\n",
              "    return {\n",
              "      response: {\n",
              "        action: 'complete',\n",
              "      }\n",
              "    };\n",
              "  }\n",
              "\n",
              "  for (const file of files) {\n",
              "    const li = document.createElement('li');\n",
              "    li.append(span(file.name, {fontWeight: 'bold'}));\n",
              "    li.append(span(\n",
              "        `(${file.type || 'n/a'}) - ${file.size} bytes, ` +\n",
              "        `last modified: ${\n",
              "            file.lastModifiedDate ? file.lastModifiedDate.toLocaleDateString() :\n",
              "                                    'n/a'} - `));\n",
              "    const percent = span('0% done');\n",
              "    li.appendChild(percent);\n",
              "\n",
              "    outputElement.appendChild(li);\n",
              "\n",
              "    const fileDataPromise = new Promise((resolve) => {\n",
              "      const reader = new FileReader();\n",
              "      reader.onload = (e) => {\n",
              "        resolve(e.target.result);\n",
              "      };\n",
              "      reader.readAsArrayBuffer(file);\n",
              "    });\n",
              "    // Wait for the data to be ready.\n",
              "    let fileData = yield {\n",
              "      promise: fileDataPromise,\n",
              "      response: {\n",
              "        action: 'continue',\n",
              "      }\n",
              "    };\n",
              "\n",
              "    // Use a chunked sending to avoid message size limits. See b/62115660.\n",
              "    let position = 0;\n",
              "    do {\n",
              "      const length = Math.min(fileData.byteLength - position, MAX_PAYLOAD_SIZE);\n",
              "      const chunk = new Uint8Array(fileData, position, length);\n",
              "      position += length;\n",
              "\n",
              "      const base64 = btoa(String.fromCharCode.apply(null, chunk));\n",
              "      yield {\n",
              "        response: {\n",
              "          action: 'append',\n",
              "          file: file.name,\n",
              "          data: base64,\n",
              "        },\n",
              "      };\n",
              "\n",
              "      let percentDone = fileData.byteLength === 0 ?\n",
              "          100 :\n",
              "          Math.round((position / fileData.byteLength) * 100);\n",
              "      percent.textContent = `${percentDone}% done`;\n",
              "\n",
              "    } while (position < fileData.byteLength);\n",
              "  }\n",
              "\n",
              "  // All done.\n",
              "  yield {\n",
              "    response: {\n",
              "      action: 'complete',\n",
              "    }\n",
              "  };\n",
              "}\n",
              "\n",
              "scope.google = scope.google || {};\n",
              "scope.google.colab = scope.google.colab || {};\n",
              "scope.google.colab._files = {\n",
              "  _uploadFiles,\n",
              "  _uploadFilesContinue,\n",
              "};\n",
              "})(self);\n",
              "</script> "
            ]
          },
          "metadata": {}
        },
        {
          "output_type": "stream",
          "name": "stdout",
          "text": [
            "Saving dataset.zip to dataset (1).zip\n"
          ]
        }
      ],
      "source": [
        "uploaded_csv = files.upload()\n",
        "\n",
        "zip_path = list(uploaded_csv.keys())[0]\n",
        "with zipfile.ZipFile(zip_path, 'r') as zip_ref:\n",
        "    zip_ref.extractall('/content/')"
      ]
    },
    {
      "cell_type": "markdown",
      "metadata": {
        "id": "_mdaqmlR7ukB"
      },
      "source": [
        "Read the csv file & Display its information"
      ]
    },
    {
      "cell_type": "code",
      "execution_count": 91,
      "metadata": {
        "colab": {
          "base_uri": "https://localhost:8080/"
        },
        "id": "iSIEkzeG7x0x",
        "outputId": "4ce8c763-f587-4238-f5aa-c0c18995d1e5"
      },
      "outputs": [
        {
          "output_type": "stream",
          "name": "stdout",
          "text": [
            "   chroma_stft       rms  spectral_centroid  spectral_bandwidth      rolloff  \\\n",
            "0     0.338055  0.027948        2842.948867         4322.916759  6570.586186   \n",
            "1     0.443766  0.037838        2336.129597         3445.777044  3764.949874   \n",
            "2     0.302528  0.056578        2692.988386         2861.133180  4716.610271   \n",
            "3     0.319933  0.031504        2241.665382         3503.766175  3798.641521   \n",
            "4     0.420055  0.016158        2526.069123         3102.659519  5025.077899   \n",
            "\n",
            "   zero_crossing_rate       mfcc1       mfcc2      mfcc3      mfcc4  ...  \\\n",
            "0            0.041050 -462.169586   90.311272  19.073769  24.046888  ...   \n",
            "1            0.047730 -409.413422  120.348808  -7.161531   5.114784  ...   \n",
            "2            0.080342 -318.996033  120.490273 -24.625771  23.891073  ...   \n",
            "3            0.047180 -404.636749  136.320908   2.308172  -3.907071  ...   \n",
            "4            0.051905 -410.497925  152.731400 -18.266771  51.993462  ...   \n",
            "\n",
            "     mfcc12    mfcc13    mfcc14    mfcc15    mfcc16    mfcc17    mfcc18  \\\n",
            "0 -6.686564  0.902086 -7.251551 -1.198342  4.747403 -4.986279  0.953935   \n",
            "1 -2.131157 -6.876417 -1.359395  0.326401 -5.420016 -2.109968 -1.757634   \n",
            "2 -5.853725 -3.724773 -6.627182 -5.117002 -6.072106 -0.994653 -1.617120   \n",
            "3 -1.898315 -2.046493 -7.176277 -3.293508  4.209121  0.121835 -5.407063   \n",
            "4 -1.952340  0.810868  6.238493  6.555839  7.535542  2.849219  2.616843   \n",
            "\n",
            "     mfcc19    mfcc20  LABEL  \n",
            "0 -5.013138 -6.779060   FAKE  \n",
            "1 -9.537907 -8.494421   FAKE  \n",
            "2 -3.922354 -7.033001   FAKE  \n",
            "3 -3.654926 -3.274857   FAKE  \n",
            "4 -1.793357 -5.060998   FAKE  \n",
            "\n",
            "[5 rows x 27 columns]\n",
            "LABEL\n",
            "FAKE    5889\n",
            "REAL    5889\n",
            "Name: count, dtype: int64\n"
          ]
        }
      ],
      "source": [
        "csv_path = '/content/DATASET-balanced.csv'\n",
        "df = pd.read_csv(csv_path)\n",
        "\n",
        "# Display the first few rows of the DataFrame\n",
        "print(df.head())\n",
        "\n",
        "# Count the number of rows for each label\n",
        "label_counts = df['LABEL'].value_counts()\n",
        "print(label_counts)"
      ]
    },
    {
      "cell_type": "markdown",
      "metadata": {
        "id": "szU4Kdes7_7y"
      },
      "source": [
        "#Preprocessing Data"
      ]
    },
    {
      "cell_type": "markdown",
      "metadata": {
        "id": "xHhwG8iz8CZG"
      },
      "source": [
        "Checking for Null Values"
      ]
    },
    {
      "cell_type": "code",
      "execution_count": 92,
      "metadata": {
        "colab": {
          "base_uri": "https://localhost:8080/"
        },
        "id": "GR8MAtn-8BXy",
        "outputId": "953fa1c2-1c63-4fba-bcad-90c0588ff8dc"
      },
      "outputs": [
        {
          "output_type": "stream",
          "name": "stdout",
          "text": [
            "chroma_stft           0\n",
            "rms                   0\n",
            "spectral_centroid     0\n",
            "spectral_bandwidth    0\n",
            "rolloff               0\n",
            "zero_crossing_rate    0\n",
            "mfcc1                 0\n",
            "mfcc2                 0\n",
            "mfcc3                 0\n",
            "mfcc4                 0\n",
            "mfcc5                 0\n",
            "mfcc6                 0\n",
            "mfcc7                 0\n",
            "mfcc8                 0\n",
            "mfcc9                 0\n",
            "mfcc10                0\n",
            "mfcc11                0\n",
            "mfcc12                0\n",
            "mfcc13                0\n",
            "mfcc14                0\n",
            "mfcc15                0\n",
            "mfcc16                0\n",
            "mfcc17                0\n",
            "mfcc18                0\n",
            "mfcc19                0\n",
            "mfcc20                0\n",
            "LABEL                 0\n",
            "dtype: int64\n"
          ]
        }
      ],
      "source": [
        "print(df.isnull().sum())"
      ]
    },
    {
      "cell_type": "markdown",
      "metadata": {
        "id": "4WEwgiOK8Irp"
      },
      "source": [
        "Drop duplicated rows if there are any"
      ]
    },
    {
      "cell_type": "code",
      "execution_count": 93,
      "metadata": {
        "id": "Zgr-8DrY8Nla"
      },
      "outputs": [],
      "source": [
        "df = df.drop_duplicates()"
      ]
    },
    {
      "cell_type": "markdown",
      "metadata": {
        "id": "gNOMs7a_8RLf"
      },
      "source": [
        "Encoding LABEL Column: 0 for FAKE and 1 for REAL"
      ]
    },
    {
      "cell_type": "code",
      "execution_count": 94,
      "metadata": {
        "colab": {
          "base_uri": "https://localhost:8080/"
        },
        "id": "hSQ5xS-B8Tx9",
        "outputId": "bb89e225-c7af-4b79-84b2-16319e921d3c"
      },
      "outputs": [
        {
          "output_type": "stream",
          "name": "stdout",
          "text": [
            "LABEL ['FAKE' 'REAL']\n",
            "      LABEL  LABEL_encoded\n",
            "0      FAKE              0\n",
            "1      FAKE              0\n",
            "2      FAKE              0\n",
            "3      FAKE              0\n",
            "4      FAKE              0\n",
            "...     ...            ...\n",
            "11773  REAL              1\n",
            "11774  REAL              1\n",
            "11775  REAL              1\n",
            "11776  REAL              1\n",
            "11777  REAL              1\n",
            "\n",
            "[11778 rows x 2 columns]\n"
          ]
        }
      ],
      "source": [
        "def label_encoder(column):\n",
        "    le = LabelEncoder().fit(column)\n",
        "    print(column.name, le.classes_)\n",
        "    return le.transform(column)\n",
        "\n",
        "df['LABEL_encoded'] = label_encoder(df['LABEL'])\n",
        "print(df[['LABEL', 'LABEL_encoded']])"
      ]
    },
    {
      "cell_type": "markdown",
      "metadata": {
        "id": "samwnq0C8gtA"
      },
      "source": [
        "#Splitting Data and Scaling the Sets"
      ]
    },
    {
      "cell_type": "markdown",
      "metadata": {
        "id": "l0XcmRmSCzft"
      },
      "source": [
        "Defining X (feature) and Y (target) vectors"
      ]
    },
    {
      "cell_type": "code",
      "execution_count": 95,
      "metadata": {
        "id": "d9AGJEgy8o2D"
      },
      "outputs": [],
      "source": [
        "X = df.iloc[:, :-2].values\n",
        "y = df['LABEL_encoded'].values"
      ]
    },
    {
      "cell_type": "markdown",
      "metadata": {
        "id": "OCUh17c4C6G1"
      },
      "source": [
        "Scaling and Splitting the data into training(80%), validating(10%), and testing(10%) sets"
      ]
    },
    {
      "cell_type": "code",
      "execution_count": 96,
      "metadata": {
        "id": "lqASXa3ZLJcf",
        "colab": {
          "base_uri": "https://localhost:8080/"
        },
        "outputId": "f58b2f36-8c63-4964-fad7-a8cebfecfe2a"
      },
      "outputs": [
        {
          "output_type": "stream",
          "name": "stdout",
          "text": [
            "Training set size: 9422\n",
            "Validation set size: 1178\n",
            "Test set size: 1178\n"
          ]
        }
      ],
      "source": [
        "X_train, X_temp, y_train, y_temp = train_test_split(X, y, test_size=0.2, random_state=42, stratify=y)\n",
        "\n",
        "X_val, X_test, y_val, y_test = train_test_split(X_temp, y_temp, test_size=0.5, random_state=42, stratify=y_temp)\n",
        "\n",
        "print(f\"Training set size: {len(X_train)}\")\n",
        "print(f\"Validation set size: {len(X_val)}\")\n",
        "print(f\"Test set size: {len(X_test)}\")\n",
        "\n",
        "scaler = RobustScaler()\n",
        "\n",
        "X_train_scaled = scaler.fit_transform(X_train)\n",
        "X_val_scaled = scaler.transform(X_val)\n",
        "X_test_scaled = scaler.transform(X_test)"
      ]
    },
    {
      "cell_type": "markdown",
      "metadata": {
        "id": "uAAGZvFM8vfx"
      },
      "source": [
        "#Building the Model"
      ]
    },
    {
      "cell_type": "markdown",
      "metadata": {
        "id": "2XVPodGGXl0M"
      },
      "source": [
        "Build the MLPClassifier model & Train it on training and validating sets"
      ]
    },
    {
      "cell_type": "code",
      "execution_count": 97,
      "metadata": {
        "colab": {
          "base_uri": "https://localhost:8080/"
        },
        "id": "38jbUWTMKoQ3",
        "outputId": "12eb2c08-1b45-4e37-e396-f6e25fa64824"
      },
      "outputs": [
        {
          "output_type": "stream",
          "name": "stdout",
          "text": [
            "Iteration 1/100 - Train Accuracy: 0.8639, Train Loss: 0.3778, Validation Accuracy: 0.8531, Validation Loss: 0.3873\n",
            "Iteration 2/100 - Train Accuracy: 0.9442, Train Loss: 0.2100, Validation Accuracy: 0.9312, Validation Loss: 0.2224\n",
            "Iteration 3/100 - Train Accuracy: 0.9679, Train Loss: 0.1270, Validation Accuracy: 0.9635, Validation Loss: 0.1384\n",
            "Iteration 4/100 - Train Accuracy: 0.9769, Train Loss: 0.0873, Validation Accuracy: 0.9703, Validation Loss: 0.0990\n",
            "Iteration 5/100 - Train Accuracy: 0.9820, Train Loss: 0.0661, Validation Accuracy: 0.9737, Validation Loss: 0.0769\n",
            "Iteration 6/100 - Train Accuracy: 0.9863, Train Loss: 0.0536, Validation Accuracy: 0.9779, Validation Loss: 0.0636\n",
            "Iteration 7/100 - Train Accuracy: 0.9879, Train Loss: 0.0453, Validation Accuracy: 0.9796, Validation Loss: 0.0545\n",
            "Iteration 8/100 - Train Accuracy: 0.9897, Train Loss: 0.0392, Validation Accuracy: 0.9813, Validation Loss: 0.0478\n",
            "Iteration 9/100 - Train Accuracy: 0.9911, Train Loss: 0.0346, Validation Accuracy: 0.9839, Validation Loss: 0.0428\n",
            "Iteration 10/100 - Train Accuracy: 0.9913, Train Loss: 0.0309, Validation Accuracy: 0.9856, Validation Loss: 0.0389\n",
            "Iteration 11/100 - Train Accuracy: 0.9923, Train Loss: 0.0278, Validation Accuracy: 0.9881, Validation Loss: 0.0359\n",
            "Iteration 12/100 - Train Accuracy: 0.9928, Train Loss: 0.0252, Validation Accuracy: 0.9898, Validation Loss: 0.0336\n",
            "Iteration 13/100 - Train Accuracy: 0.9935, Train Loss: 0.0229, Validation Accuracy: 0.9898, Validation Loss: 0.0318\n",
            "Iteration 14/100 - Train Accuracy: 0.9945, Train Loss: 0.0209, Validation Accuracy: 0.9898, Validation Loss: 0.0302\n",
            "Iteration 15/100 - Train Accuracy: 0.9951, Train Loss: 0.0192, Validation Accuracy: 0.9898, Validation Loss: 0.0290\n",
            "Iteration 16/100 - Train Accuracy: 0.9960, Train Loss: 0.0177, Validation Accuracy: 0.9898, Validation Loss: 0.0279\n",
            "Iteration 17/100 - Train Accuracy: 0.9964, Train Loss: 0.0164, Validation Accuracy: 0.9907, Validation Loss: 0.0272\n",
            "Iteration 18/100 - Train Accuracy: 0.9966, Train Loss: 0.0151, Validation Accuracy: 0.9907, Validation Loss: 0.0265\n",
            "Iteration 19/100 - Train Accuracy: 0.9968, Train Loss: 0.0141, Validation Accuracy: 0.9907, Validation Loss: 0.0258\n",
            "Iteration 20/100 - Train Accuracy: 0.9972, Train Loss: 0.0131, Validation Accuracy: 0.9898, Validation Loss: 0.0254\n",
            "Iteration 21/100 - Train Accuracy: 0.9972, Train Loss: 0.0122, Validation Accuracy: 0.9907, Validation Loss: 0.0249\n",
            "Iteration 22/100 - Train Accuracy: 0.9977, Train Loss: 0.0114, Validation Accuracy: 0.9915, Validation Loss: 0.0246\n",
            "Iteration 23/100 - Train Accuracy: 0.9983, Train Loss: 0.0108, Validation Accuracy: 0.9915, Validation Loss: 0.0244\n",
            "Iteration 24/100 - Train Accuracy: 0.9984, Train Loss: 0.0101, Validation Accuracy: 0.9924, Validation Loss: 0.0244\n",
            "Iteration 25/100 - Train Accuracy: 0.9984, Train Loss: 0.0096, Validation Accuracy: 0.9924, Validation Loss: 0.0244\n",
            "Iteration 26/100 - Train Accuracy: 0.9985, Train Loss: 0.0090, Validation Accuracy: 0.9924, Validation Loss: 0.0242\n",
            "Iteration 27/100 - Train Accuracy: 0.9985, Train Loss: 0.0085, Validation Accuracy: 0.9932, Validation Loss: 0.0243\n",
            "Iteration 28/100 - Train Accuracy: 0.9986, Train Loss: 0.0080, Validation Accuracy: 0.9932, Validation Loss: 0.0242\n",
            "Iteration 29/100 - Train Accuracy: 0.9985, Train Loss: 0.0075, Validation Accuracy: 0.9932, Validation Loss: 0.0242\n",
            "Iteration 30/100 - Train Accuracy: 0.9986, Train Loss: 0.0071, Validation Accuracy: 0.9932, Validation Loss: 0.0242\n",
            "Iteration 31/100 - Train Accuracy: 0.9986, Train Loss: 0.0066, Validation Accuracy: 0.9932, Validation Loss: 0.0242\n",
            "Iteration 32/100 - Train Accuracy: 0.9986, Train Loss: 0.0062, Validation Accuracy: 0.9932, Validation Loss: 0.0243\n",
            "Iteration 33/100 - Train Accuracy: 0.9986, Train Loss: 0.0057, Validation Accuracy: 0.9932, Validation Loss: 0.0243\n",
            "Iteration 34/100 - Train Accuracy: 0.9987, Train Loss: 0.0054, Validation Accuracy: 0.9932, Validation Loss: 0.0245\n",
            "Iteration 35/100 - Train Accuracy: 0.9988, Train Loss: 0.0050, Validation Accuracy: 0.9932, Validation Loss: 0.0245\n",
            "Iteration 36/100 - Train Accuracy: 0.9989, Train Loss: 0.0046, Validation Accuracy: 0.9932, Validation Loss: 0.0246\n",
            "Iteration 37/100 - Train Accuracy: 0.9989, Train Loss: 0.0043, Validation Accuracy: 0.9932, Validation Loss: 0.0247\n",
            "Iteration 38/100 - Train Accuracy: 0.9990, Train Loss: 0.0040, Validation Accuracy: 0.9932, Validation Loss: 0.0248\n",
            "Iteration 39/100 - Train Accuracy: 0.9993, Train Loss: 0.0038, Validation Accuracy: 0.9941, Validation Loss: 0.0249\n",
            "Iteration 40/100 - Train Accuracy: 0.9994, Train Loss: 0.0036, Validation Accuracy: 0.9941, Validation Loss: 0.0249\n",
            "Iteration 41/100 - Train Accuracy: 0.9994, Train Loss: 0.0033, Validation Accuracy: 0.9941, Validation Loss: 0.0250\n",
            "Iteration 42/100 - Train Accuracy: 0.9994, Train Loss: 0.0031, Validation Accuracy: 0.9941, Validation Loss: 0.0251\n",
            "Iteration 43/100 - Train Accuracy: 0.9994, Train Loss: 0.0030, Validation Accuracy: 0.9932, Validation Loss: 0.0252\n",
            "Iteration 44/100 - Train Accuracy: 0.9994, Train Loss: 0.0028, Validation Accuracy: 0.9932, Validation Loss: 0.0254\n",
            "Iteration 45/100 - Train Accuracy: 0.9995, Train Loss: 0.0027, Validation Accuracy: 0.9932, Validation Loss: 0.0254\n",
            "Iteration 46/100 - Train Accuracy: 0.9996, Train Loss: 0.0026, Validation Accuracy: 0.9932, Validation Loss: 0.0255\n",
            "Iteration 47/100 - Train Accuracy: 0.9996, Train Loss: 0.0025, Validation Accuracy: 0.9932, Validation Loss: 0.0255\n",
            "Iteration 48/100 - Train Accuracy: 0.9997, Train Loss: 0.0024, Validation Accuracy: 0.9932, Validation Loss: 0.0256\n",
            "Iteration 49/100 - Train Accuracy: 0.9997, Train Loss: 0.0022, Validation Accuracy: 0.9932, Validation Loss: 0.0257\n",
            "Iteration 50/100 - Train Accuracy: 0.9997, Train Loss: 0.0021, Validation Accuracy: 0.9932, Validation Loss: 0.0257\n",
            "Iteration 51/100 - Train Accuracy: 0.9998, Train Loss: 0.0020, Validation Accuracy: 0.9932, Validation Loss: 0.0257\n",
            "Iteration 52/100 - Train Accuracy: 0.9998, Train Loss: 0.0019, Validation Accuracy: 0.9941, Validation Loss: 0.0256\n",
            "Iteration 53/100 - Train Accuracy: 0.9998, Train Loss: 0.0018, Validation Accuracy: 0.9941, Validation Loss: 0.0255\n",
            "Iteration 54/100 - Train Accuracy: 0.9998, Train Loss: 0.0017, Validation Accuracy: 0.9941, Validation Loss: 0.0254\n",
            "Iteration 55/100 - Train Accuracy: 0.9998, Train Loss: 0.0016, Validation Accuracy: 0.9941, Validation Loss: 0.0254\n",
            "Iteration 56/100 - Train Accuracy: 0.9998, Train Loss: 0.0015, Validation Accuracy: 0.9941, Validation Loss: 0.0252\n",
            "Iteration 57/100 - Train Accuracy: 0.9998, Train Loss: 0.0014, Validation Accuracy: 0.9941, Validation Loss: 0.0251\n",
            "Iteration 58/100 - Train Accuracy: 0.9999, Train Loss: 0.0013, Validation Accuracy: 0.9941, Validation Loss: 0.0250\n",
            "Iteration 59/100 - Train Accuracy: 0.9999, Train Loss: 0.0011, Validation Accuracy: 0.9941, Validation Loss: 0.0248\n",
            "Iteration 60/100 - Train Accuracy: 0.9999, Train Loss: 0.0011, Validation Accuracy: 0.9941, Validation Loss: 0.0247\n",
            "Iteration 61/100 - Train Accuracy: 0.9999, Train Loss: 0.0010, Validation Accuracy: 0.9941, Validation Loss: 0.0245\n",
            "Iteration 62/100 - Train Accuracy: 0.9999, Train Loss: 0.0009, Validation Accuracy: 0.9941, Validation Loss: 0.0245\n",
            "Iteration 63/100 - Train Accuracy: 0.9999, Train Loss: 0.0008, Validation Accuracy: 0.9941, Validation Loss: 0.0244\n",
            "Iteration 64/100 - Train Accuracy: 0.9999, Train Loss: 0.0007, Validation Accuracy: 0.9941, Validation Loss: 0.0243\n",
            "Iteration 65/100 - Train Accuracy: 0.9999, Train Loss: 0.0007, Validation Accuracy: 0.9941, Validation Loss: 0.0243\n",
            "Iteration 66/100 - Train Accuracy: 0.9999, Train Loss: 0.0006, Validation Accuracy: 0.9941, Validation Loss: 0.0242\n",
            "Iteration 67/100 - Train Accuracy: 1.0000, Train Loss: 0.0006, Validation Accuracy: 0.9941, Validation Loss: 0.0243\n",
            "Iteration 68/100 - Train Accuracy: 1.0000, Train Loss: 0.0005, Validation Accuracy: 0.9941, Validation Loss: 0.0243\n",
            "Iteration 69/100 - Train Accuracy: 1.0000, Train Loss: 0.0005, Validation Accuracy: 0.9941, Validation Loss: 0.0243\n",
            "Iteration 70/100 - Train Accuracy: 1.0000, Train Loss: 0.0005, Validation Accuracy: 0.9941, Validation Loss: 0.0242\n",
            "Iteration 71/100 - Train Accuracy: 1.0000, Train Loss: 0.0004, Validation Accuracy: 0.9941, Validation Loss: 0.0242\n",
            "Iteration 72/100 - Train Accuracy: 1.0000, Train Loss: 0.0004, Validation Accuracy: 0.9941, Validation Loss: 0.0243\n",
            "Iteration 73/100 - Train Accuracy: 1.0000, Train Loss: 0.0004, Validation Accuracy: 0.9941, Validation Loss: 0.0244\n",
            "Iteration 74/100 - Train Accuracy: 1.0000, Train Loss: 0.0004, Validation Accuracy: 0.9941, Validation Loss: 0.0244\n",
            "Iteration 75/100 - Train Accuracy: 1.0000, Train Loss: 0.0004, Validation Accuracy: 0.9941, Validation Loss: 0.0244\n",
            "Iteration 76/100 - Train Accuracy: 1.0000, Train Loss: 0.0003, Validation Accuracy: 0.9941, Validation Loss: 0.0245\n",
            "Iteration 77/100 - Train Accuracy: 1.0000, Train Loss: 0.0003, Validation Accuracy: 0.9941, Validation Loss: 0.0245\n",
            "Iteration 78/100 - Train Accuracy: 1.0000, Train Loss: 0.0003, Validation Accuracy: 0.9941, Validation Loss: 0.0245\n",
            "Iteration 79/100 - Train Accuracy: 1.0000, Train Loss: 0.0003, Validation Accuracy: 0.9941, Validation Loss: 0.0246\n",
            "Iteration 80/100 - Train Accuracy: 1.0000, Train Loss: 0.0003, Validation Accuracy: 0.9941, Validation Loss: 0.0247\n",
            "Iteration 81/100 - Train Accuracy: 1.0000, Train Loss: 0.0003, Validation Accuracy: 0.9941, Validation Loss: 0.0247\n",
            "Iteration 82/100 - Train Accuracy: 1.0000, Train Loss: 0.0003, Validation Accuracy: 0.9941, Validation Loss: 0.0248\n",
            "Iteration 83/100 - Train Accuracy: 1.0000, Train Loss: 0.0003, Validation Accuracy: 0.9941, Validation Loss: 0.0249\n",
            "Iteration 84/100 - Train Accuracy: 1.0000, Train Loss: 0.0003, Validation Accuracy: 0.9941, Validation Loss: 0.0250\n",
            "Iteration 85/100 - Train Accuracy: 1.0000, Train Loss: 0.0003, Validation Accuracy: 0.9941, Validation Loss: 0.0250\n",
            "Iteration 86/100 - Train Accuracy: 1.0000, Train Loss: 0.0002, Validation Accuracy: 0.9941, Validation Loss: 0.0252\n",
            "Iteration 87/100 - Train Accuracy: 1.0000, Train Loss: 0.0002, Validation Accuracy: 0.9941, Validation Loss: 0.0252\n",
            "Iteration 88/100 - Train Accuracy: 1.0000, Train Loss: 0.0002, Validation Accuracy: 0.9941, Validation Loss: 0.0253\n",
            "Iteration 89/100 - Train Accuracy: 1.0000, Train Loss: 0.0002, Validation Accuracy: 0.9941, Validation Loss: 0.0253\n",
            "Iteration 90/100 - Train Accuracy: 1.0000, Train Loss: 0.0002, Validation Accuracy: 0.9941, Validation Loss: 0.0254\n",
            "Iteration 91/100 - Train Accuracy: 1.0000, Train Loss: 0.0002, Validation Accuracy: 0.9941, Validation Loss: 0.0255\n",
            "Iteration 92/100 - Train Accuracy: 1.0000, Train Loss: 0.0002, Validation Accuracy: 0.9941, Validation Loss: 0.0256\n",
            "Iteration 93/100 - Train Accuracy: 1.0000, Train Loss: 0.0002, Validation Accuracy: 0.9941, Validation Loss: 0.0257\n",
            "Iteration 94/100 - Train Accuracy: 1.0000, Train Loss: 0.0002, Validation Accuracy: 0.9941, Validation Loss: 0.0257\n",
            "Iteration 95/100 - Train Accuracy: 1.0000, Train Loss: 0.0002, Validation Accuracy: 0.9941, Validation Loss: 0.0258\n",
            "Iteration 96/100 - Train Accuracy: 1.0000, Train Loss: 0.0002, Validation Accuracy: 0.9941, Validation Loss: 0.0259\n",
            "Iteration 97/100 - Train Accuracy: 1.0000, Train Loss: 0.0002, Validation Accuracy: 0.9941, Validation Loss: 0.0260\n",
            "Iteration 98/100 - Train Accuracy: 1.0000, Train Loss: 0.0002, Validation Accuracy: 0.9941, Validation Loss: 0.0260\n",
            "Iteration 99/100 - Train Accuracy: 1.0000, Train Loss: 0.0002, Validation Accuracy: 0.9941, Validation Loss: 0.0261\n",
            "Iteration 100/100 - Train Accuracy: 1.0000, Train Loss: 0.0002, Validation Accuracy: 0.9941, Validation Loss: 0.0263\n",
            "Best Validation Accuracy: 0.9941\n"
          ]
        }
      ],
      "source": [
        "mlp_classifier = MLPClassifier(hidden_layer_sizes=( 64, 32),\n",
        "                               max_iter=100,\n",
        "                               solver='adam',\n",
        "                               learning_rate_init=0.001,\n",
        "                               alpha=0.001,\n",
        "                               validation_fraction=0.2,\n",
        "                               random_state=42)\n",
        "\n",
        "# To store training and validation values\n",
        "train_accuracies = []\n",
        "val_accuracies = []\n",
        "train_losses = []\n",
        "val_losses = []\n",
        "\n",
        "# To track the best validation accuracy and corresponding weights\n",
        "best_val_accuracy = 0\n",
        "best_weights = None\n",
        "best_intercepts = None\n",
        "\n",
        "n_iterations = 100\n",
        "\n",
        "for i in range(n_iterations):\n",
        "    mlp_classifier.partial_fit(X_train_scaled, y_train, classes=np.unique(y_train))\n",
        "\n",
        "    y_train_pred = mlp_classifier.predict(X_train_scaled)\n",
        "    y_val_pred = mlp_classifier.predict(X_val_scaled)\n",
        "\n",
        "    # Calculating training accuracy and loss\n",
        "    train_accuracy = accuracy_score(y_train, y_train_pred)\n",
        "    train_loss = log_loss(y_train, mlp_classifier.predict_proba(X_train_scaled))\n",
        "\n",
        "    # Calculating validation accuracy and loss\n",
        "    val_accuracy = accuracy_score(y_val, y_val_pred)\n",
        "    val_loss = log_loss(y_val, mlp_classifier.predict_proba(X_val_scaled))\n",
        "\n",
        "    # Storing the values\n",
        "    train_accuracies.append(train_accuracy)\n",
        "    val_accuracies.append(val_accuracy)\n",
        "    train_losses.append(train_loss)\n",
        "    val_losses.append(val_loss)\n",
        "\n",
        "    # Checking if this is best validation accuracy\n",
        "    if val_accuracy > best_val_accuracy:\n",
        "        best_val_accuracy = val_accuracy\n",
        "        best_weights = mlp_classifier.coefs_\n",
        "        best_intercepts = mlp_classifier.intercepts_\n",
        "\n",
        "    # Current iteration\n",
        "    print(f\"Iteration {i + 1}/{n_iterations} - \"\n",
        "          f\"Train Accuracy: {train_accuracy:.4f}, \"\n",
        "          f\"Train Loss: {train_loss:.4f}, \"\n",
        "          f\"Validation Accuracy: {val_accuracy:.4f}, \"\n",
        "          f\"Validation Loss: {val_loss:.4f}\")\n",
        "\n",
        "# After training, restore best weights and bias\n",
        "if best_weights is not None:\n",
        "    mlp_classifier.coefs_ = best_weights\n",
        "    mlp_classifier.intercepts_ = best_intercepts\n",
        "\n",
        "print(f\"Best Validation Accuracy: {best_val_accuracy:.4f}\")"
      ]
    },
    {
      "cell_type": "markdown",
      "metadata": {
        "id": "7t8-gtI99H4e"
      },
      "source": [
        "Make predictions on test set & Evaluate"
      ]
    },
    {
      "cell_type": "code",
      "execution_count": 98,
      "metadata": {
        "colab": {
          "base_uri": "https://localhost:8080/"
        },
        "id": "7Fx5wHNgP75e",
        "outputId": "3457474d-0235-4811-a4c5-e3c1b2994098"
      },
      "outputs": [
        {
          "output_type": "stream",
          "name": "stdout",
          "text": [
            "Test Accuracy: 0.9966, Test Loss: 0.0207\n"
          ]
        }
      ],
      "source": [
        "predictions = mlp_classifier.predict(X_test_scaled)\n",
        "\n",
        "test_accuracy = accuracy_score(y_test, predictions)\n",
        "test_loss = log_loss(y_test, mlp_classifier.predict_proba(X_test_scaled))\n",
        "\n",
        "print(f\"Test Accuracy: {test_accuracy:.4f}, Test Loss: {test_loss:.4f}\")"
      ]
    },
    {
      "cell_type": "code",
      "execution_count": 99,
      "metadata": {
        "colab": {
          "base_uri": "https://localhost:8080/"
        },
        "id": "65gf1Jjm9PRr",
        "outputId": "051dc52d-f65e-4999-8369-2c6e57b74b51"
      },
      "outputs": [
        {
          "output_type": "execute_result",
          "data": {
            "text/plain": [
              "['mlp_classifier.pkl']"
            ]
          },
          "metadata": {},
          "execution_count": 99
        }
      ],
      "source": [
        "# Save the trained model\n",
        "joblib.dump(mlp_classifier, 'mlp_classifier.pkl')"
      ]
    },
    {
      "cell_type": "code",
      "execution_count": 100,
      "metadata": {
        "colab": {
          "base_uri": "https://localhost:8080/"
        },
        "id": "MzjyT9N_9RV8",
        "outputId": "7d85c3e5-78c1-480d-e26e-1b5300cb748c"
      },
      "outputs": [
        {
          "output_type": "execute_result",
          "data": {
            "text/plain": [
              "['scaler.pkl']"
            ]
          },
          "metadata": {},
          "execution_count": 100
        }
      ],
      "source": [
        "# Save the scaler\n",
        "joblib.dump(scaler, 'scaler.pkl')"
      ]
    },
    {
      "cell_type": "markdown",
      "metadata": {
        "id": "su8PnW_i9SCQ"
      },
      "source": [
        "#Hyper Parameter Tuning"
      ]
    },
    {
      "cell_type": "markdown",
      "metadata": {
        "id": "5oLdwkHM9Wiw"
      },
      "source": [
        "Applying a grid search to find the best parameters (alpha, learning rate, max iterations)"
      ]
    },
    {
      "cell_type": "code",
      "execution_count": 101,
      "metadata": {
        "colab": {
          "base_uri": "https://localhost:8080/"
        },
        "id": "_TSRLw86RedR",
        "outputId": "99d34767-4baa-4916-d142-c08420c804be"
      },
      "outputs": [
        {
          "output_type": "stream",
          "name": "stdout",
          "text": [
            "Best parameters found:  {'mlpclassifier__alpha': 0.001, 'mlpclassifier__learning_rate_init': 0.01, 'mlpclassifier__max_iter': 150}\n",
            "Validation Set Performance:\n",
            "              precision    recall  f1-score   support\n",
            "\n",
            "           0       1.00      0.99      0.99       589\n",
            "           1       0.99      1.00      0.99       589\n",
            "\n",
            "    accuracy                           0.99      1178\n",
            "   macro avg       0.99      0.99      0.99      1178\n",
            "weighted avg       0.99      0.99      0.99      1178\n",
            "\n",
            "Test Set Performance:\n",
            "              precision    recall  f1-score   support\n",
            "\n",
            "           0       1.00      0.99      1.00       589\n",
            "           1       0.99      1.00      1.00       589\n",
            "\n",
            "    accuracy                           1.00      1178\n",
            "   macro avg       1.00      1.00      1.00      1178\n",
            "weighted avg       1.00      1.00      1.00      1178\n",
            "\n"
          ]
        }
      ],
      "source": [
        "# Create a pipeline with scaling and the MLPClassifier\n",
        "pipeline = make_pipeline(RobustScaler(), MLPClassifier(hidden_layer_sizes=(64, 32), random_state=42))\n",
        "\n",
        "# Define hyperparameter grid\n",
        "param_grid = {\n",
        "    'mlpclassifier__alpha': [0.0001, 0.001, 0.01],\n",
        "    'mlpclassifier__learning_rate_init': [0.001, 0.01, 0.1],\n",
        "    'mlpclassifier__max_iter': [150, 200, 250]\n",
        "}\n",
        "\n",
        "# Grid search with cross-validation on the training set\n",
        "grid_search = GridSearchCV(pipeline, param_grid, cv=5)\n",
        "grid_search.fit(X_train, y_train)\n",
        "\n",
        "# Get the best model\n",
        "best_model = grid_search.best_estimator_\n",
        "\n",
        "# Print the best parameters found\n",
        "print(\"Best parameters found: \", grid_search.best_params_)\n",
        "\n",
        "# Evaluate the best model on the validation set\n",
        "val_predictions = best_model.predict(X_val)\n",
        "print(\"Validation Set Performance:\")\n",
        "print(classification_report(y_val, val_predictions))\n",
        "\n",
        "# Evaluate on the test set\n",
        "test_predictions = best_model.predict(X_test)\n",
        "best_test_accuracy = accuracy_score(y_test, test_predictions)\n",
        "best_test_loss = log_loss(y_test, best_model.predict_proba(X_test))\n",
        "\n",
        "print(\"Test Set Performance:\")\n",
        "print(classification_report(y_test, test_predictions))"
      ]
    },
    {
      "cell_type": "markdown",
      "source": [
        "Compare test accuracies and losses between First & Best Models to determine which is better"
      ],
      "metadata": {
        "id": "UpbGSiFkvIe4"
      }
    },
    {
      "cell_type": "code",
      "execution_count": 102,
      "metadata": {
        "colab": {
          "base_uri": "https://localhost:8080/"
        },
        "id": "hi_3sYP1VezS",
        "outputId": "0d320695-9e46-41f6-e657-08db95176328"
      },
      "outputs": [
        {
          "output_type": "stream",
          "name": "stdout",
          "text": [
            "First Model Test Accuracy: 0.9966, Test Loss: 0.0207\n",
            "Best Model Test Accuracy: 0.9966, Test Loss: 0.0230\n",
            "The first model is better than the best model based on test accuracy.\n"
          ]
        }
      ],
      "source": [
        "print(f\"First Model Test Accuracy: {test_accuracy:.4f}, Test Loss: {test_loss:.4f}\")\n",
        "print(f\"Best Model Test Accuracy: {best_test_accuracy:.4f}, Test Loss: {best_test_loss:.4f}\")\n",
        "\n",
        "if best_test_accuracy > test_accuracy:\n",
        "    print(\"The best model is better than the first model based on test accuracy.\")\n",
        "else:\n",
        "    print(\"The first model is better than the best model based on test accuracy.\")"
      ]
    },
    {
      "cell_type": "markdown",
      "metadata": {
        "id": "DDTtS70g91mN"
      },
      "source": [
        "#Predict the Label of a New Audio"
      ]
    },
    {
      "cell_type": "markdown",
      "metadata": {
        "id": "557C3oBBIj-I"
      },
      "source": [
        "Split a raw audio file into segments & Extract features"
      ]
    },
    {
      "cell_type": "code",
      "source": [
        "uploaded = files.upload()\n",
        "\n",
        "audio_file = list(uploaded.keys())[0]\n",
        "\n",
        "y, sr = librosa.load(audio_file, sr=None)"
      ],
      "metadata": {
        "colab": {
          "base_uri": "https://localhost:8080/",
          "height": 73
        },
        "id": "8ZNfNIS0uNc7",
        "outputId": "3d7f5ef5-bc27-4112-83e8-bc512b4e9730"
      },
      "execution_count": 103,
      "outputs": [
        {
          "output_type": "display_data",
          "data": {
            "text/plain": [
              "<IPython.core.display.HTML object>"
            ],
            "text/html": [
              "\n",
              "     <input type=\"file\" id=\"files-5d11475f-138e-4f37-ab48-24a34a8474b1\" name=\"files[]\" multiple disabled\n",
              "        style=\"border:none\" />\n",
              "     <output id=\"result-5d11475f-138e-4f37-ab48-24a34a8474b1\">\n",
              "      Upload widget is only available when the cell has been executed in the\n",
              "      current browser session. Please rerun this cell to enable.\n",
              "      </output>\n",
              "      <script>// Copyright 2017 Google LLC\n",
              "//\n",
              "// Licensed under the Apache License, Version 2.0 (the \"License\");\n",
              "// you may not use this file except in compliance with the License.\n",
              "// You may obtain a copy of the License at\n",
              "//\n",
              "//      http://www.apache.org/licenses/LICENSE-2.0\n",
              "//\n",
              "// Unless required by applicable law or agreed to in writing, software\n",
              "// distributed under the License is distributed on an \"AS IS\" BASIS,\n",
              "// WITHOUT WARRANTIES OR CONDITIONS OF ANY KIND, either express or implied.\n",
              "// See the License for the specific language governing permissions and\n",
              "// limitations under the License.\n",
              "\n",
              "/**\n",
              " * @fileoverview Helpers for google.colab Python module.\n",
              " */\n",
              "(function(scope) {\n",
              "function span(text, styleAttributes = {}) {\n",
              "  const element = document.createElement('span');\n",
              "  element.textContent = text;\n",
              "  for (const key of Object.keys(styleAttributes)) {\n",
              "    element.style[key] = styleAttributes[key];\n",
              "  }\n",
              "  return element;\n",
              "}\n",
              "\n",
              "// Max number of bytes which will be uploaded at a time.\n",
              "const MAX_PAYLOAD_SIZE = 100 * 1024;\n",
              "\n",
              "function _uploadFiles(inputId, outputId) {\n",
              "  const steps = uploadFilesStep(inputId, outputId);\n",
              "  const outputElement = document.getElementById(outputId);\n",
              "  // Cache steps on the outputElement to make it available for the next call\n",
              "  // to uploadFilesContinue from Python.\n",
              "  outputElement.steps = steps;\n",
              "\n",
              "  return _uploadFilesContinue(outputId);\n",
              "}\n",
              "\n",
              "// This is roughly an async generator (not supported in the browser yet),\n",
              "// where there are multiple asynchronous steps and the Python side is going\n",
              "// to poll for completion of each step.\n",
              "// This uses a Promise to block the python side on completion of each step,\n",
              "// then passes the result of the previous step as the input to the next step.\n",
              "function _uploadFilesContinue(outputId) {\n",
              "  const outputElement = document.getElementById(outputId);\n",
              "  const steps = outputElement.steps;\n",
              "\n",
              "  const next = steps.next(outputElement.lastPromiseValue);\n",
              "  return Promise.resolve(next.value.promise).then((value) => {\n",
              "    // Cache the last promise value to make it available to the next\n",
              "    // step of the generator.\n",
              "    outputElement.lastPromiseValue = value;\n",
              "    return next.value.response;\n",
              "  });\n",
              "}\n",
              "\n",
              "/**\n",
              " * Generator function which is called between each async step of the upload\n",
              " * process.\n",
              " * @param {string} inputId Element ID of the input file picker element.\n",
              " * @param {string} outputId Element ID of the output display.\n",
              " * @return {!Iterable<!Object>} Iterable of next steps.\n",
              " */\n",
              "function* uploadFilesStep(inputId, outputId) {\n",
              "  const inputElement = document.getElementById(inputId);\n",
              "  inputElement.disabled = false;\n",
              "\n",
              "  const outputElement = document.getElementById(outputId);\n",
              "  outputElement.innerHTML = '';\n",
              "\n",
              "  const pickedPromise = new Promise((resolve) => {\n",
              "    inputElement.addEventListener('change', (e) => {\n",
              "      resolve(e.target.files);\n",
              "    });\n",
              "  });\n",
              "\n",
              "  const cancel = document.createElement('button');\n",
              "  inputElement.parentElement.appendChild(cancel);\n",
              "  cancel.textContent = 'Cancel upload';\n",
              "  const cancelPromise = new Promise((resolve) => {\n",
              "    cancel.onclick = () => {\n",
              "      resolve(null);\n",
              "    };\n",
              "  });\n",
              "\n",
              "  // Wait for the user to pick the files.\n",
              "  const files = yield {\n",
              "    promise: Promise.race([pickedPromise, cancelPromise]),\n",
              "    response: {\n",
              "      action: 'starting',\n",
              "    }\n",
              "  };\n",
              "\n",
              "  cancel.remove();\n",
              "\n",
              "  // Disable the input element since further picks are not allowed.\n",
              "  inputElement.disabled = true;\n",
              "\n",
              "  if (!files) {\n",
              "    return {\n",
              "      response: {\n",
              "        action: 'complete',\n",
              "      }\n",
              "    };\n",
              "  }\n",
              "\n",
              "  for (const file of files) {\n",
              "    const li = document.createElement('li');\n",
              "    li.append(span(file.name, {fontWeight: 'bold'}));\n",
              "    li.append(span(\n",
              "        `(${file.type || 'n/a'}) - ${file.size} bytes, ` +\n",
              "        `last modified: ${\n",
              "            file.lastModifiedDate ? file.lastModifiedDate.toLocaleDateString() :\n",
              "                                    'n/a'} - `));\n",
              "    const percent = span('0% done');\n",
              "    li.appendChild(percent);\n",
              "\n",
              "    outputElement.appendChild(li);\n",
              "\n",
              "    const fileDataPromise = new Promise((resolve) => {\n",
              "      const reader = new FileReader();\n",
              "      reader.onload = (e) => {\n",
              "        resolve(e.target.result);\n",
              "      };\n",
              "      reader.readAsArrayBuffer(file);\n",
              "    });\n",
              "    // Wait for the data to be ready.\n",
              "    let fileData = yield {\n",
              "      promise: fileDataPromise,\n",
              "      response: {\n",
              "        action: 'continue',\n",
              "      }\n",
              "    };\n",
              "\n",
              "    // Use a chunked sending to avoid message size limits. See b/62115660.\n",
              "    let position = 0;\n",
              "    do {\n",
              "      const length = Math.min(fileData.byteLength - position, MAX_PAYLOAD_SIZE);\n",
              "      const chunk = new Uint8Array(fileData, position, length);\n",
              "      position += length;\n",
              "\n",
              "      const base64 = btoa(String.fromCharCode.apply(null, chunk));\n",
              "      yield {\n",
              "        response: {\n",
              "          action: 'append',\n",
              "          file: file.name,\n",
              "          data: base64,\n",
              "        },\n",
              "      };\n",
              "\n",
              "      let percentDone = fileData.byteLength === 0 ?\n",
              "          100 :\n",
              "          Math.round((position / fileData.byteLength) * 100);\n",
              "      percent.textContent = `${percentDone}% done`;\n",
              "\n",
              "    } while (position < fileData.byteLength);\n",
              "  }\n",
              "\n",
              "  // All done.\n",
              "  yield {\n",
              "    response: {\n",
              "      action: 'complete',\n",
              "    }\n",
              "  };\n",
              "}\n",
              "\n",
              "scope.google = scope.google || {};\n",
              "scope.google.colab = scope.google.colab || {};\n",
              "scope.google.colab._files = {\n",
              "  _uploadFiles,\n",
              "  _uploadFilesContinue,\n",
              "};\n",
              "})(self);\n",
              "</script> "
            ]
          },
          "metadata": {}
        },
        {
          "output_type": "stream",
          "name": "stdout",
          "text": [
            "Saving linus-original-DEMO.mp3 to linus-original-DEMO.mp3\n"
          ]
        }
      ]
    },
    {
      "cell_type": "code",
      "source": [
        "def extract_audio_features(y, sr, segment_duration=1):\n",
        "    # Calculate segment length in samples\n",
        "    segment_length = int(sr * segment_duration)\n",
        "    features = []\n",
        "\n",
        "    for i in range(0, len(y), segment_length):\n",
        "        segment = y[i:i + segment_length]\n",
        "\n",
        "        # Ensuring the segment has enough samples\n",
        "        if len(segment) < segment_length:\n",
        "            continue\n",
        "\n",
        "        chroma_stft = np.mean(librosa.feature.chroma_stft(y=segment, sr=sr))\n",
        "        rms = np.mean(librosa.feature.rms(y=segment))\n",
        "        spectral_centroid = np.mean(librosa.feature.spectral_centroid(y=segment, sr=sr))\n",
        "        spectral_bandwidth = np.mean(librosa.feature.spectral_bandwidth(y=segment, sr=sr))\n",
        "        rolloff = np.mean(librosa.feature.spectral_rolloff(y=segment, sr=sr))\n",
        "        zero_crossing_rate = np.mean(librosa.feature.zero_crossing_rate(y=segment))\n",
        "        mfcc = librosa.feature.mfcc(y=segment, sr=sr, n_mfcc=20)\n",
        "        mfccs = [np.mean(mfcc[i]) for i in range(20)]\n",
        "\n",
        "        features.append([\n",
        "            chroma_stft, rms, spectral_centroid, spectral_bandwidth,\n",
        "            rolloff, zero_crossing_rate, *mfccs\n",
        "        ])\n",
        "\n",
        "    columns = [\n",
        "        'chroma_stft', 'rms', 'spectral_centroid', 'spectral_bandwidth',\n",
        "        'rolloff', 'zero_crossing_rate'] + [f'mfcc{i+1}' for i in range(20)]\n",
        "    features_df = pd.DataFrame(features, columns=columns)\n",
        "\n",
        "    return features_df, len(features_df)"
      ],
      "metadata": {
        "id": "iEOyTz3Jsh7N"
      },
      "execution_count": 104,
      "outputs": []
    },
    {
      "cell_type": "code",
      "source": [
        "features_df, segment_count = extract_audio_features(y, sr)\n",
        "\n",
        "print(\"Extracted features from the new audio:\")\n",
        "print(features_df.head())\n",
        "print(\"The audio is divided into:\", len(features_df), \"1-second segments\")"
      ],
      "metadata": {
        "colab": {
          "base_uri": "https://localhost:8080/"
        },
        "id": "Ghgiq72rst93",
        "outputId": "3eb5fcee-b785-466f-ad88-4c182c19ce91"
      },
      "execution_count": 105,
      "outputs": [
        {
          "output_type": "stream",
          "name": "stdout",
          "text": [
            "Extracted features from the new audio:\n",
            "   chroma_stft       rms  spectral_centroid  spectral_bandwidth      rolloff  \\\n",
            "0     0.485475  0.054652        4796.527387         3053.105396  7474.249057   \n",
            "1     0.410481  0.074439        2231.601090         2478.053944  4163.085938   \n",
            "2     0.405922  0.067457        1265.326490         1850.343573  2149.607691   \n",
            "3     0.526284  0.034301        2252.355537         2569.973097  4205.904836   \n",
            "4     0.492458  0.063178        1919.284291         2260.912174  3361.654768   \n",
            "\n",
            "   zero_crossing_rate       mfcc1       mfcc2      mfcc3      mfcc4  ...  \\\n",
            "0            0.190329 -321.970154  113.922020 -13.859879  43.606239  ...   \n",
            "1            0.054570 -289.410675  160.083481 -21.889803  39.749695  ...   \n",
            "2            0.027557 -323.168549  194.656006   7.238131  24.746058  ...   \n",
            "3            0.057191 -347.499329  177.034149 -16.993114  29.334576  ...   \n",
            "4            0.046179 -322.694336  182.158813 -15.041724  17.047895  ...   \n",
            "\n",
            "     mfcc11    mfcc12    mfcc13    mfcc14    mfcc15    mfcc16    mfcc17  \\\n",
            "0  2.401571  5.239363 -6.339598 -3.840855  2.395987  1.568875  6.606039   \n",
            "1  0.874493  1.710046 -8.535876 -2.863695  2.637489 -4.639824  1.807479   \n",
            "2 -6.965280 -2.681475 -8.221297 -1.756426  3.883270  2.106060  4.540918   \n",
            "3  3.250956  4.464996  4.485155  0.109048  1.881961  0.308041  7.424829   \n",
            "4  7.015713  0.953396 -3.751186 -1.062920  1.952974  2.286245  7.880603   \n",
            "\n",
            "     mfcc18    mfcc19    mfcc20  \n",
            "0 -1.225071  2.464842  0.240447  \n",
            "1  2.446820 -3.393958 -3.620629  \n",
            "2  0.055035 -1.579111  0.965934  \n",
            "3  3.178004  4.526290 -1.089854  \n",
            "4  1.787581 -2.999812  3.193052  \n",
            "\n",
            "[5 rows x 26 columns]\n",
            "The audio is divided into: 60 1-second segments\n"
          ]
        }
      ]
    },
    {
      "cell_type": "markdown",
      "metadata": {
        "id": "nF03dKRPIoeP"
      },
      "source": [
        "Scale the extracted features"
      ]
    },
    {
      "cell_type": "code",
      "execution_count": 106,
      "metadata": {
        "id": "Fa4sWTXmEAXF"
      },
      "outputs": [],
      "source": [
        "X_new_audio = scaler.transform(features_df.values)\n",
        "label_new_audio = mlp_classifier.predict(X_new_audio)"
      ]
    },
    {
      "cell_type": "markdown",
      "metadata": {
        "id": "yIBmuI2vIr5X"
      },
      "source": [
        "Predict the label of audio according to the labels of segments"
      ]
    },
    {
      "cell_type": "code",
      "execution_count": 107,
      "metadata": {
        "colab": {
          "base_uri": "https://localhost:8080/"
        },
        "id": "juchzMdh-QgE",
        "outputId": "52c9664a-62c0-4ecf-eea2-ad203a6d1a07"
      },
      "outputs": [
        {
          "output_type": "stream",
          "name": "stdout",
          "text": [
            "Count of REAL predictions: 58\n",
            "Count of FAKE predictions: 2\n",
            "The audio is: real\n"
          ]
        }
      ],
      "source": [
        "def classify_result(predictions):\n",
        "    count_ones = np.sum(predictions == 1)\n",
        "    count_zeroes = np.sum(predictions == 0)\n",
        "\n",
        "    print(f\"Count of REAL predictions: {count_ones}\")\n",
        "    print(f\"Count of FAKE predictions: {count_zeroes}\")\n",
        "\n",
        "    if count_ones > count_zeroes:\n",
        "        return \"real\"\n",
        "    elif count_zeroes > count_ones:\n",
        "        return \"fake\"\n",
        "    else:\n",
        "        return \"undetected\"\n",
        "\n",
        "result = classify_result(label_new_audio)\n",
        "print(f\"The audio is: {result}\")"
      ]
    },
    {
      "cell_type": "markdown",
      "metadata": {
        "id": "z3t0Ve1N5XJZ"
      },
      "source": [
        "# LSTM Model"
      ]
    },
    {
      "cell_type": "markdown",
      "source": [
        "Function to extract features from audio file & split the audio into 1-second segment"
      ],
      "metadata": {
        "id": "WSplY5xeeTvg"
      }
    },
    {
      "cell_type": "code",
      "source": [
        "def extract_features_from_audio(audio_path, audio_id, audio_label, segment_duration=1):\n",
        "    y, sr = librosa.load(audio_path, sr=None)\n",
        "    segment_length = int(sr * segment_duration)\n",
        "    features = []\n",
        "    segment_count = 0\n",
        "\n",
        "    for i in range(0, len(y), segment_length):\n",
        "        segment = y[i:i + segment_length]\n",
        "\n",
        "        if len(segment) < segment_length:\n",
        "            continue\n",
        "\n",
        "        chroma_stft = np.mean(librosa.feature.chroma_stft(y=segment, sr=sr))\n",
        "        rms = np.mean(librosa.feature.rms(y=segment))\n",
        "        spectral_centroid = np.mean(librosa.feature.spectral_centroid(y=segment, sr=sr))\n",
        "        spectral_bandwidth = np.mean(librosa.feature.spectral_bandwidth(y=segment, sr=sr))\n",
        "        rolloff = np.mean(librosa.feature.spectral_rolloff(y=segment, sr=sr))\n",
        "        zero_crossing_rate = np.mean(librosa.feature.zero_crossing_rate(y=segment))\n",
        "        mfcc = librosa.feature.mfcc(y=segment, sr=sr, n_mfcc=20)\n",
        "        mfccs = [np.mean(mfcc[i]) for i in range(20)]\n",
        "\n",
        "        features.append([audio_id, chroma_stft, rms, spectral_centroid, spectral_bandwidth,\n",
        "                         rolloff, zero_crossing_rate, *mfccs, audio_label])\n",
        "\n",
        "        segment_count += 1\n",
        "\n",
        "    return features, segment_count"
      ],
      "metadata": {
        "id": "XPyXzYWaeTF-"
      },
      "execution_count": 108,
      "outputs": []
    },
    {
      "cell_type": "markdown",
      "source": [
        "Load audio files and extract features:"
      ],
      "metadata": {
        "id": "Xs2LwOIZeYCf"
      }
    },
    {
      "cell_type": "code",
      "source": [
        "extract_directory = '/content/sample_data/audios'\n",
        "all_features = []\n",
        "segment_counts = {}\n",
        "\n",
        "for audio_file in os.listdir(extract_directory):\n",
        "    if audio_file.endswith('.wav') or audio_file.endswith('.mp3'):\n",
        "        audio_id = os.path.splitext(audio_file)[0]\n",
        "        audio_path = os.path.join(extract_directory, audio_file)\n",
        "        audio_label = 1 if 'original' in audio_id.lower() else 0\n",
        "\n",
        "        features, segment_count = extract_features_from_audio(audio_path, audio_id, audio_label)\n",
        "        all_features.extend(features)\n",
        "\n",
        "        segment_counts[audio_id] = segment_count\n",
        "        print(audio_id,\": \", segment_count, \" segments, \", \"labeled \", audio_label)\n",
        "\n",
        "\n",
        "columns = ['audio_id', 'chroma_stft', 'rms', 'spectral_centroid', 'spectral_bandwidth',\n",
        "           'rolloff', 'zero_crossing_rate'] + [f'mfcc{i+1}' for i in range(20)] + ['audio_label']\n",
        "audios_df = pd.DataFrame(all_features, columns=columns)"
      ],
      "metadata": {
        "id": "I49Q5GFcedJM",
        "colab": {
          "base_uri": "https://localhost:8080/"
        },
        "outputId": "6b5beae7-a1fc-4672-989f-68a73462a7d5"
      },
      "execution_count": 137,
      "outputs": [
        {
          "output_type": "stream",
          "name": "stdout",
          "text": [
            "trump-original :  600  segments,  labeled  1\n",
            "musk-original :  600  segments,  labeled  1\n",
            "linus-to-musk-DEMO :  60  segments,  labeled  0\n",
            "linus-to-musk :  570  segments,  labeled  0\n",
            "linus-to-biden :  570  segments,  labeled  0\n",
            "biden-to-musk :  600  segments,  labeled  0\n",
            "taylor-original :  600  segments,  labeled  1\n",
            "biden-to-margot :  600  segments,  labeled  0\n",
            "linus-to-margot :  570  segments,  labeled  0\n",
            "obama-original :  600  segments,  labeled  1\n",
            "margot-original :  79  segments,  labeled  1\n",
            "linus-original-DEMO :  60  segments,  labeled  1\n"
          ]
        }
      ]
    },
    {
      "cell_type": "markdown",
      "source": [
        "Split the dataset into training, validation, and test sets"
      ],
      "metadata": {
        "id": "bENTfAkbejEE"
      }
    },
    {
      "cell_type": "code",
      "source": [
        "train_ids, temp_ids = train_test_split(audios_df['audio_id'].unique(), test_size=0.5, random_state=42)\n",
        "valid_ids, test_ids = train_test_split(temp_ids, test_size=0.5, random_state=42)\n",
        "\n",
        "X_train = audios_df[audios_df['audio_id'].isin(train_ids)]\n",
        "X_valid = audios_df[audios_df['audio_id'].isin(valid_ids)]\n",
        "X_test = audios_df[audios_df['audio_id'].isin(test_ids)]\n",
        "\n",
        "print(f\"Training set size: {len(X_train)}\")\n",
        "print(f\"Validation set size: {len(X_valid)}\")\n",
        "print(f\"Test set size: {len(X_test)}\")"
      ],
      "metadata": {
        "id": "xKyF8FDqem2s",
        "colab": {
          "base_uri": "https://localhost:8080/"
        },
        "outputId": "e43b392a-faf8-4eef-d027-9dfca9542299"
      },
      "execution_count": 139,
      "outputs": [
        {
          "output_type": "stream",
          "name": "stdout",
          "text": [
            "Training set size: 3000\n",
            "Validation set size: 1770\n",
            "Test set size: 739\n"
          ]
        }
      ]
    },
    {
      "cell_type": "markdown",
      "source": [
        "Function to prepare sequences for LSTM"
      ],
      "metadata": {
        "id": "Jates1AkfDng"
      }
    },
    {
      "cell_type": "code",
      "source": [
        "def prepare_sequences(audios_df):\n",
        "    sequences = []\n",
        "    labels = []\n",
        "\n",
        "    grouped = audios_df.groupby('audio_id')\n",
        "    for audio_id, group in grouped:\n",
        "        sequence = group.drop(columns=['audio_id', 'audio_label']).values\n",
        "        label = group['audio_label'].values[0]\n",
        "\n",
        "        sequences.append(sequence)\n",
        "        labels.append(label)\n",
        "\n",
        "    return sequences, labels"
      ],
      "metadata": {
        "id": "G9oGW1ypfG2p"
      },
      "execution_count": 140,
      "outputs": []
    },
    {
      "cell_type": "code",
      "source": [
        "!pip install tensorflow\n",
        "from tensorflow.keras.preprocessing.sequence import pad_sequences"
      ],
      "metadata": {
        "colab": {
          "base_uri": "https://localhost:8080/"
        },
        "id": "xBoI_7_Nsx1D",
        "outputId": "c3a48f88-ba44-444d-aae9-292c8c68dd67",
        "collapsed": true
      },
      "execution_count": 141,
      "outputs": [
        {
          "output_type": "stream",
          "name": "stdout",
          "text": [
            "Requirement already satisfied: tensorflow in /usr/local/lib/python3.11/dist-packages (2.18.0)\n",
            "Requirement already satisfied: absl-py>=1.0.0 in /usr/local/lib/python3.11/dist-packages (from tensorflow) (1.4.0)\n",
            "Requirement already satisfied: astunparse>=1.6.0 in /usr/local/lib/python3.11/dist-packages (from tensorflow) (1.6.3)\n",
            "Requirement already satisfied: flatbuffers>=24.3.25 in /usr/local/lib/python3.11/dist-packages (from tensorflow) (25.2.10)\n",
            "Requirement already satisfied: gast!=0.5.0,!=0.5.1,!=0.5.2,>=0.2.1 in /usr/local/lib/python3.11/dist-packages (from tensorflow) (0.6.0)\n",
            "Requirement already satisfied: google-pasta>=0.1.1 in /usr/local/lib/python3.11/dist-packages (from tensorflow) (0.2.0)\n",
            "Requirement already satisfied: libclang>=13.0.0 in /usr/local/lib/python3.11/dist-packages (from tensorflow) (18.1.1)\n",
            "Requirement already satisfied: opt-einsum>=2.3.2 in /usr/local/lib/python3.11/dist-packages (from tensorflow) (3.4.0)\n",
            "Requirement already satisfied: packaging in /usr/local/lib/python3.11/dist-packages (from tensorflow) (24.2)\n",
            "Requirement already satisfied: protobuf!=4.21.0,!=4.21.1,!=4.21.2,!=4.21.3,!=4.21.4,!=4.21.5,<6.0.0dev,>=3.20.3 in /usr/local/lib/python3.11/dist-packages (from tensorflow) (5.29.4)\n",
            "Requirement already satisfied: requests<3,>=2.21.0 in /usr/local/lib/python3.11/dist-packages (from tensorflow) (2.32.3)\n",
            "Requirement already satisfied: setuptools in /usr/local/lib/python3.11/dist-packages (from tensorflow) (75.1.0)\n",
            "Requirement already satisfied: six>=1.12.0 in /usr/local/lib/python3.11/dist-packages (from tensorflow) (1.17.0)\n",
            "Requirement already satisfied: termcolor>=1.1.0 in /usr/local/lib/python3.11/dist-packages (from tensorflow) (2.5.0)\n",
            "Requirement already satisfied: typing-extensions>=3.6.6 in /usr/local/lib/python3.11/dist-packages (from tensorflow) (4.12.2)\n",
            "Requirement already satisfied: wrapt>=1.11.0 in /usr/local/lib/python3.11/dist-packages (from tensorflow) (1.17.2)\n",
            "Requirement already satisfied: grpcio<2.0,>=1.24.3 in /usr/local/lib/python3.11/dist-packages (from tensorflow) (1.71.0)\n",
            "Requirement already satisfied: tensorboard<2.19,>=2.18 in /usr/local/lib/python3.11/dist-packages (from tensorflow) (2.18.0)\n",
            "Requirement already satisfied: keras>=3.5.0 in /usr/local/lib/python3.11/dist-packages (from tensorflow) (3.8.0)\n",
            "Requirement already satisfied: numpy<2.1.0,>=1.26.0 in /usr/local/lib/python3.11/dist-packages (from tensorflow) (2.0.2)\n",
            "Requirement already satisfied: h5py>=3.11.0 in /usr/local/lib/python3.11/dist-packages (from tensorflow) (3.13.0)\n",
            "Requirement already satisfied: ml-dtypes<0.5.0,>=0.4.0 in /usr/local/lib/python3.11/dist-packages (from tensorflow) (0.4.1)\n",
            "Requirement already satisfied: tensorflow-io-gcs-filesystem>=0.23.1 in /usr/local/lib/python3.11/dist-packages (from tensorflow) (0.37.1)\n",
            "Requirement already satisfied: wheel<1.0,>=0.23.0 in /usr/local/lib/python3.11/dist-packages (from astunparse>=1.6.0->tensorflow) (0.45.1)\n",
            "Requirement already satisfied: rich in /usr/local/lib/python3.11/dist-packages (from keras>=3.5.0->tensorflow) (13.9.4)\n",
            "Requirement already satisfied: namex in /usr/local/lib/python3.11/dist-packages (from keras>=3.5.0->tensorflow) (0.0.8)\n",
            "Requirement already satisfied: optree in /usr/local/lib/python3.11/dist-packages (from keras>=3.5.0->tensorflow) (0.14.1)\n",
            "Requirement already satisfied: charset-normalizer<4,>=2 in /usr/local/lib/python3.11/dist-packages (from requests<3,>=2.21.0->tensorflow) (3.4.1)\n",
            "Requirement already satisfied: idna<4,>=2.5 in /usr/local/lib/python3.11/dist-packages (from requests<3,>=2.21.0->tensorflow) (3.10)\n",
            "Requirement already satisfied: urllib3<3,>=1.21.1 in /usr/local/lib/python3.11/dist-packages (from requests<3,>=2.21.0->tensorflow) (2.3.0)\n",
            "Requirement already satisfied: certifi>=2017.4.17 in /usr/local/lib/python3.11/dist-packages (from requests<3,>=2.21.0->tensorflow) (2025.1.31)\n",
            "Requirement already satisfied: markdown>=2.6.8 in /usr/local/lib/python3.11/dist-packages (from tensorboard<2.19,>=2.18->tensorflow) (3.7)\n",
            "Requirement already satisfied: tensorboard-data-server<0.8.0,>=0.7.0 in /usr/local/lib/python3.11/dist-packages (from tensorboard<2.19,>=2.18->tensorflow) (0.7.2)\n",
            "Requirement already satisfied: werkzeug>=1.0.1 in /usr/local/lib/python3.11/dist-packages (from tensorboard<2.19,>=2.18->tensorflow) (3.1.3)\n",
            "Requirement already satisfied: MarkupSafe>=2.1.1 in /usr/local/lib/python3.11/dist-packages (from werkzeug>=1.0.1->tensorboard<2.19,>=2.18->tensorflow) (3.0.2)\n",
            "Requirement already satisfied: markdown-it-py>=2.2.0 in /usr/local/lib/python3.11/dist-packages (from rich->keras>=3.5.0->tensorflow) (3.0.0)\n",
            "Requirement already satisfied: pygments<3.0.0,>=2.13.0 in /usr/local/lib/python3.11/dist-packages (from rich->keras>=3.5.0->tensorflow) (2.18.0)\n",
            "Requirement already satisfied: mdurl~=0.1 in /usr/local/lib/python3.11/dist-packages (from markdown-it-py>=2.2.0->rich->keras>=3.5.0->tensorflow) (0.1.2)\n"
          ]
        }
      ]
    },
    {
      "cell_type": "markdown",
      "source": [
        "Pad the sequences to ensure uniform input size"
      ],
      "metadata": {
        "id": "BpGu1-RpfIwG"
      }
    },
    {
      "cell_type": "code",
      "source": [
        "train_sequences, train_labels = prepare_sequences(X_train)\n",
        "valid_sequences, valid_labels = prepare_sequences(X_valid)\n",
        "test_sequences, test_labels = prepare_sequences(X_test)\n",
        "\n",
        "X_train_seq = pad_sequences(train_sequences, dtype='float32', padding='post', value=0.0)\n",
        "X_valid_seq = pad_sequences(valid_sequences, dtype='float32', padding='post', value=0.0)\n",
        "X_test_seq = pad_sequences(test_sequences, dtype='float32', padding='post', value=0.0)\n",
        "\n",
        "print(f'Size of X_train_seq: {X_train_seq.shape}')\n",
        "print(f'Size of X_valid_seq: {X_valid_seq.shape}')\n",
        "print(f'Size of X_test_seq: {X_test_seq.shape}')\n",
        "\n",
        "scaler = RobustScaler()\n",
        "\n",
        "X_train_seq = scaler.fit_transform(X_train_seq.reshape(-1, X_train_seq.shape[-1])).reshape(X_train_seq.shape)\n",
        "X_valid_seq = scaler.transform(X_valid_seq.reshape(-1, X_valid_seq.shape[-1])).reshape(X_valid_seq.shape)\n",
        "X_test_seq = scaler.transform(X_test_seq.reshape(-1, X_test_seq.shape[-1])).reshape(X_test_seq.shape)\n",
        "\n",
        "y_train_np = np.array(train_labels)\n",
        "y_valid_np = np.array(valid_labels)\n",
        "y_test_np = np.array(test_labels)"
      ],
      "metadata": {
        "colab": {
          "base_uri": "https://localhost:8080/"
        },
        "id": "j_vBhgq9T92x",
        "outputId": "40981024-8645-40ea-fafb-b328cb7b433c"
      },
      "execution_count": 142,
      "outputs": [
        {
          "output_type": "stream",
          "name": "stdout",
          "text": [
            "Size of X_train_seq: (6, 600, 26)\n",
            "Size of X_valid_seq: (3, 600, 26)\n",
            "Size of X_test_seq: (3, 600, 26)\n"
          ]
        }
      ]
    },
    {
      "cell_type": "markdown",
      "source": [
        "Define and compile the LSTM model"
      ],
      "metadata": {
        "id": "uuFktN7XfPCt"
      }
    },
    {
      "cell_type": "code",
      "source": [
        "model = Sequential()\n",
        "\n",
        "# Input layer\n",
        "model.add(Input(shape=(None, X_train_seq.shape[2])))\n",
        "\n",
        "# LSTM layers\n",
        "model.add(LSTM(64, return_sequences=True))\n",
        "model.add(Dropout(0.3))\n",
        "model.add(LSTM(64))\n",
        "model.add(Dropout(0.1))\n",
        "\n",
        "# Output layer\n",
        "model.add(Dense(1, activation='sigmoid'))\n",
        "\n",
        "# Compile the model\n",
        "model.compile(optimizer='adam', loss='binary_crossentropy', metrics=['accuracy'])"
      ],
      "metadata": {
        "id": "klm_RHNDfTKF"
      },
      "execution_count": 143,
      "outputs": []
    },
    {
      "cell_type": "markdown",
      "source": [
        "Train the LSTM model:"
      ],
      "metadata": {
        "id": "Qbwxwc1MfXgK"
      }
    },
    {
      "cell_type": "code",
      "source": [
        "history = model.fit(X_train_seq, y_train_np, validation_data=(X_valid_seq, y_valid_np), epochs=10, batch_size=32)"
      ],
      "metadata": {
        "colab": {
          "base_uri": "https://localhost:8080/"
        },
        "id": "l0HWvQGbfYFj",
        "outputId": "15995ff2-c4ce-49b1-dc27-0353d836965d"
      },
      "execution_count": 144,
      "outputs": [
        {
          "output_type": "stream",
          "name": "stdout",
          "text": [
            "Epoch 1/10\n",
            "\u001b[1m1/1\u001b[0m \u001b[32m━━━━━━━━━━━━━━━━━━━━\u001b[0m\u001b[37m\u001b[0m \u001b[1m28s\u001b[0m 28s/step - accuracy: 0.6667 - loss: 0.6682 - val_accuracy: 0.6667 - val_loss: 0.6792\n",
            "Epoch 2/10\n",
            "\u001b[1m1/1\u001b[0m \u001b[32m━━━━━━━━━━━━━━━━━━━━\u001b[0m\u001b[37m\u001b[0m \u001b[1m4s\u001b[0m 4s/step - accuracy: 0.8333 - loss: 0.6080 - val_accuracy: 0.6667 - val_loss: 0.6536\n",
            "Epoch 3/10\n",
            "\u001b[1m1/1\u001b[0m \u001b[32m━━━━━━━━━━━━━━━━━━━━\u001b[0m\u001b[37m\u001b[0m \u001b[1m2s\u001b[0m 2s/step - accuracy: 0.8333 - loss: 0.6046 - val_accuracy: 0.3333 - val_loss: 0.6376\n",
            "Epoch 4/10\n",
            "\u001b[1m1/1\u001b[0m \u001b[32m━━━━━━━━━━━━━━━━━━━━\u001b[0m\u001b[37m\u001b[0m \u001b[1m2s\u001b[0m 2s/step - accuracy: 0.8333 - loss: 0.5808 - val_accuracy: 0.3333 - val_loss: 0.6281\n",
            "Epoch 5/10\n",
            "\u001b[1m1/1\u001b[0m \u001b[32m━━━━━━━━━━━━━━━━━━━━\u001b[0m\u001b[37m\u001b[0m \u001b[1m1s\u001b[0m 1s/step - accuracy: 0.8333 - loss: 0.5516 - val_accuracy: 0.3333 - val_loss: 0.6250\n",
            "Epoch 6/10\n",
            "\u001b[1m1/1\u001b[0m \u001b[32m━━━━━━━━━━━━━━━━━━━━\u001b[0m\u001b[37m\u001b[0m \u001b[1m2s\u001b[0m 2s/step - accuracy: 0.8333 - loss: 0.5013 - val_accuracy: 0.3333 - val_loss: 0.6243\n",
            "Epoch 7/10\n",
            "\u001b[1m1/1\u001b[0m \u001b[32m━━━━━━━━━━━━━━━━━━━━\u001b[0m\u001b[37m\u001b[0m \u001b[1m1s\u001b[0m 1s/step - accuracy: 0.8333 - loss: 0.4964 - val_accuracy: 0.3333 - val_loss: 0.6264\n",
            "Epoch 8/10\n",
            "\u001b[1m1/1\u001b[0m \u001b[32m━━━━━━━━━━━━━━━━━━━━\u001b[0m\u001b[37m\u001b[0m \u001b[1m2s\u001b[0m 2s/step - accuracy: 0.8333 - loss: 0.4528 - val_accuracy: 0.3333 - val_loss: 0.6334\n",
            "Epoch 9/10\n",
            "\u001b[1m1/1\u001b[0m \u001b[32m━━━━━━━━━━━━━━━━━━━━\u001b[0m\u001b[37m\u001b[0m \u001b[1m1s\u001b[0m 1s/step - accuracy: 0.8333 - loss: 0.4570 - val_accuracy: 0.3333 - val_loss: 0.6457\n",
            "Epoch 10/10\n",
            "\u001b[1m1/1\u001b[0m \u001b[32m━━━━━━━━━━━━━━━━━━━━\u001b[0m\u001b[37m\u001b[0m \u001b[1m1s\u001b[0m 1s/step - accuracy: 0.8333 - loss: 0.4207 - val_accuracy: 0.3333 - val_loss: 0.6644\n"
          ]
        }
      ]
    },
    {
      "cell_type": "markdown",
      "source": [
        "Evaluate the model on the test set:"
      ],
      "metadata": {
        "id": "MDx_AvZIfZwv"
      }
    },
    {
      "cell_type": "code",
      "source": [
        "loss, accuracy = model.evaluate(X_test_seq, y_test_np)\n",
        "print(f\"Test Loss: {loss}\")\n",
        "print(f\"Test Accuracy: {accuracy}\")"
      ],
      "metadata": {
        "colab": {
          "base_uri": "https://localhost:8080/"
        },
        "id": "cpUxzxyWfb_-",
        "outputId": "d7a891c6-aaa7-4065-ec27-e4d01feb0d40"
      },
      "execution_count": 145,
      "outputs": [
        {
          "output_type": "stream",
          "name": "stdout",
          "text": [
            "\u001b[1m1/1\u001b[0m \u001b[32m━━━━━━━━━━━━━━━━━━━━\u001b[0m\u001b[37m\u001b[0m \u001b[1m0s\u001b[0m 215ms/step - accuracy: 0.3333 - loss: 0.8290\n",
            "Test Loss: 0.8289549350738525\n",
            "Test Accuracy: 0.3333333432674408\n"
          ]
        }
      ]
    },
    {
      "cell_type": "markdown",
      "source": [
        "Predict Label of A New Audio"
      ],
      "metadata": {
        "id": "7otC0v7fSkYk"
      }
    },
    {
      "cell_type": "code",
      "source": [
        "uploaded = files.upload()\n",
        "\n",
        "audio_file = list(uploaded.keys())[0]\n",
        "\n",
        "y, sr = librosa.load(audio_file, sr=None)"
      ],
      "metadata": {
        "colab": {
          "base_uri": "https://localhost:8080/",
          "height": 73
        },
        "id": "lr_T6_TGNmku",
        "outputId": "67209f07-bf3e-4404-873c-75a1a69df467"
      },
      "execution_count": 146,
      "outputs": [
        {
          "output_type": "display_data",
          "data": {
            "text/plain": [
              "<IPython.core.display.HTML object>"
            ],
            "text/html": [
              "\n",
              "     <input type=\"file\" id=\"files-9139712d-6e47-4260-a792-42bfa5e1343e\" name=\"files[]\" multiple disabled\n",
              "        style=\"border:none\" />\n",
              "     <output id=\"result-9139712d-6e47-4260-a792-42bfa5e1343e\">\n",
              "      Upload widget is only available when the cell has been executed in the\n",
              "      current browser session. Please rerun this cell to enable.\n",
              "      </output>\n",
              "      <script>// Copyright 2017 Google LLC\n",
              "//\n",
              "// Licensed under the Apache License, Version 2.0 (the \"License\");\n",
              "// you may not use this file except in compliance with the License.\n",
              "// You may obtain a copy of the License at\n",
              "//\n",
              "//      http://www.apache.org/licenses/LICENSE-2.0\n",
              "//\n",
              "// Unless required by applicable law or agreed to in writing, software\n",
              "// distributed under the License is distributed on an \"AS IS\" BASIS,\n",
              "// WITHOUT WARRANTIES OR CONDITIONS OF ANY KIND, either express or implied.\n",
              "// See the License for the specific language governing permissions and\n",
              "// limitations under the License.\n",
              "\n",
              "/**\n",
              " * @fileoverview Helpers for google.colab Python module.\n",
              " */\n",
              "(function(scope) {\n",
              "function span(text, styleAttributes = {}) {\n",
              "  const element = document.createElement('span');\n",
              "  element.textContent = text;\n",
              "  for (const key of Object.keys(styleAttributes)) {\n",
              "    element.style[key] = styleAttributes[key];\n",
              "  }\n",
              "  return element;\n",
              "}\n",
              "\n",
              "// Max number of bytes which will be uploaded at a time.\n",
              "const MAX_PAYLOAD_SIZE = 100 * 1024;\n",
              "\n",
              "function _uploadFiles(inputId, outputId) {\n",
              "  const steps = uploadFilesStep(inputId, outputId);\n",
              "  const outputElement = document.getElementById(outputId);\n",
              "  // Cache steps on the outputElement to make it available for the next call\n",
              "  // to uploadFilesContinue from Python.\n",
              "  outputElement.steps = steps;\n",
              "\n",
              "  return _uploadFilesContinue(outputId);\n",
              "}\n",
              "\n",
              "// This is roughly an async generator (not supported in the browser yet),\n",
              "// where there are multiple asynchronous steps and the Python side is going\n",
              "// to poll for completion of each step.\n",
              "// This uses a Promise to block the python side on completion of each step,\n",
              "// then passes the result of the previous step as the input to the next step.\n",
              "function _uploadFilesContinue(outputId) {\n",
              "  const outputElement = document.getElementById(outputId);\n",
              "  const steps = outputElement.steps;\n",
              "\n",
              "  const next = steps.next(outputElement.lastPromiseValue);\n",
              "  return Promise.resolve(next.value.promise).then((value) => {\n",
              "    // Cache the last promise value to make it available to the next\n",
              "    // step of the generator.\n",
              "    outputElement.lastPromiseValue = value;\n",
              "    return next.value.response;\n",
              "  });\n",
              "}\n",
              "\n",
              "/**\n",
              " * Generator function which is called between each async step of the upload\n",
              " * process.\n",
              " * @param {string} inputId Element ID of the input file picker element.\n",
              " * @param {string} outputId Element ID of the output display.\n",
              " * @return {!Iterable<!Object>} Iterable of next steps.\n",
              " */\n",
              "function* uploadFilesStep(inputId, outputId) {\n",
              "  const inputElement = document.getElementById(inputId);\n",
              "  inputElement.disabled = false;\n",
              "\n",
              "  const outputElement = document.getElementById(outputId);\n",
              "  outputElement.innerHTML = '';\n",
              "\n",
              "  const pickedPromise = new Promise((resolve) => {\n",
              "    inputElement.addEventListener('change', (e) => {\n",
              "      resolve(e.target.files);\n",
              "    });\n",
              "  });\n",
              "\n",
              "  const cancel = document.createElement('button');\n",
              "  inputElement.parentElement.appendChild(cancel);\n",
              "  cancel.textContent = 'Cancel upload';\n",
              "  const cancelPromise = new Promise((resolve) => {\n",
              "    cancel.onclick = () => {\n",
              "      resolve(null);\n",
              "    };\n",
              "  });\n",
              "\n",
              "  // Wait for the user to pick the files.\n",
              "  const files = yield {\n",
              "    promise: Promise.race([pickedPromise, cancelPromise]),\n",
              "    response: {\n",
              "      action: 'starting',\n",
              "    }\n",
              "  };\n",
              "\n",
              "  cancel.remove();\n",
              "\n",
              "  // Disable the input element since further picks are not allowed.\n",
              "  inputElement.disabled = true;\n",
              "\n",
              "  if (!files) {\n",
              "    return {\n",
              "      response: {\n",
              "        action: 'complete',\n",
              "      }\n",
              "    };\n",
              "  }\n",
              "\n",
              "  for (const file of files) {\n",
              "    const li = document.createElement('li');\n",
              "    li.append(span(file.name, {fontWeight: 'bold'}));\n",
              "    li.append(span(\n",
              "        `(${file.type || 'n/a'}) - ${file.size} bytes, ` +\n",
              "        `last modified: ${\n",
              "            file.lastModifiedDate ? file.lastModifiedDate.toLocaleDateString() :\n",
              "                                    'n/a'} - `));\n",
              "    const percent = span('0% done');\n",
              "    li.appendChild(percent);\n",
              "\n",
              "    outputElement.appendChild(li);\n",
              "\n",
              "    const fileDataPromise = new Promise((resolve) => {\n",
              "      const reader = new FileReader();\n",
              "      reader.onload = (e) => {\n",
              "        resolve(e.target.result);\n",
              "      };\n",
              "      reader.readAsArrayBuffer(file);\n",
              "    });\n",
              "    // Wait for the data to be ready.\n",
              "    let fileData = yield {\n",
              "      promise: fileDataPromise,\n",
              "      response: {\n",
              "        action: 'continue',\n",
              "      }\n",
              "    };\n",
              "\n",
              "    // Use a chunked sending to avoid message size limits. See b/62115660.\n",
              "    let position = 0;\n",
              "    do {\n",
              "      const length = Math.min(fileData.byteLength - position, MAX_PAYLOAD_SIZE);\n",
              "      const chunk = new Uint8Array(fileData, position, length);\n",
              "      position += length;\n",
              "\n",
              "      const base64 = btoa(String.fromCharCode.apply(null, chunk));\n",
              "      yield {\n",
              "        response: {\n",
              "          action: 'append',\n",
              "          file: file.name,\n",
              "          data: base64,\n",
              "        },\n",
              "      };\n",
              "\n",
              "      let percentDone = fileData.byteLength === 0 ?\n",
              "          100 :\n",
              "          Math.round((position / fileData.byteLength) * 100);\n",
              "      percent.textContent = `${percentDone}% done`;\n",
              "\n",
              "    } while (position < fileData.byteLength);\n",
              "  }\n",
              "\n",
              "  // All done.\n",
              "  yield {\n",
              "    response: {\n",
              "      action: 'complete',\n",
              "    }\n",
              "  };\n",
              "}\n",
              "\n",
              "scope.google = scope.google || {};\n",
              "scope.google.colab = scope.google.colab || {};\n",
              "scope.google.colab._files = {\n",
              "  _uploadFiles,\n",
              "  _uploadFilesContinue,\n",
              "};\n",
              "})(self);\n",
              "</script> "
            ]
          },
          "metadata": {}
        },
        {
          "output_type": "stream",
          "name": "stdout",
          "text": [
            "Saving linus-original-DEMO.mp3 to linus-original-DEMO (1).mp3\n"
          ]
        }
      ]
    },
    {
      "cell_type": "code",
      "source": [
        "features_df, segment_count = extract_audio_features(y, sr)\n",
        "\n",
        "print(\"Extracted features from the new audio:\")\n",
        "print(features_df.head())\n",
        "print(\"The audio is divided into:\", len(features_df), \"1-second segments\")"
      ],
      "metadata": {
        "colab": {
          "base_uri": "https://localhost:8080/"
        },
        "id": "GlNcshA8N1V3",
        "outputId": "95ad7bcc-a43f-451a-a40b-b7ccecf04942"
      },
      "execution_count": 147,
      "outputs": [
        {
          "output_type": "stream",
          "name": "stdout",
          "text": [
            "Extracted features from the new audio:\n",
            "   chroma_stft       rms  spectral_centroid  spectral_bandwidth      rolloff  \\\n",
            "0     0.485475  0.054652        4796.527387         3053.105396  7474.249057   \n",
            "1     0.410481  0.074439        2231.601090         2478.053944  4163.085938   \n",
            "2     0.405922  0.067457        1265.326490         1850.343573  2149.607691   \n",
            "3     0.526284  0.034301        2252.355537         2569.973097  4205.904836   \n",
            "4     0.492458  0.063178        1919.284291         2260.912174  3361.654768   \n",
            "\n",
            "   zero_crossing_rate       mfcc1       mfcc2      mfcc3      mfcc4  ...  \\\n",
            "0            0.190329 -321.970154  113.922020 -13.859879  43.606239  ...   \n",
            "1            0.054570 -289.410675  160.083481 -21.889803  39.749695  ...   \n",
            "2            0.027557 -323.168549  194.656006   7.238131  24.746058  ...   \n",
            "3            0.057191 -347.499329  177.034149 -16.993114  29.334576  ...   \n",
            "4            0.046179 -322.694336  182.158813 -15.041724  17.047895  ...   \n",
            "\n",
            "     mfcc11    mfcc12    mfcc13    mfcc14    mfcc15    mfcc16    mfcc17  \\\n",
            "0  2.401571  5.239363 -6.339598 -3.840855  2.395987  1.568875  6.606039   \n",
            "1  0.874493  1.710046 -8.535876 -2.863695  2.637489 -4.639824  1.807479   \n",
            "2 -6.965280 -2.681475 -8.221297 -1.756426  3.883270  2.106060  4.540918   \n",
            "3  3.250956  4.464996  4.485155  0.109048  1.881961  0.308041  7.424829   \n",
            "4  7.015713  0.953396 -3.751186 -1.062920  1.952974  2.286245  7.880603   \n",
            "\n",
            "     mfcc18    mfcc19    mfcc20  \n",
            "0 -1.225071  2.464842  0.240447  \n",
            "1  2.446820 -3.393958 -3.620629  \n",
            "2  0.055035 -1.579111  0.965934  \n",
            "3  3.178004  4.526290 -1.089854  \n",
            "4  1.787581 -2.999812  3.193052  \n",
            "\n",
            "[5 rows x 26 columns]\n",
            "The audio is divided into: 60 1-second segments\n"
          ]
        }
      ]
    },
    {
      "cell_type": "code",
      "source": [
        "features_array = features_df.values.reshape((features_df.shape[0], 1, features_df.shape[1]))  # Add a timestep dimension\n",
        "\n",
        "predictions = model.predict(features_array)\n",
        "\n",
        "average_prediction = np.mean(predictions)\n",
        "\n",
        "predicted_label = 'Real' if average_prediction > 0.5 else 'Fake'\n",
        "print(f'Predicted label for the audio file: {predicted_label}')"
      ],
      "metadata": {
        "colab": {
          "base_uri": "https://localhost:8080/"
        },
        "id": "HCpuyLKtRgxg",
        "outputId": "0a9934fc-bb1d-43c1-937a-f57bf8200748"
      },
      "execution_count": 148,
      "outputs": [
        {
          "output_type": "stream",
          "name": "stdout",
          "text": [
            "\r\u001b[1m1/2\u001b[0m \u001b[32m━━━━━━━━━━\u001b[0m\u001b[37m━━━━━━━━━━\u001b[0m \u001b[1m0s\u001b[0m 415ms/step"
          ]
        },
        {
          "output_type": "stream",
          "name": "stderr",
          "text": [
            "WARNING:tensorflow:5 out of the last 8 calls to <function TensorFlowTrainer.make_predict_function.<locals>.one_step_on_data_distributed at 0x7ebbf9de4860> triggered tf.function retracing. Tracing is expensive and the excessive number of tracings could be due to (1) creating @tf.function repeatedly in a loop, (2) passing tensors with different shapes, (3) passing Python objects instead of tensors. For (1), please define your @tf.function outside of the loop. For (2), @tf.function has reduce_retracing=True option that can avoid unnecessary retracing. For (3), please refer to https://www.tensorflow.org/guide/function#controlling_retracing and https://www.tensorflow.org/api_docs/python/tf/function for  more details.\n"
          ]
        },
        {
          "output_type": "stream",
          "name": "stdout",
          "text": [
            "\u001b[1m2/2\u001b[0m \u001b[32m━━━━━━━━━━━━━━━━━━━━\u001b[0m\u001b[37m\u001b[0m \u001b[1m1s\u001b[0m 424ms/step\n",
            "Predicted label for the audio file: Real\n"
          ]
        }
      ]
    },
    {
      "cell_type": "markdown",
      "metadata": {
        "id": "XPhXvX3sh-0q"
      },
      "source": [
        "# Transfer Learning"
      ]
    },
    {
      "cell_type": "markdown",
      "source": [
        "YAMNet is a powerful, pre-trained model for audio event detection and classification. It is efficient and works well for a variety of audio recognition tasks, where it can classify sounds into 521 predefined categories from the AudioSet dataset. It uses depthwise separable convolutions to ensure efficiency, with layers designed to extract features from audio waveforms for classification tasks"
      ],
      "metadata": {
        "id": "0FED0pasGn-b"
      }
    },
    {
      "cell_type": "markdown",
      "source": [
        "![YAMNet-Body-Architecture-Conv-Convolution-dw-Depthwise-pw-Pointwise.png](data:image/png;base64,iVBORw0KGgoAAAANSUhEUgAAA1IAAAEcCAMAAAD6NXUAAAAABGdBTUEAALGPC/xhBQAAAAFzUkdCAK7OHOkAAAAJdnBBZwAABFoAAAXLAGJNfuUAAAMAUExURf/nm//lmkST0//0o//pnf/tn//wn//////rnf/pm//xod7e4f/yo//rn/v8/vb3+f/2o//nmv/vov7+///rm+7u7//0plRLMpSUmv/tnvrlmPj6+/Pz9PPkl8/Q0f/nnW9nRfnomv3wnpOGUmpbPIaJkfz8+0pDNOjalNC9ev/4qLm4uqCOYrq7wf/qmXBubPPdlGJja/T193FyeLqtb3l5f3duZ5B9UcW2duPl5oFzVKOUW5mIVqeWXX91X2xrWvHy9Dw1LaKWa9vHhe/lnoJvS0ZITZaNX3lnRP/wk2dkYMK7gHh0cHhwTM/EgEc9KvjrnV9bTKKhpv/wm+DjoPb29f7mktnc3/LpoNnQjKygZ1RRTz07OZGGXvrejLmhZfDZifzrnbObZf76sGVgWHlxVoV+UU9MT+vfl19kX15cW1ZTRdfX1/7nhsipad3EevLuo4iAXa2WXLenb/HQc8rLzjSO0kI8L5OPh+CuWUExH8KsdIWGh+HMh+zFbdzUk6enqmxtcPz26ZdlRcTJkk1hW+W6Y+vhnlM+KqurgMu2dfvbfKCbmuz1+yYqLrbGlOzg0cTh9XdRKtGnVp6YjYOhh6N2PIWBdaOJUuXRutXq+ObOiS0iGeHw+jVERlBedJx5WMbX5XdgOP/99GFOPPbu5Lu3j2JNLoZgNGNbPpy20EuDtd3bmLCEUUVHQc3YoM7JkXlkVbyfe6uvuHRRQubs7YCTe2E6Id3annumxi9+vkiZ2D4jFjJPcPDQhX+Jb5ScfJxlLZyyjJV1QXY8Hq7M5/vqn2mDchkXGL2DOdqwe09tkbiue72HUmCMtd29es/TlsuZXF6EkiQxR5mNdpinhKu5jbuVUlMvHtGYQ19QUPrlwnaSs1JCR1NbR7HY8su0mT00PqaeevnQcoG24P7roVNucHNBNjFHWdu4mZhUJ57J6lp+dP///bVvMHx/ay1YisTJyNG0abXOouvts7DEz6S0mt7IpWWs4fnnnbqwrtDPvIvG7MypfO3Tov70zXKlIAsAACAASURBVHgB7H0HQBTH/v+eHniHgOyBh4chB0gUiTlJ02gSEcSCRMEcEiwgiAULikr0QSIkSg0RFZ7YsGEBLIDGgBURVOxiAzSKFTuapyZq2vt/Z2dm73bvUN8v8enLn0Wv7U7Z2fnO59uHadZ4/J1HoMX3n61YsXfvT3tXrFjRfNbf+U5fmXtjXpmeNHbkLx+B1t+vWLv16NF1cDRZt+7o0a0rPutu/Ze30lihcAQaSUo4Hn+nb9+vXbdt29Sp25ts396kSRP4P3Xbtq0/NdLUC37GjST1ggf4ZVVv3X3v1nXbpgIt6R1Tp25bt7Z565fVp/8/2m0kqb/pc/7+nJieCGltO7q3xd/0nl+N22okqVfjOfzFvRi4d2sDFAXs39G13f/i5hqr0xuBRpLSG4y/zcd3flqnx+6JP07dtnZJ/d/mXl+5G2kkqVfukfzpDllb/7RNTEbC79vOtfzTrTRW0MAINJJUAwPzP/xz6xVHhRRk8A1wqtFG9aKecCNJvaiRfXn1rjgqUvQZkFSTJtt+snx5Hfx7t9xIUn+759ty67MpqkmToyv+djf+itxQI0m9Ig/iL+tG/d6nqSYoYG3ftrX7X9ZkY0X6I9BIUvqj8Xf43H3rM3QThKq2/fR3uNtX8B4aSeoVfCh/pkttn5Oimmzb+v2faaexbEMj0EhSDY3M/+jvLY8+H0g1abJuRaO734t4yI0k9SJG9eXVabli3fMoJxDz1yhNvZjH1EhSL2ZcX1at1mufF6SabFvXpRGmXsBzaiSpFzCoL7HKBkQpcEE38Pmbuq5Rj/4inlQjSb2IUX15dXYxMEoBam2b+vjC3LmPxfjVqPN7Ic+pkaReyLC+tEoNfZGmNpk6derj5muvojhEwbFtbSPj9wIeVCNJvYBBfYlVrhDbebfP3b590drHi/ZubSLWW2xb2+iU9AIeVSNJvYBBfYlVGvigT328YsXa7duv/jZ3rQCiIHJ+29a2L7Gnf9umG0nq7/VoPxejVJOpc1si1m/bYwOecNvaxpD5F/D0G0nqBQzqS6zSwAsdaSbWAiJN/e1zsTDVyPi9kAfVSFIvZFhfWqVdxKFS2y883t7l6m+3f5v7WMT4TW0M8Hghj6mRpF7IsL6sSq1niVz8pm6/3WTq1ceP9+69KqKoJlPX7X1Z3fxbt9tIUn+vx2tp4D0h1vPxlNXoPfFiHn0jSb2YcX1ZtUK0VIM0xBMT/rBta2MCihfxmBpJ6kWM6surs77L83ui/2TZaOp9AU+qkaRewKC+zCrfMeD8ROBEv05tjJd6Mc+pkaRezLi+vFqbP0cyF0RWoEJvBKkX8ZgaSepFjOpLrfP5YGrb0cbQjhfzmBpJ6sWM60us9XuRHp1yeoL3qUdXNILUi3lIjST1Ysb1JdZq/TwpkrZtbaSoF/SMGknqBQ3sS6y2+7NZv6lbG/due1FPqJGkXtTIvrR6rS0XbTVwnhVwfU22NVnUqJp4UQ+okaRe1Mi+vHqtITjKICxen6a2HV275OV17+/eciNJ/f2esPXcvd+vfYrFd9vWvbcbdxl4Yc+9kaRe2NC+tIqBpCxbr9jagGcSQFTLubeXNDJ+L+r5NJLUixrZl1avtSWQlLVlS9j82tDdb9u2cytaW69oRKkX93gaSerFje3LqtnyApCUtXWLFWuPCqhq27Z167auhbTN1hduNyr8XtjTaSSpFza0L6tiayApxNZZW7busnbdum3rtm0DFd82jqBWvIN61YhSL/LZNJLUixzdl1O35d691pyoBEjVZcVPa9duhWPt2p9WfDaL/H5hb6N64oU9m0aSemFD+7Iqtra8zaEUah9IyNrSsnXr1i1atwZekHZp7+0W9GPj+189Ao0k9VeP6MuvD0hKvxOEkoC4+F/37m2h+8L/2vjhLxmBRpL6S4bxVarEuoWQpAz7Zr13b2NSTMNh+Yt+aSSpv2ggX6FqWv9GZKmG+mR9G1SCDZ1s/P1PjkAjSf3JAXz1iltbXr39dIJpJKkX+dQaSepFju7LqbvFVV490UAHdPqLBi5o/Pn/PgKNJPV/H7tXtKR1i6u3n941698uPB3Gnl688exTR6CRpJ46PP+LJxFJPUP78EwY+1+871elz40k9ao8ib+sH9aznoVSzRpJ6i8bbcOKGknKcEz+13+ZdVVglzJyO7896wIjZRp/es4RaCSp5xyo/53LgPF7BsW0vd0oS72459lIUi9ubF9WzbOuzn269sH69opnCFsvq+t/h3YbServ8BQF92D9ztWng5B169vPoDlBfY1f/rMRaCSp/2y8/geuBvXEiqd3s/XtFU+HsacXbzz71BFoJKmnDs//4Elr6yW35z693y0aUerpA/SnzjaS1J8avlexsPWSq88gqVl7G3OOvbgn10hSL25sX1bNi9YuenrTSxpJ6ukD9KfONpLUnxq+V7LwotuLdNGGxnrYSFLGRuWv+q2RpP6qkXxl6rFGJPXU3iza25hz7KkD9KdONpLUnxq+V7LworVLno5SiKSeTnSv5H39j3SqkaT+Rx7U83cTUOoZIAQk9fzVNV75H45AI0n9hwP26l8OJPWMLH2LGlNPvMDH2EhSL3BwX1LVc/fOejpbN/dCYzaXF/dsGknqxY3ty6p50bOy9M1d0ZjG78U9nEaSenFj+5Jqhl0GWj+1aesVFxq9Zp86Qn/q5Msnqfq2A1Gexvq2rSm30haxJehn8kP9wIFwTu+CP3XHf//CaJeBp97l3GdkUHpq4caTzxgBxnr165+1bma9cvzr35OlC3+c0YUyByu7fP/UJ2S9uotlM6iFXL9y9etdrOsHQn2kFNQ3q1k9XGA0w2n9nJ69Em5bWv+w/BC2+beds3zZimYrH/XsdRT/UP+oT/65Rc0WziQXCO7IGppDHYdOku7Xr0af2s55fRG9H7iT+hmvj5/VzHIOute/+4H2wnnqPVpfaPSafeoA/bmTzOpTvZb9ZDnj5thlWxFN1DebcXEEfFx5053bILm+2cCFG09Q6jLWVv2M5SeWrN40etnWJfXo/JwOQw7NHfho7OgTnPHDeuWjEaPPzVrdYcjotcaedP2jd7/cvG3Ryk1Dd86dsaT1yi4tNxXv2Nts9fxlX65d0rx7fZeWq0/Bx1kr1+zfaYRfqV+4vNehvZb1P2xctwg1b71y4fITi6DRbqO3IoNnff3qm588tpyxaezorXNXdxq9bIUBTdXPaN7dsn51889a4jUAvn9G6bMtLBfWK7uM79LaGn5dYlCWDghqut66Lf3aTPexvi3cNZxCwMF95q/R+1Dfti1Zf6DD/Ke2baFC/N2aP69XqqGPzwIh671zG81SDQ3en/+dObBuxe8n5h5f9lPzlnNeb7369Vmb4OOsZgsdlq6b8fqKgXNWLJy/eVnDPmP19TOOFy+bu+ntzzZdWjtn0crxi17/dI7njyt+WbFw89XVP7Ve/VbzX1Y8Gv3Twu/GD192wUh/61t0X3lx5+0f7pzbOffRj1cz1l1YffD63pU3357XasWMzVv/3Xcr97HZH1/O+9FI+Rm/rJ2z+cdFPwR57Fz0+YoWc35aeKrbsgvWF5dt7bJkzluzZvwyfuGJa9ssx7f67JeT534/99mmdWKX0vo5yz2OAsmf9zjEOR3Uz9jUq90yLqCofvXFVT9eaLtwle3Qq6uPj87faaQDcEtAtr/MtVy58NtWc/GiYf3Dt2/QIL+F/2y1on7OL/9odQGu+MenRv0a2i78R6ufyHqz+uZPZAFb+O0/ti5qu/oiLBhzvn2DnjcyhKKfYMcOSpWiM/Tr3qfHU9HLGt//TyPAHDgx99Gh25tPnj10e+H7j5e/0XLmySGHLvz7H+e6rVv5+6FfOt1+Z86Gp5BUs/qLy7r1XXRz49p/HFqxad0/N654p8vC5VMXdW/775lr55z91/Cji17rcvPG3rYt2h40SlKQCX/18ibj56/9deei1TMv7fzJ0vrgnr0zjh/6rvehCzc3jj43/viytUGHVvzj05vXjMwE6+7vrFz+42eXT8zcOffgsq/mb+2++uDbF9p6po1edvuH5Vsv/nj7tS6ntlm27m658OTRR8vOzVxLJiw/WvVzbuYenQWM4c2xV3/5dNbFcws7rX20ce2v51o/Otdl4YZDF5rN+Xz8pkO/XF978bpRnG228ua9hO1L5rzb6tTO2wNfa9b2tdWd3khZtnbWO83adp/zxqdByy4cPNtq7dwZaw599ZYxklp588tPv1sBEmXbdyzr13j8eKEF+rhy+fu//LTk0Se2Jxb9+9tWw8debYBO6ls2p5jabGVLtNkN7CcA6NocjFMDW1oCy938exG6LvkLnScG6rXepQvf0GvQcrOBXeB1Rpcu0Kn6gS35c/zQ/z0/MH8MuHH2x9vnb8y/dOj75Zd2rv332Z3zz6/75f0Vk9dZLry+9NAS6xlHli1p+OZX/+Pxpo5zVw/32Pmb5aNLlw7NmvH7+Z0XYPgenb8wY8PZnXtb/7DRYx08w39nHjVeTf3vo+deXLbi4s4VbUtqtoHhH0jq39Xrlvyw8/FruSf3/vvA0Vl/jDlxaO+Ea78ZmVXWlv8+u23h+78dAaiaef7QXOuVQLozlt8oOvvj3JvndwI3uhJIytp6JVDX6utZN8QgBXe2OvMo0FnbH96++vuytcuPrl5+YtP7cy8mvLl83az6g0BSzZrN+H3d5zPP/RNkPGPHyoW/fDJ1yeqfZs25dPRmqyU3Wy08u3f12a0Xz31/8Y3xK2b9Mfbq8YS93et/6Lb1M6MjsHrmueZLWv+xddGj7xb9+8ud2357tBY+fr/8DZiLC3/pfGjRjNeX/Hsj6qORo+0Pk85TobP+4oi13BBZz9k4evRWy9Vrvl5Uv3pSr2X4V1raWqi9GNiyO0FI65Xdu5OJXz/wtZazgOd9DTb80P1Ka9C9z7g4ehlJxDnw4JAhnPAAku3qU4cW1c+4PGTZBcvfB5zf2rrZjE2HbutK/a0/MW3njL946Ked62Zt2Hnhjz0/zv2h79FZm/LPvvvV5h/nzjhy6TGMz5G3jc4Eblzqj589N/P81ctvf37q5NrVd288RoqITTv3Wi/seg7Yx+QfFzWbMf7Xs2stZyxvgG2asemTvW0vXho9bf+6LsvPnwRl1MHrK1YeXHfh4bLHBcvHHl0y4dDcP8ZcO98rZv86Y7Nq9cyji2Ye+ir35NoWNy+ds7SuB5Sa0W3bkos3rs7ZcwNYsRmXgaRWHj97e/Wmc28tMGD8mjX79100XVdnHloyo0PaoUUrb26+AcLfEfgI9HkIQePN62tfu7m5FyhJjB71/14+dYmlpfUfO6/+0enE2a0tl5/vdHTRo41vvI2m2M1lt29ez995+9H1G/mYoRRVMuf60tE3ts4Ze2jz1nc2nLt56Ld/v31oxLm2w89fOjS32eoD0A1r6x82PibzXlT4j7e3vt589effr1zY3NItd8fW1Z93Gbjws0eH1r7+/ZzlG8/PnfHou9czxWyG/tI0o8PoXjDn4aj/YfnooWSMF87sNXrd93M29dre+oeZQ3qta+DOm8355fPLO1vO+cxy9fg5rT6/eGPFnC6Wqz9b/Y/NN/bOOHLozZknmn/108G3f6t/lH/ysX6r+C7qf/iJn1pzPhd+XP3Ld4jt/Qpx0KvfNL6Yicbi1fjKtH3ntSMnFm0+1GXmztf/eXbn1hkb133f4cbY8+OyTl5d2OksPM/VR96myjPDPltvOj8kJu3Q2UOzbu7YuvDs+UOzWs5d/cvJtXNAP9d69aZuO2/Pat59zvWtAze9uxZWPcMKLB/tWPbddyvGv/7PnXsf7TwK9LFwec0bny1cdqLzobkbWz2CWTrmaNdDc8d/PvyGEd6n7epNh/auXp6fkLX/6PjlZ4EAZhy8dmHlqR/nbrpx9Wa3t5vAMn1q6qwWj84ebflD+dbuB380gLp6DqVmXOy11tr69x3rZv0xf+3Fs1ffuZm1rUUzRFKgcen545JHm3/adN444wcodmoqzIfVy9fNXblpx7ZFbQ9uPnluyYzfs9bBr0h7A6tKpx+/Gr314lmyjOuPQ/2c8+d+Lf5x1pEdP66Y8+5Piw/9Zgkf51qvHn9xLHCkd9F0Xr3hbSPwCrVYbjr/6S9zf5gJY7929YaN1z+dM/PcwrNbH904+taSts0vXr9Q/1rrlQfHGi8M5etBznsz99CS5s3ru4xf2Oqt5efndunSdvWKP26d+2lF20fv35g669c33up2sqGcSy1aDvx95/cXT4zfdHTREss553/6/ej4DeeWNB/e68IPm8+1Pvj23Hfq/9336oxv7/SC1Vl4QNsdfrxqiawnLVbO6QBsDny0br1yzoKdv1nP6NDu0onvfz879NBt65W/e6wzvqAIK3w1vjF/fDJg51rr38+f3fn492W3j7y76OD586Ovtmw5p8O6OcvX/bpxa/PlQDJE7jbS5xYtWx5/+8LFS2PP//jW/CaPNt/+5Xzf89vG56bd6Lt1zY3XJ/z406mxZ3f+tNjjRsdDVwlXoV/Nyl/f/+STE7+1rZ/z3fcL17aY892iTe+//+5PrS9+8v6KGZ+uWPnLv5pd/OSNFfX19T+8ZcQbdOWGrGWdDq1o2TLzxxWndn7ebd34TTVpvdY+Ottr9ONfRty+eHLrwo0eJ49+l3zj7bHnDt5IsDVEmpULdx9dsnLT27e7zPqj05djtx5ctvePmU1+3Tj/7NUWqw8uu205J/vcipabTu59tAdAUL/v/OcZntuBQd60bJHlyps12xbdXLZ2zvl13W/WAMO7+sihFaBfq9+089u3L/x7OSIy8THn/N6Vd88u+f36j3MPnly26uS27y8Cu9DW2npGN2D6DpwAoN+0rAG2aeX8k19v/HHFHxuXrZt78dB3tz59Z/HGt9fNnXMKZLAl1jevw+puvTpz2Sxxm/z3+rYt5wA+b1r26/KjrVvXLz674uKPv2YefXTrxvuwL/3qsVOXtHjH+uZJIevIlwZjx4he5yznbO677EK9df3NnXN/ODsEOEHr4732/rF5q3XJ27ebrUxctvf4G2+NfqxTiJLyMx59uvPxrDmtlvy71Wc3v132eNYPny764dPXb54a+1sLGPibfdf+a8XC84csF7p7rKNGSl3Tr+onZvWvb65oXT9j4S8rZnUB+P5s1gz4AXzE6pt/Buq7lc2bt/z1rbfeMjIR+DuyXv1Z69UL33pr7ozxi1rMWbT617f+tWTgwn+99daK5itazBjffQ58As0f/GBMNm+2cuA7Lbu3gCffGjTF1rBn38DXXuve2rLta+/AvpiW1gMtrdt27w4nrL9/67s333pTfHzaqlWrt2DGzHm9xfgVrZu/3hJ68uaigQvf/NcsUF/OeL3Lamh4bxd0EysGoq7x/SYf6hd2O7/0xK8blw5JOHfq3Pebjs7ZMHrIoc82nWh58dCcDecvJaw9OBR+ePPI2dEcEyguD1LY6osbf/xpfPoNUDIc7HuueN2jG+fW9Dq6aexXZ9fNmXmj1Vtv/fO7X0asA+3+P4f8Zrja1q+e+f5Xlw4tXHbu+rk5b/1r8o3Hj5Yd3Xxu4bffbVp29fubuTvXru7Qq9V3Rr2M6ld+Arz6kKsrZ568/cfGoyl7Ds1dufwkAGuL1TdhNt+8Dh9n/L7zN8NO87+svHh29NbWc5afRArP1TMPLZkz8xKwwOPfWn5jRT2QFIztjPnAvxs/6le/9c+35w48eHIdQPrNEWtbWB+/BEWsf++194fNW5sdA5XUxfNrH40+enmakdWk7Zxljy3nzPz2FKw9fxx63Br0Oh3OLbL8o+9j4BqX/Lsb2HF+OL/uh1Pncg8ZWY2N9+il/8qgyQoaIhDg4b8lOuBT29atYXpbckCMuwi/GDnawmVIwcQdYFuBOqA8Vw+szPADfAfqrEcMRnMgqn+9/vp44b/XP3/rreZ4fz5oFhq0BGsMvLZGfYA3+IragKPtV+fzhxoc7UYPGDv6y4HcFdA8ugP4jLpi3RqIEXqAjDtAsM3qxwNVAXl9Lu7AL9++9ebn37/+5i9vrfisi2XL5pZz3nxzRX2XJdavNX8N0Wfz1f96E3Rv//7lrQaweuWjzZfSDr3Z7tLoGyc6nOg+/N0uMy8NXTf31KElnocenT15/sbR5ScvHVoEAuMlQA7UG+Gx8o+zlw7dvnh07rFzIDb9ce7C7+cWXXxjofvJpedmLURV/6vnpdFLQfMiLMZ9QyzuD6PX/rB82bpfr/dql3Vy7cINbzf5bHWLlQe/vmD56Prc+hm/973dwpCQ+brq57x5+d25bX/ff9S62UoQQIHZ3Q/CJ8iAxWstV/edOgtJp7cbMGTVD/zeemHy7dXLQRnUduHGo0ss0UeA5YPA+OWeew0Yv4Xzjy66eanXeTArGt7ADwBN9Td9d64A2rn22LLt78kghoPg+NvqDSeW/Hv549bIwHLwjdcz1z3LMMDfz0v/wDkkWY9//+t3v4Z/+n/cL+/+wg1D27fe1T+l9/ndt9AF1s0+5y7gKhDV8hXGe+tPkvs49OmHDv3Xfn0cYt7nRqH1m6QLpLzu7f1/oSpavzFpy/rFceK/QXHrR41uiWr4/g3xLZAKWw1Ep7vk+/ZzQIe4D33Of4U4M1jZu3d/553XXnunxTvvvDOQ+wQv8Nf9NaB1uKR1AzOz9ermzZt//1oX7rW7dYuW4E8CRurXuoMSu8Xq5l2aL+HsyJYruzQH+DdywIklljPeATiGqT9wluXAWdYr37GEku+AmblL8y4DW0LVi4yWtf7j+pCcdf/afO7ipa2rm9/cc+7X6+d+OfnGkWWd2gHiXs9a9t3BtJNfv9vgvgMgz3ze8uDo2ws3frLsNvCXe7tbLzzbbeeFhSveOX7pQlvE+K3+/dDtWQ3QZNs53Tqe/bHLph9/nXn09eKTb7/73aZDb+YebfnP4v3Lfro5Yuz5rf++fvLdd7d2aX7xUhNuN3vh7f9w6LFl/cLknWB7/uEE+nj9RyC8P97+DaEUGEGsb469vfD6ja933GhIjBXW9yp840iqbatJKZcH4z944/9dTunXF61XzVp0XIXOcmcE7ylB/8AY8m3Py9wVeqW5aqY4nOUmdDPrvh+Fu7mEuIS4ubjBqwv+DO+Lnd/lBuK1TyaloAZoDfz7lHHvvgZXtP0yKEylFR42WhsblWuHcd+jGl53oIVxNaSCKZdHfoZOd/EY5cYduBOkJ24hbuEOrbibbNtqyNizZ7l/Y9En3cchr6MKrFsNGdHX2DFiyFfgHwFWoNc/N340hyXBumVDZz/vgujZcrzxsp9//llbECRRB4wd4C3y1VefrX6zy+pfx4PwtbA5KMdmvDUeflz7/cBHX3366U9zvvrqq+/mcndorIL6H+afHX2uy+Wjc06du7nq5Ii3vwPWd9PRTWfBnea1RyM8bhz9tvjk2LMNyVIzfv30qxUrx69YOWdFl1+godeRe8Dn7zz6FJjglb9+unbJDPQrgNDqtxbVi9cT4Jh3gty38dtu6xat/n1Zk0VzNr7R8xB8PNvks0d9twKBDz979F+f//LVt8XGPGeM3c4r8BsiKeu2b/iEhbmiw0rZtGlTc/iPDiursMtjueVp4NujwlytmqKTgv+uYT3+ya091t9OQRXASXPuDy6ED+ZKq7DB4xA9QCN9P1SxLMMwEgn3il7UEjUr1/TkSKq++7v9w5TKpmbm6EDNk8M1rN/b3aF86zeCrCQGB8tKzBdglPo8SOnaVAmFlUqlFbkXpblZmPLUeNSB5pfamLKsHYs6oeb+QU+gB2rzja24m2zxSZ/BHxs7ese8iSpo29fZ2NmPPx68aj46b/2vS0MvccfQS4hBxd/Qp7HN4fR3wLbC79wp9CN/eLyPQLjLaLie/+NKo29w+Viu+6gFYwfiyAjnDZ8QmJKD+xFx3PAdmHn6s8H7jIWffgdeL81Bw7j6zV8+/er18aBTWTHnl09/slw556vvfvlpPPz6aQNKbGtrVH098NfWQPh8T6A9aJFrFP3KNY8WHdEx4/d2+08e/WXZij+WfX4weX/auYuH9pYc+nxTclba0S7DL106N+d62lIQ7JrNyDzaAEyKanwVvmKUemOTqxTNM5hvgsN18AgOhFq83SeUlQhOcV8kyv7/fIcbqW8nKw1Pw3xXDD+LSap1349VBgSBfpB3/oSr4bWOPuZGq1ByJIUYv6ZGKzD5cMj36MF+PmmfTGJQg8TiCSEpjzZOBuVZiYQxG0lI6t57ShMTJ1MnJ5XWVAXvJvCnMlWZOjq8iXrYtuNkM5WTSmXw3/zD+dyjfNPXp7/hUVjo6fE5nG81qtDwJPwS7zwarUrjPVLEpwv7Q4lCnwFvQdvjW335xhtfGvl743PoW+u34IzeSfQZHV++0YoDWK57Bi9I2sQzH+RWy9YtWrdAAqylZQv4bwliLHwGD0OoHnwTLZ82paEWQEEqbgNZQ9HWUB9m+YGkGsBI8G1+/fO5LZu3Hti8ZfPPP//XZ8AZvwaOcZ//61+fzery+edLXgPo/tcK0FvN+b4BptvgpsQ/cHNL/OML/c6RlOUbU6wAPcQHy5oBSUHz1i3G9AkVn+W+K45RlJpsZvQC1bABmKTadvzQOElpOr/L3WH3T3zMATfgT3Q0HYlQqlnrL4MaJKmWqIbXJ/lJRUXRV5m9J1rmrbsAShmcRutEU0JSr3V6T2FwAfrBvg9GqY4fa4yeV03+B2q//s0cP3MzBT7qFAr4p1CYK0xcfXw5kvJ0xaf2wRn9/51HD4TSn3nEKeG8EyrlBFfAfyd4USj3dQOSavGl7aneRo4gz1UdYXy7993Yu0MQnA/iXnujj/ACf1lvoK61ffMTI0fHjh0/6fQdsKSt+nbsSP/1hU/0r1NHTJBfobPGKvgWVd6s5bufdILTfDH4yH3u9AkaeHhy3/Y1Uhh+6vg+8LxAgK24jgAAIABJREFUtNYD33+7UyfoTseOnfp26vg2/tQJtfo5LJZAFd3faKCKT97/DFoY+JXxBj7p2Oq/rykkKDVFaYSkJBIgKW6BwShlZD6ZAOPHrQPffmw4X9H10mEDED3A0akBkpJ3fhdhTDOEUkZakEjMKUoFGT+vQymjJCW18xyPuthlaBsTY/Uz5oSk3vnkPaMNMHY930I9bNvxYzlH8ojs9f9kw//B3cGbtvZy2gKiVQlcJWEkivaYpHor4AtrBwwvYnrpf0beeTSYEAClBjmhy7nnAK/oDx0mfoik3nl3ZBiwxcDTcv/ou9I1LAitNy3HHg5TAt/NnzYHBhguDQts9z6694FfOnzUGY426AW/oo9tOn/k2xFY4qE53Al4acP90feP8j6Fws2avW/7Efxu8K+N8xDu2TfP6oNrw6W5ulA9H3l8xRV/bUS2YWmutnZorYGjpUcfrmeil496ZrXiRrZZ83E9uWpp3ehC9LmN8/434YruY32N9bBzG9uhaLn67x4cSTWAUhKJKUapZgOB8eMesPjFSYdSxklKRlGq/vlQStwAfLd6JkqNa4kG7XPjKGVjxzF+1kBSRrvIUJQaON84SgFJIZSy5kjKSP8kmuEEpWzt9RYmSnQSVXtu5rTqABjIQnn4j/9x3yTSjzjG7zOPQSpEhvAHr+gNf5AhkrJu8a6DqyFfDmQZ1qYvR1LvNVXDAWIqFIYKQGBE/6ThmKTe+fIDpY2NjQYO8oo+wX/XUZ8ASfX62FxqYyOX439yGxl8gMNCOeUrRDPWnwQpcVlUAVcOvbKmH7ij0/XNfXuo0HkbVAEc8AlqU9cpHTBJvdOpvYmNnC/HVyLb1xmjoHXLdv0VciiEDinUAp1ElalcbFtBA9CD8e4uFrTrutuw0ajac3Juy7GjlMIGuP5oVIPHGVEzclW+uBeOpNq+8RSUQm0DSvnBczY8TCbyKGWcaQKSgkeOjudAKTOjbQBKAW8DslSQcd4SoRRq4PVJjhaGPZQ8N0q1nv+e0QYQSqH6GyQpOUWpHH2S4ruCSAqmXqsO5sLbI9/kH3EoxZEUX4ajKO6bzAmjlLtxrtccSMoaUIoALNRJinJvjBtFqQ+U6Az8B5LDn+BNIlEiQRZISsEV415gVWDJn3LKp4hm2n79kZLlLhe+qL4ZyUlYQFKYI4ZyqCgc6E2qdMYk9Vqnb2TCkugCQGS/3oivg6NLu/7As6NC3Av6gP6k4TncYgXPdoQLdwGcZ1FR/AqCeH8PJOd+P3qU0eFRDRtHZh/XzH/nhSOpZ6JUg7KUCagnUEetv51sFAIQ44foAY4XhlIWHw75UyhFGb8WT0epZq0R42fsMI5S/JUWlPEzSrASC4xSwPgZlTUpSTkYZUol5h8BSll3HzvF6Gm5my3H+LX4sgGm2qrNJ82sgaSAJYY5DP90b0hx8wVHUtZfBzVl+dvRfZC174YkbYRSxgZGas6j1DfGhFwJw3bAKIVIykK/bdIRGzdnjFKEpHRN00/y6dMQB/H9EOMkZTKB6JvRBPxvHRxJ/SUoZXzCyIYRjd/zoJTRlQbJUhilnqnx+3OyFKCUUaTVQymWPkrBO49SAsaPv8SCMH6exkHYKErxhSU8SVnpftP7ZAYkpYdSemfQR8aeRymjJCcxA5Jq1jwfUMrIwZp8wclS1u9/ZMUaOS9v3w2BWDMepYTXyE0dOL6xGaBUQyRFUAoYP3oFoSaOwORAUhjGPnN3MUa1EkRS0Adg/IzOHelLI6lnolSDslQdMH5oVBtEKV6W+vMo9cb/TeMnxRq/ZkY1fjAJePXEM1DqOWQp44yfjJAUqCeMHRil6oWMn+5CTFIgSxmnCdOg50OpD4wXRySFUMooQEpUGKXq3+9tFKX0SMrYfJernhulgKR41hDTFDcAoSEUpZq7I8bP8CAo9drbxknK4qWR1POglCNreEOgj9LJUg2h1H8gSxldaXQoFWR8mf+rNH4vEqVgrW3VwfjtEZR6JuPXMEqhVboBZaUOpUCWMnKYcijFMX5Gzj4bpYSylLAKuYnDVxzGPAWlXscgBCRlTAwGlCKyFJCUMaqlKPXaGOMkBSj1ktQTz0SpBmUpi1dClnoejR9SohsV954XpRqUpVgbapcyzvipqCz1NJQCu9TTZKkGUUrxVFlKSmSpgW88BaWafdYQSb14lPocsTggC+qhlB5dIsaPu6DZM1CqewMk9Wqj1DM1fv93lOK9J4wv47ws9RSUQgP/F2j8jE76Z8pSvF3KOOOHZCng91t5Gh+hPylLUSW6UcZOT5YyPrYYpRqQpSR/GqU4UexpstT/vyj1f5elXhmN31+AUp3+bxq/55KlkKnXqEDzDFnq6Ro/ilItvnwKShGNnx460I8vGqUkVOOnL0vRxuH9uWWphlCq7pWWpf7PKPU30vh9aJSflzxT40cckl4ISiHG73lkqaehVEOM359GKQNZSm1hoeIHEZToOo1fA7IU9Z5olKX4pea/oPFTYbtUfQM+fsR74i9AqWfapYwzftR74iVo/ChKvSqylNTUzsXliZbMDkbyIfGeaECWsnhOjV999/9JjV8oy5OJ3of/psbvKW6z3yPFUQMOSf+J98SzZCl+gdUbAjDhU+8J4+oJJEtxGj+j4o7kv6TxexpKvTBZSoRSNiEbskdlO1Q9wXOJ2RdEUOr7//80fq+ELNWQXcriw6dq/Ign+p9GqeewSzVEUhzj921v44wf8Z54oRq/v06WAkdDfjn5T+1SjPeB/WPiMvakVWIjFBNJffzAe4K3S/HVw1r1ZzV+f1NZ6q+zS00yanCU/IU+fs9CKd100nvwOpQyzvhR74kO5npOtbryr4DG73llKUZlY+9mb0KxGkjqGXYpocZPGntrnr+ZRcnuoiTOJ5DxC8JK9GaAUg2QVKNdSjdTyKe/k8avAVnqWXYpXuNnnPF7Lh+/Bu1Shho/6lGKHsBzy1IqgweHfhBp/BibiZk9R2WXric0RXz8kEMSpTL9apBDEmdVeoc4JMmiN/trJWrvxIQCbnHR+fi9KI3f39Qu9ddp/J5il/ovyVLGQxB5u1RDjB+WpTwVrP6Mo5//JEqJNX4WSisrLW1Izy5l3HviP/Lxk6am7583cfeOZevxOKie7uMnayr0nmBk0dcLnFhGkzhmPSeZI5LivScaQKm/rcbv/y5L/YUav4bUE/+5xo8xMeG5lxfv48d7TzxNlvqrfPxMFn80alKZP0ENPZQyTlLKj7CPn3GO11zg48doDzhXBZoEVPuWYVADlKJus8ZQSqaLl8JusxZRu+dFqhRRuUWBmPEDJToHY80aQKk/rfF7tWWpF+jj93/xnqDrMKz1/7GPnwU7vX//9SakCt4h6T/w8WMsIAUF34VnaPxMiPdEB8r4MRYmKhtdaRwv9XRT7zsQggi3ig5GpjKRsdxHeEGe6Dq7FGNzLNej1nloRRye4zqU8mmApIiPX4MkhaY88URnvHcHudpI6iIyT6H4Y0hBYEyW4s6gsxJEUhwI0XgpRnP/3uz+kSWdK7H6WIBSDdilGpClaCvEE73Rx48bcfoizD1Bf9V7N4jqZUwgEZKOB3uGxo/3RKc+fnJ5xo60rIQHxCzAk9QzPNH1fPykNiH9+8ftsyGd5HNPGGf8zKmPHyEpqU1wDyhNb+C5NH7vvO9AaIIxDenRf5CCwoLAx0+t8E5P8I90is2+g2+OolSDGj9zRFLg42eqN978R9ZJgFJq75kobsoiFUiKu8ZQ4yeF1Fb8UiMFxo/KUhxbx2rv78hKK4o0Y1muPEO9J/4DHz8pyZuFcVIi78HFS3VvILgj9O/pPfFXavy4JyHVHPvY8/L6ffi5YJRCj+45ffwYzQbfsZ4L8sbNdsQPloYgPjdK2QRUp4/Iti2KIzSlIBmSvsvR5Z7gqsYvig+mAX9j/UZvjqQYJuB4zoA+q3ZRIf95ZSmMUqj0uD45u9YT2cNM4OOnSHWYZyWvcx0+2ovrmw6lUFSvkYN6opMZKrpC6D3BWBzYWGAqk0XbnsbCmljjx5gED/P0XIO5OlCBQwiiPkox0qhbCZ7lS4toY8/jPSFCKZuQyZ7c4YO9eaTtcVTvkFFG7+/lBco/0xP9/y5L/YUaP2KX0gRMKB6aE3MtxZHFM+D5onp5u5Q0NflEpJNrxIFreFI/P0pRHz/vM8kV/iUHfO8RJy3Fh19yq/FXxpXopoc9wEnA8kvsPaFWZPgmzA7JbFcRiPv/XBo/YPwwQZrej7kzO+B4TYU/Li3U+Gmjuj2wkaitJpzH0hRFqad6Tzy3j5/0Su+quHDtsG6VeC0RoRSjObY7Ky95aGk4NhYYxEuZZGwuCAu43hdjHLCwfFRvA7KUgY8fq43tk5eTNS0nZgy5QSApWK4aCpQ3/fj8SwrueJ54qZfv44fVE6A3Ki7ydwrJtK0MxST1n8lSjE1itwdaR8Ypqlc8XsmfH6Wwj5/6yq1TTjYWyuh+BVgiAsaPW431MyThrnGvJh8gU691K4xSUm15RaRJnev985XYMed5UYqLl2K8j1R4aeTaqPx5+O6FspQiok+Rk8TCbEECUQDo4qX+Au8JtXdmVlZtgVkoYdxEKCUNLr4RH+kYbXvHi2NLIV5KZJe6sudOfHVakR8ZnOeRpUQaPyY0NCy834PIMyP9ufuX9+BQqqGoXtl7LytQ/pko9X+PlzKm8WMYuRwvZGhsn1uWwiiljjgwwN9JZpWaO488GgONH6NSyVS8BC9zxKkxSbwUo411fxAqYbSJowuFJPW8shQTuycFlHcmVzrPxiyMYe4JdIMsujl08KZeTgdgErH8NEguyqjN8ViAwSilr/FD48NyReGF80RHGZIQSjGyiAOlfhpJaMSqXY7cFcKo3jqLBUWRKtOIBScwhFOUalCWolG9RtOxiexSjOmZ4oo2ttcqqRQoRCnGImpVmZWNmTbzBoZ/A5RiNBm1Dul3Cliu5xxKYY2fTpaip/AVRjV+CvsBZYoDnTBKkajehnz85K+0LBUqvFsyKv8XHz9GbheeZM/Xp5fHz/hKKoyXUgff7RTJSKQRG3YRzkmMUoxd1DDPj+NptiILR2EeP2mEwx1/lSz47h3MO/GMn54sJSB6vXgpbvWVxu65DCovi9ielVjzxWv8KOPHsPbhXo501aA+fgSlvMuL9rGM4tiqeCLkizV+jNw+PAmTBIyyiuTxw+oJtfeGIi9WIo86W7SPq1+IUoyJ24TBl+Od/LzxtNeTpYyPLZWljJOUUJYC9cR8K9f7ly7Ti4UoxWiiNoPKh9VWnx8UiqaHYVSvPHBLQUGSPYvOwmGIUqyj3lrLOSSJZCkoZG7Xu9LpuKeXFFXxbI3fQI4n/2++MKixZ6LUXylLSZWJ6R4eCfFUM/TcKIUZP3XAGQdY51RX+swjvKhI4yf1rt4xZPCtmK/9OAKQiFBKopb2WBMerohovx7PeZ6kdCgl1dqFhz+hHQSSonn8kE6AlUScGVNgZhqQ6x6JJ64YpWSaTN+Y/HlUTKfeE1iJLlUeGeffVOV9IAF75dAMSbyPn1SekezhMc+LYIHC3h3y+IHGj1NPsKYZ+QVNFQEHEh5wU0oi0PhJFNrc/MvpQ2ebEnKmKPVUWep5o3oZ07u2P4fk3ojH4wrzWWiXkqY6A+PAeGfuNI5SzL7YPR6+HkN3YWwH6qAaP2KXYjSpHQoDFTx/YczHj5ElhSe52KntWERRHEnBBG4oXupv6j0h0vgxmtjsoaP6xCTE40GBnOh8tlm6kjIymUzH+vAoxWVIYqSxPavqVNozfSr3caMq9vGzuJLea7Zrama7KowCYk90RnU/s6dDkZcrFoR0pl4epeR2Gbn9+nSrJMupHkpx05jVXBlc1X+99zCfUNwBHqWwEl0dcKRmaZucaaUu+DxNOoZJirG40sGnf6X3/TVPWK64SJZSB2wozh+Vk19EaMrEfuNbKNsssUupQj6C0nYZtLRQ42cKszosKruICr5GUAoS3VL4hOb/o6heiyvlCdm287woTytEKYnaLreizsQitU9FJHdnYpRi1CXLu45KT6ugKUTEGj9GG7U5b+ThOD8L0kPD3BPS4CN9+vW5F0/v4dko9ZLUE89Eqf+7LGWg8VNcuTXGX+Hkt3sMFmKNyFIKzbHhgwsj6WIoskvJTUu+GOwTKQ935GYkyCqCPH6Md3TXAlO1IuLDa0nckxXHS9WlFu+Mz/BIMeXOIk6CbjNAko5ZBJzZn1BwvzitjJO1JHooxXUJ1E7FWTt6FZhgnJAwfO4JjvFTKxI9qiJN/RKTT+CZzcdLgQAmkcDpPWlZSyvNCEVTlKKm3qax7U4kKZwSa+c9QZfrGD9O46euiyrOijlZZkYHR6zx21gWFpFZEckV1fn46WQptQJ2R8H3ha75T2QpiVoZ6b/F3zWUVC5GKYlp8MEpKVu09oQhN5ClQDBUKd1WXcMyJGb8OI6MylKMxisjJit/lw9+coZRvYzVfY+yLXHr7fku4Dx+/5+hlMjHzyRxz2mlY11YtEOBlhsYvZ07MErJQ4741jrn7won04ZHKZx0TJZabuvcrsicrnUi7wnG+0y3h1CzdzV4kqEGxCglix3xIMwxt9SJVM+TFEUpRVR6RYFSEZszBs8NPZTiiqhTbw2oyrBN2EKntdDHj9FGj/U3Y5TeudcwzFFZCueekGozh1QNy6kgswZ4F0G2WUZ7xr3ASqPwHkU86fg8fkp0M4x39fmq+zlDkmjbQlnKQpM5rjTXdjavphZr/KTB9z07eFYSgKQo9Xye6IzmoOepy6cuEw8/6LnQe4KxO2Lr7JtQqSSLhYHGDxLCuwUurrmGnzsmKU5Vihg/zntCHZZoW7ogb1URlrRRcAe+gGRIYkwTh/hDcnh+TfjfRan/RJYCro0uwDAHDDR+iujrVSqJui62D9F4iWUpJnR3WpF/QHVyEZl1QpRSB9wd98C7+tJ6fliFGj/GJrrPA0eWifjojheahBIxStlEOd+pnFicYsVypw1QSq2I3lygktSZRA8ghissS/HeExaJe1JcXTdcwgpDqEQoS0m9MzrBjAdhfiwmKd7HD2n8WBvvmaettBNGV5LmCUpRjR+sCEX+oSyo2hPWc1dgjR/IUkTjl1ka2RTsO5SkhBo/icy7ul+3Kj4IRixLyQMyd9Rmx/Rag/ETo9TzylJq7+N9+mXHNCRLMbKo5KKw6BxeRy5GKYYpyezT03npPPrkEOPHoRTv48eYJeaXfbO8eABmUQw1flYlm6tc4lxEKNVgVO/fwsdPbRbc/oP+gVQphEgKfNDQQXKi16XeuufFSpUbBvjjoRXLUtII53n+JmqnxBuzMWnqUApxTkBSGx+GJa4iVh34RaTxs4goL3poZZbhPHsfN+/EKMVYJKbHxFxbryFzWoxSjNn96/4yiVoVvWpLKFSPGD+QZric6FwRJvhu/ukz0+7wSMHLUljjZ34MTGasRaotMeYilNJlSJJabZh2uroG5A2uMh6lKONnHpsAeheLK84nsDDFo5QV1xfTDI/Tw2pu+NHSQpSSB0z84LBP/zh0KTpEshSjOrO0zMvP/kBCgSPLXfAfyVIS5sk+p2E3iIwqRilGHrXq57DU3PmUXMWyFKgjFhcWVvrzYWMGGj9GGnJmx36PinjycAxkKTB9xGR5xCwt49vA2Wb/zj5+jN3E3KG27XbxK7hYlmKkAWd2bXli4b1gF/FyM0CpVPef/SSsU8ilNZhDEKIUw0bnVLyXPZqf0CBL6Uf1QvBAe8/Dh11CejzBK7lBVK+FJvaLwzi8gJt2Ylmq7kpumZ9cFbw7AU9qsSwl0aT2tLUdUxDKTUp4EaKURFXSJ75unzZx5M/4Cqrxw94TTN2V8lrbWsL1Qmmhjx9jETGyyCvUPHHkA9J9ss0A8Z6wCM60zakt4/kAocbPJqLcdpXv0DI/0jWKUkSWUkfcrXioCnUFtyVHfIVYlhJYD0R2KdgWhHnSdFga8UPnSErfE50JTq9N2e1RFUoaF6MULIfAs01PKaQIy2v8qCxVF5Hr63vPJ0lJpC2DqF5Wa//7B5um+Kx/YocboXapv3EeP5PEHUt/jrxfM66A6IANUEqiCBjWuWtKpBO/0Ig0ftLUPvNgCTeJXTobwxiPUjgnuloZm5s3kjguoIFFKIVQhPj4SSNy02xjrpFgbENZSpO6oeukzl0LQ/FD0TF+VJZSsxlF/vZ+qZ2rHLlLxCglYR29/B8mBZKnClNLmHsCjMkfdd61vqk52GTRASj1L+ge7NzBfWWfeP3h/9DRkfsCL0JZSqI2i13QeVe8eaQG1y9EKQmU9l/o5cWXFmr8GGndQ2Viz9mhpHIRSqlTd58Gxb9FRHYRZoqJxo+XpRi5o5e9Pa/FFtqlGE308lGdbXfqm3oFUb11EdV5A8qwrQ7dmEG2WWnwsNya/FJ9xk8gS9mkTpodFulFLYpIiS60SzHakg2dOwfBxlJBmDD//rIUo62+9sBJ6hRVXkEWSjFKSYDxq03JnFZEMMTQe0IqK+/l31QbkUlMsfz+Uth7gpG49fDxKRxEDBPw6IQaP7X3mZHxXseKS7Guw1CWUtv19/GpvhSvotNOjFKMKjo5xuOOlz2hGYJSvCyljrrlOy3GYwyWtKAWHqU4xo8xPZZc9EVxQgGdmaHA+CGSwqZeG+/MadM8PCqwpIS6L9i5gzGPtU14L+dkPA0jxCRFo3qlEQem+fp61PozpPdCjR8o5VxdvTdUBJKzFKWIXQo4hGvIppc4pIwgBReCyGeblbMZcGfjZlMDhjCql1EvPuzjE+9PIVCs8WMlPXx+L+zhwpLGxSjFmCQWn6yID+eXIsT4obUQglNIoLyFX9Kx3KGlhN4NNX4SrdsHa3x80D/czDNQ6tWWpSiokPEibyLvCSaiet5DDWvhPfltcr3Bzh2micX/CPPOTdjCj7wIpRhZ7Mc+PpURsVvItKEoRXz8Ao5ft83xHcJPaJEsBSTVtSAs9vp8K9KAWJaS1IWFhdnNrKJzVixLSUxKbi3tnTvttA1pX4xSTPAEz+ELfO/wPRCiFGjxh4Cwl386lIwRkqVg2pBss4z3Mc/B5b4GshQ19WrP9H0QlliMXJ64Q4hS4JrqOXhBDDUTi+Ol5AGw3FSnzyP4aCBLmcQOqPKr057pWEAc2QWyFEgqxUuDNhT3KsQKN3G2WUYZFlbXI96NMm5CjR8jv5K7yjZ5WgolObHGj1EhkqrEbg/o3gxkKVYT22fatHuDiKDHmXoFGj8Jo4CHhw5XFfd0/ndR6nntUmrv6gpg+aTemXfIwBpq/BL3FEVG5C7jV2mxLKWuO7DDNuZkvCl9clSWIp7ociYpKby6L7FqwZMRavwgnid36ahi0G1wM9IQpSRMXaTS/lYpZVB4kiLeE4zp/c3+sNT3pVODRynqiS5RWyislt+oJB0U5Z6QajPOFzhl9OJlCqEsBQyRhcI741olS/on8vHzjh7zc2R0TRU13nAkhbwnCNvIWCjMMnQLilDjpwUDw6q8e4H03ilKUbuUVHt/QeeyJD97eoFAlpIH777j72cWAj76uHNClJJIFCWe12PG8LKQyHuCkSYleR3fPJtQq0SMUhJJnduR9OKxa2jjvMaPyFJy7ZWYkz/7+9EHLzHU+AHjNwkYv0mdTxVyXcQo1aDG79X2niALF5kH9E2EUhKTxKHzrEw0Z5xnP8GXGMhSanVi+jTf2tl8fWKNnzx187wtEzN3RTqSRihKwS6ILPzEKGCH2ombG9T4MSYhPikplbxOTIRS4IqW3c7WdyjPWfEkRWUpRdT1O5VnbItonKkOpbAnOrCei11CnG9U0g7ydims8ZMFH2jXLqaUehSBLIWzzeKdOxgNlJ6Ym+BPhE0qS1GNnzT4gK+tBygkyd2LUQpKL84d6k8XcqHGj2HdwpPiBum86IR2KUaVkVwx2TfBX8st8dCCvo8fY3Ml90GoXKrlpVihLAX+hb43StfoGDchSoHUCg8mIrMokMVdN5SlLMzY4ImXCxu0S9kEfOM8tPY0H3VmIEtJVMGbUqakpGyakoKp/n8XpZ7bLhXqNvzwoPV+sb/TcTWQpZg612MdTsVb0aXKwHtCk7rxZ6V3xi5eXKAoRRg/1m36oLgNQ3V2KaHGTyKxi3u0ZUtcOHmwElFULyNLnRwU1Ju3zOjUE9THTy3JiJkW04s3/fAoRTIkgZBva2t7cp4XbYGXpWyxYK0MGN77ciCdOHSv3m+xxk/uvSHZNtmDV8pRWYoyfmplxITel7eo8LQknujIIYlDKSbiOLSddYew1QAcwp07GBP7QQtWnaYAS1GKyFLqiN13Hlpl6ixqeMs2IksB25UL0VaMd+z52RgohCil9i7fv/NBEmWYAW6FPn6sBB5MRnEpbdwQpQLc1HWuYX6UQeE1flSWYlVhxyanDz1NzU4GGj/wPUFcnzIyzAoP0N9flpJYlOzxSD5Z5Kei080ApeTBEyZ3GDx8DR028PET5p4AU6/HrtysFCeKYzxKcRo/cJvNgVlVyqOQSOPHBESn29rGpPHCiAilQJVroTCPGs6zLwYoJbFQJG3Z4s9PHR1K0W0G/ohbv2U9j6IijR+jKZncwXP4YeKVy2n89PbqZWzc4rbEbQHFGzlEGj9NyTAovSmOnhehlNwtLm7LFi+KMkAT+rkn5AHROb61ZbxCUKTxY0CJXmBVfamQelcIffxkEXfv+MkBJq+txyAoRCmGsb+/udj2Mr9YCVEK7FIA/+3c+bVOjFKAkX38lcqw+7XY3odkKVFOdGnA/eFTCr1C6dCINH6MiUquaBo8bONpumL/76LU88pSEBGTVnQsJ9+fX2QNUEoaNTMZZnwF/2DEshSjiMq0bXdNZzgSoZQcUGpQXJIjGXYDjZ80ePqg6Zk3qihKiL0nJNLgYx+mn0xpSJaSyIOHnbrseTmeJS0QlNJlm5WauwYuHp4RJiGfAAAgAElEQVTCs1c8SnGMH6tNBJrfoXMy4L0nsDQESrmHLnpLikjj552Y3s42K20NHUGRLAXyeaTL4Mt82wKNH6uN2pM2b0skvXU+jx+RpRgm2nYMKDd4xYrQx4/RZtxL8nIqySwjM1aIUhDkZRES23MsjtyEwRGhlEQyvcf0wi08gBqglEV08S6Icm8TU4Q1krzGj9qlmLozyVlDK6heSqzxYwOOFSZFDcv1GFLmSJ7NM1Dq1Zal+JEiN4PfRLIUE7Fh3kOnxNwC/moDjZ9EHRgZGdIZRf3gQyxLSVjAiC1beIZabxfEpqgEY1Fnf2x33/W8tVPkPcHU1dWFpSYXNWVx/WKUkqfeynL39PejC70YpRhZyYZR4DB9mooreiiFq5RLqnN2jKPx4DC1RHapusjIyIwK6ijPhSDqvCdYJmCCs+/SFC/cOygt8PFDyhMoPSCekoUQpSQAws41S+fTVVqUIUkbMcHZ1r2MNzCIUEoiNY/9aNJl/1B67wJZCljgkPJVefO8Iil/IEQpcNGTSE3qAr3ooxOiFMC/yT6XzFUNavwkFtE1IzuP6vyRpw+uwUDjp0q9XnogyOF9yoEgxk9P4weWao9xMeN6b4mky+FzxEu9qp7ozy1LQWqEMYOTa0koEMwaA42fxAKEWCvqwQZXiFGKjZgJHgAepZF4/kp4uxSVpUKOJNu6r6ET3kDjpymZMOVweRoKneUOEUqBeiI9LehwElU+GMpSElbyxD51QYUjqcBAloIK7hSuV/PzkkcpLEuBtOgaduV8WSgpL9T4OUVkZp0oJJwVukKk8eNKx15Pod3HKEXtUjJUOn49D1ISocZPIjd1KywfN9ucxW2LZCmGjZ0yGFxLeFuqQJaSgKiVsKbao4L66Iu8Jxht5ilXqzDtAuryK0IpNiAjvd2A01RSMtD4MTYHZ/qbP3nC0NgNXuNHZSltatf2dy93BYc13H2Rxo+RBhcOy/HtdTmOT+WDUapBjd+rbZfSTWF8u/hVhFISi4ADOb5LTzuxZFAMffzkwQcHT5mcTO24sEqL7VJgW+m/oaaMl2V4WSoI2WrUAQd2nIzf4ooFaNQLIUpBMtPrHr7Trm2hwogBSmlCqnOS346jFYhRCnBw375I78yvKdLqoRRXp/TKrbRrh3WPVYdSHOMHstSwKVNyez2gToRC7wmZd6bHtRSSyQ51n6AU1fhpQiZcnrI7izebCVFKGlEdMyalkgcpEUox8uDff05qP9yHYKAIpZiII8nTfLOWxvHrib5dirGJzf0ZTIZn+dqFKKX2vnV2ChzZaVVYtyREKViravbPiwujHKuh9wQT7FbSfkuoFN01OoygVM8P7ibXllFJ3EDjZ6I0d8tIh1g72ohYluLiqHRbIfwd9upl9nk9KtiSxFOUxFCWSt3Qs1/PUzh1ABpYMUoBZ2eiiDizixfBRbJUQOLMZOddW1hUljvEGj9Jkn+S/xZ+XohQCpzBlVfaBI3inwpPUtQuZRI1M8/Z1oNES8GT10X1YjKsCzyYmT50lwuL2xfZpcAfqWe/fl3jeeZE6D3BaiInLs+eVhqOC1OU4vfq9Y7t3K/fyJRASvFClGI1jtMX5Hq4J8kIRgo1fhaa8hjfSRum5VfgFZCiFLVLMU+SklwySWoo1AGBXUqTmlvhP7Emga4lBih1a9qo3h06dAjy4UlKz8ePsUndkGPbqYpfew1kKVgOz9QsreKtZrzGj8pSFuyEQdGdq/iRM9T4sZAYNHDx4HhHMnoiWYqVyiWMPPRJKIvP/x1kKe+MVXmr2o3QCToGGj9Qcns9CWk/iHdLMUSp6e37VxcX+dFVnkcp7OPH1Nm1H547wJ9nT0Q+fkyd1m1C9ujDlHMSoxRI2Ym2+e5xNLskT1LULiV3+ybl8OHZgbR9PZQiTyrYRVLiswZSPOIHx9ulMOPHSuz2PZnYI5yc5dO5kL16GUVw+y8mX17PL7QiWYqxC3Sc3p6nOCFKSWDzDEnIF2vsQ9xw20KNnzaqZ9nE9HHxgxOwvVSEUmDTA5404zzv1CyUpVibxOw82zHxPIaJUSrz1BNIlaOSEp5XiFLA5GtLDue206kODHz8mIAzuZ7p7vEkwQRi/AQ+fvKAY+3bt+/h8gTfm6GPH/odRkCulrD4EiFKQf2TvExjc9rdI5L4K4xSzytLAdMz5b3hMbW8mdMQpUDCdftit8e7/IwToxQbkR7jEePBm2J5WYp4T0gCXCJdS3xCQmgcndDHj2ElGTk7hpa64JUUHrS953jkR8bvKM+YR18rTR9TRRQUPElRuxTnsWTfP448NYpSOh+/1LuedUqX/j79Cc/Py1Ic4wcoG9pjWPFo3ndVKEuxspJMj2ntIMKS4IxQ4welQRgsPtmAxg8MxftU5q5WATPn49sXaPzApDTf3zU3IezgZswFUJQidimGLfnA55v0k5V0bISylEShLNm0xt8Kz1Z4FWn81Itd5OCNLqEpV0SyFAhPStfgL+J4tk2lyzbLMXss+BiWP5xYfj7ej2sCMX7oyfA+ftrUdI9pO07yZjWDPH5cMVYvf5QQpSA4dCSw7CfzPCrxgvVqy1I8N8APOPoglqVAHacwi+6jC10w0PhB9oCc/H4p6/kEQgYoxS6uhOMJy5KWKEoR9YTmjMODiP4FiTPLCLwLZSm1d8aOk/P8I7mHiGowQCm1MjrhgcuRzUXYQ4EnKYpSIBBO6FnTKyWUtC9GKciQdNg1Ymav7HFlWEwWavxApsgdOmBXIa9CEHpPQFTvmIJhZ/t/eC0cT2yhxg9K757mXBrPrzgClGLUERvc451MnCKuf4JJSug9YQZe/NHF42Z/1MtoHj8mIqOPg8PIKp5DENilGCb1yMieo7pdpjcu9vFTX/ndSyZVxU4gJjchSjFs6u/+MifzWB/iK2bg4yct2bAnpuuoznsSCjgOwECWYlkXMBY7lHmRkRdp/LhfGRMnPz+az16k8ZOW7OnW9EzO7JDc2Xi6vsIopWeXYhTm5jzPJTHp/09OS2n97WSO0WJDehRO3G3Lm/sMNX6q2D37Kwq9qIrbiCyldq1zWT4ghadhKkthlJIH3x358MqoMl2GBaGPHxNQsmHVgJEpbgQExFG98OTbJKfV9uuZPrqSk1d4kqKylFNsbtqd0nidJppG9WIfP0Yde6vU9Uq/sok9SSQcj1Ic4yf1jt5xI2W9zj2E5J4g3hNa75lF/76yuWD6ZiLNiTR+3tE1aZe3QDp/cvAkxVm1WO9jubYOKVv23foEc0dCjZ+FprrYtvcw51piAaAoRe1SEgmkF+rRg781oSwlA39gz/KhRaG0bSFKQQLnSZFXBvvHpqdgDBCiFGg3Npf16NHjeF4pRm+xLMXIS6pvOZ/y9Py4ChMdYvw4kKKylAQcc12Dl1dQkhJp/FC35HYbnB0G7KL+WhileI1fxK1xvWsSHsbmEne1V1uWIpDAqFCW+zpuMsIdmrf/5zuciPrtxygMnPHOqPH1zbpGPaE5Jbowqhf45fIaj3vr+ZVS7D0hYaMOtEtLiOdJiqIU9vEDTe8I/+jkeYikWGhSrPEDecEq9giYchuSpdjg9pm1Re994FOIZxZPUgSlIKq3BuylgTa4dk498RZ68m07kmyzwQfOl+4e9yCiJzGJ8iiFNX42wcOKY2qr+HlLo3o7cKptqVNmQvyG8wXTr8/GOk2Rxs8m+H6ub+3pcDV3bzCANAQR82OMU0BGTlaCz/VP9nEXCFFKAu4Hl7do7/cnrqcGslSdZnF1ci+xxo/GS4G3UJhjeYUTXY2EshTjfSsoLLa8IGLmKVy9CKVsomI8fH2nJWclYBQTe09IWIVrRLArHGZYTDVAKYYJHpQU0L6QsvQGGj+k781aOiU9644LnoEiWQqc4T0SHjiF9Cc1vMIoxctS8oDjyfnZyRU0w76y/z9aoOkGKIVISiIJWeOzBuKcuc/oxUDjB3Ypu/7VfUq9qMOyWJbSpOZkFVViWYCrhqIUYfzkiem1ydNsnYdSV2+hxg82AWTP5Lin8Ep0A40fo9Cs9zMxoRkyeJKispTcrseCzbYD1tBlg2j8qCzFSmSpC/r1SYmMGBYfynVQiFKgw9M+8im/x2vphd4T8tCQ6lGjUiJLggiUE1mK+vgxFlq39j0HFJoTkQSTFLVLQWRtKKjZy4uz7jzh2hZq/GC8A854BipMCFFQlOJlqdjcds6nZvM8qUiWkpqbh7ndSiBLlViWYkxhMTvgMS92DySJRocQpdTesatOo1CmeMLzilEKSjCyUNaOgSeEihvk8YPOl9fc6RF0mo68gcaPVU5MPl3g5PZNzmk8PEJZClJv3O93L8VPJsMNSP4HZClGFQvr7+IDWUVkGTRvj0mq2bcfY7dOk7Awv8mniJgAw2ag8YPIzsIwp/CkiT3wMmtgl5JHlPuOKAVPcijNHTxKYY2fVHs8OcGnOvke1YGINH7gYHCmeNyIeD9CswayFHSKTFeuep6keFmqztUk5IxzKV2s9WQp7lmzahOto59WI5USJOFRCmv8ILykQ1CHoDKqB6coRTR+ktBQxyehnJzPtS+UpSSs3Exp5ejiN/F3bJAVoRQUUTuZO2YMOO3IlRZq/GCaBpxZwCdfEsdLgcPv/hsFYeYUAaknOt5RHjCietKknvsrQrma4UWEUnWJybUeaR6++4nNUIRS8iueD8NcXZUKHMpkaJeCGhmW1s19EWr8GFXq5nJbn+WfBJKLDFGqaSJk79aYN83chRNciVBKA1EONXouya8wSlFZChKSVxQ4mYRGD6jCK4lJD6EsxQQk9my3VOdtZIhSqsSak1VNTa2OjCDpXMQoJZE7Lv44G7wn6FolRCkQvvzsvfy04UQIFvv4SUCEP3MqrnrzPQJ0Ik90vUeKP/IkRVGqLnXBz+Z1LoVxLuQCkV2KhblmZgou22R+6OxSWONXF5V976PkfgsqKjFWCDV+MK3kUhkyn5CeiDR+3sf6Jyks9nlvOI8D0jmS0sVLcYUYqcKesDYCjR9OhfshdT4AzHKzfR/x5USWkgfEZraDxCA8TyqQpRhN8PHevTuk+MMN4kMoS0nYgIlTUuLuD/Zxw1yIEKVg4ANjs8u8eClQhFKM1MTU1AT+8xfwGj8qS4WmLu9/95vlHZNI+wYaP/CfHAtRMRaKzHuR3OAKUcoi6pZ7QciCG8SRHqbGK50THaEGzNbdp81Z1iJiM2TxQfeNNH6I8QOUQowfhNTuyEfGfe4kusBA46dK3OM8oCrSNTqPGEMNNH7M9Ph9IYfjS+KeoApAXuv39mvQQmuqRJcwoTaa0FBqNjLwnig5fivv8pTMnDs4JEmIUoyJwow76IzWOSTxslRi9gPtlZl5OQPw3iB6KMWi/rAsbAMg5z6ir3CPAh8/kCfHbtHMTAlxqMBjJPSeQElRKOfDlRahFLjNjit1UVhlnscUKUQpaBv9A4IkrJ1IllLL2NSSJxYUhcWylFqxr8fHeR2TVFzL8KIfLwWcHOTNLJmyhmfbhSgF502bmjo1bUotekKUgqevjPa1HRlPGBiEUp9ycwN2QZTCvg6Lhw+eMmXw4Mv9paR1A1nKJCJnZG6ffD4o2VDj13RizhoVqwgGHoJFtQhRShqyZ2MkeNpXUcbvFUYpKktJU++eBlTWpg4gtoM6QlJU4+d9Jib/cnwgd7volg01fpqD130WpJWGVecXYI5cjFLSgH7X/F3itWfuFOBpL0QplIAYHVzt3ItY45e4J2u/bztb211YES2QpVjNwY89Bw8Gf+hBlKbEKMUoIKrXLDq3qvo6Xu2EshQjNTNXmgNV8g5TutwTHOMn12YkPAy9VRq5fCOGC4H3hNQMikN5Oump9wTN4yeRKqJzs2pTIjdc10MpGi/FtQ3lzVh6+0KNnyZgur3ChI3tQTCMohSRpSSQ3fLyFpcJnnGUpgS5J8BtZeKHe9I+8aOVi1AKZrCMZXWLiQilQDGU6P7B7l4phKYEKMVwmquY/dNi0gRbtnE0R3z8pMqI3FWrbHfxcrShxk8RvLzK1Vx7xZ0EbWOUIho/lgWWv2IBOLvRZ/tqy1KO6CkymjNjtjRVBZwhlgV9uxSnnpD7hQzr2a6vzrXBQJYyib6+JqQ6fVzMPZKGX4xSUkiJ9fDjnQVRS0nSMR1KmQFCuLm4hLvBPx3zIrRLAXuyOMOnEuI/wrGSUoBS4AG4PCgZcrJ7rKFuLzxJUVkKUkzfib+1yj8xHVtr9VBKA4ttarkDOgbMD6cPjpelMOOnCsnNcx4923vm25ikkCwFMwflnmA0V8rzuOKlfICFSOMnUcvs7i/IyYvpVcmJPHooxahKMrnCeff4toUopY3qWuXi4gLrAfe4xLIU7K2VbJuwIT2HPj6hXUqeusHXPWjNep7HEKAUYwFsm4mpiW4xEKEUPJszYyqnVzuTVDVCjR8DkV7tM8u2fDCkqA5NJThEKCWN6NxpeNd+zqWRFCYNZSk1JD51GBOvpaHFQpRiWc39UT17+1Nlr+QVRikqS0lMIoZfPlwpu0+ByEJkl9K4VEYGD77swrs2GGj8pCG/uyi0E2FnUDJwYpQKTc07EZl9suDKJeJBoIdSjCrieJ/sVXl9Vrnzk0qUxw/4DxNzUxuZDDx3uEOAUpD/wDyq28+Bwbm8JxlPUlSWUkvu5zmsKvWLnVnJEQ1BKRIvpQke3js3b1ebVTrHX7HGT57q2XvNE037eGwo0JOlGAnEYvVpt6tzsk7cFGn8YKbJFN7HFiRf28K1ridLgevE8N492+3qXZzAi0sCjR/ES+XU9uw5qtyWbFtCUYrIUiiPX2VmzZ2JDjTXjL6PHwTK38raBX5WeNzgVR+lmIBjUw77fHH4sI8LSy4QohQY/JYXp7mP6uxMMmMIUAqK1CkS0x+EhSRfw9wJ3CjduYOTpVjNGfegnD7Ok0byPvwGGj+J2eI97rvSEyptSB+EspSEgU2clVYhSZQ1ffVlKZCdUiFT69IqV2AAuHEVeU8w3gdOljVVWsXO/BlDhKHGD0Y2FOQXpVUoVwEwEyJPdLUmPa1njIdD9lLirs2j1KSmjFxT0iPDuah9OUlbieoQa/xAb6DHFhp4T8hiB5SFBUBOdBZ3gCcpilKAEyGLXfykAW5PuCv0UAqKMPvCSu5eDAv7eCefr5ZHKaLxY8G+4yRnaViywHtC6mpV/W2YVcYdXQyE0McPN6kwdQMchuaEdikLV7PjKWFhGe5YTITTQo2fNnbzvOnTF8dNJznZRLKUOnXmmrDooT/DRlGENxfIUgz46NfEJBiXpUCM9oBMr75ZN+KJKhUp0fXz+DEB06tHFi5e7BLO3YOhxg/8hW7sKk8rovQAKKXn4wf0/q2mT2bvgg0Na/wghxPkRE9dRTN7imQpIPvhgy9/nO5wmCROfYVRispSbMCBAVX3nWGbO/S04RDJUqAR9EiYrTJNLacZkgxQCpdjJSz+YOg9AeneFoxKmdhmVBXRklOU4tQTaoXmSNBD14mbdQ4aQh8/qBaystP+wTcRSknkAbs93J09fAxIiqIUVKBoCltjqKWYMoWyFKDglT0VBRFA8ZQ/4VEKM370xui70HtCpZ0JWqnMBH4vQJHGj5RiVHRNQqZeugsi6H8g+bLb7nw+Cl+o8dOmHvY3NVOYmqtwNRSliCwFnicV/XN979wfN4/ISwJZSiI1s+sxzOEUHRkRSsX5VI+q6t/5WjyHntCAEKVgYBTaQCcnEwsy+GKUgkT4UT379EvxpwPDa/ywLBVwJMUxM9MhfmYC5g4kEkONn1Xi+dmB0ed1rrmCnTvUwUcgCCB7x9Dsa1gMfrVlKU57BYaN0rCwI5d410gxSgVUF7UZd9grovwa1nYZaPykCu4wpSsVQilh7gkJY2KmdUIHt0rrNH40BPHM9Xn9y/Pxthzo6YhkKUgRPR0M8PS5G6AU5Meo7tqtKtCRPFlDlAKlnt6+oIY50SWJObXZ407zzJcYpUDFoNBJHHxUL/aeYMzvQ2nw12ZJ+yKNH2i+oTTfeyFKQczvxPTaPtPoBpAGefxsXMAoBQwiyewhQinGJCrHduyE8hzIDIeb14+XAik05InC9IlbHBl4oV2KqbO6O+lh2ISTZTTgWIRScD+M3lIm0vihu1UrzPe5FfLVi2Qpm+hugx0+yHSIOTmbtGCo8atzyxznAJuP09VMKEtJWImb3ZOS3aX3L5VxPXmFUYrKUvKAM0tL78fcoF7UEpEsJY3InOd/IMY902NeKBpDscYPTB/tfXwg26uPLrhDLEtBIUYm51XkuqheokS3CNgQE+NBlPioCaHGDxQIB3bEDNXlLzLwRJeA242TjwudtTxJ6VAKvAjMeOuJzhOd5vGTmi+ecljnhqezS2HGj1EFtPcp9KNPHTIk4aRjONss9K/kixTY7wZ1HR0YpXiNH7gQTITStHeYpHiUglkZ8sXhAl0AplDjp0113mUqlwVUz8MUS1GKj5eSlnxT6BTcP5yqK4WyVOzyAki3Mt2BcgD6shQQRN2ZdhXvpd9oOPcEviH6aoBSkjr54vdupc1XkSsQ48dp/LBdyiIiM+aOV/AHmQNoC4YaP4lJ0/6H1+iSawg0fjBx6pRKpSY23HS6G4saebVlqVCujybBC5yz3YmfL/TZAKXul0XaV/fJ3uVPaEKo8QM/6+V9cto5wP5QvIlfLEuhtU5g9uFlKZzHT2IR3P5wvC4UX4RSoNODbQjKG/bxk0hTJ3hm56/hhWSawJnKUoxNyPDevXlzoR5KYR8/iL9QKko+TsE6ehgE3i6FGT+bkN21zu34JD48ShHvCRYyBUAyGN39Y1mKRvXKgme2c7atIDsoimQpaEyqVIZ4XuYRUqzxK84/nWRitaFXIEeTIpSCoVUGt4m3Ah6Be5pCuxSoJ/bc6937VOeaCqKOFGj8gKYCNgxwdphNxDCO8dOXpSSM1MZxnw6nhBo/6DoTDPnWnEsLqSwmQinYn+HwFieFa6gL4fgN46Xg0XQ4dcqztJL2X4xSV4b39vwovd+aULwivgoohWYzOuiIDx7RFq0jVJaCvReUXuB1wq+hIlkKjSqrcXICdx1Sg0iWYiWBJQfmr4/tOQ/MW/gwRCmFq7KpmU7DQGUpzPjBk3UNC6ju1qDGD23ZFgZ5QazITYhkKYgl352V51DF+7kZoJQsODMrf8dSytDrUIrk8ZMomk7Irkl7l9d88bIUh1Kwv5RHlUvmUp4m9TR+6I7VNoldk/cX8QQp1PhB+ud2ReGZaQ1lm7UwSexavH8MzyYINH6Md1SbUR6lrmHD8rFphqIUtUuB8JvqAO66LB56HNXL7y/lfWVPfp5DXl7evUp8gRCloHCdvddDnZO8WJYyLanuc08v56k4XkqauGP/tYdhVrRxXuNHc09YuEZMHjmpkkdwA40fREyn5+VkLZ1NMV6g8WOZ4N07xo3LyUrb9QTfwMuXpVjN4vb92/f3ae9DHpn54LEcSbV4uw8nG0Fmxq5d+4BZREqGRYRSCGFgIZWpNBJ8TwYaP0ijfz1FkM5FjFKMPHGmg0OFjmR4lMI+fuC52y87WRdHL9L4QYzBzKL+k8+X9vdx4chSYJeCbsuuFGeNqYrjU5rwJKXzniguW38/+x7NGaKn8eOWEnVqZlavDmsiQ8kYSISyFGilgKavdJqtBBUHOoTeE5AaM2bprjW8KEdzTxC3WdhDcReUnhnvao5L69mloC7G+/iO/F1r/NUsqhkOscZvZNVx55HvZd+I5NY0A5QCkhoF2V5Zriy86MtSgFIzZ9vbh4eHUwwUoRSjsBs0rGenQaGktFCWgrUqt92knPx4lp4WR/UywcdP9cwbUErLI8ZPENUrDci0LW6XoCMYUR4/AMbQ8CSvDHc+vFOIUtLU3aciH5bc7U1Mnq+AXUoesMHZOc/Z2dmdhFJbeRKSGtOHGwc1GCemTG6XkEQxRCRLwWCCBlu3CAJ5DRuAvIng6PihCk6zFiW7x5UusKVZdgw1frLg9KGlub6niX5DJ0thlAJX6x1pp+KVeMJBjaKdOyBnanq+Q067PAd3nHxbhFKwtW7/w3tipkHKGVQYOkwZPypLKSbOLIDlstScKAmEdikJqy7ZbTsi5fAaHud4lOIYP8Ys9vquw7nupYNTcGCwwHtCooI0yL1OpcQTBQKVpZoRxg+2gHYek5Jre+ry5TjuFnmSIvFS1b61p1J0iUUFGj+wS3UocErMdnCowlwCRSlelpJJ7aaHy23o4xP6+LHB0wOlUrmUquwEGj8YKHZ6eX5O3mkenYUoBfuarypzjUov8iPP31CWkvRI6ZM27R7PctOoXuLjB2b0zVMOeHb9xAs/GUONH8wnhbmVSIkOc4vs1auWHB9+OWXw4EFUEH75shSoisD2jg4SzaQUoRRIxyDbH+/Fq9sMUEptDkwbvSMYGQMfP9YkINPXd5dXKEvGTYxSckjgHOZ9ZhefTY5HKW6vXtjlKLtdgudlXZ4/ocYPvFLsw9cnBSa5kM1sxCjFBHzRoTjmPJ+CiCcpKkuZpN5a2i09xn3SJBz+qodSXJ9ZC8UPG/bvPxlvQ25BhFLekBoT/KHa+ebHc1NXz3sCbpk1UUaeqdmvy6gu1Pgx3onZ03Bp7DzCk5QVN15yxUPYKDAN9nLAh1CWktuEOrJOqsBAoi0VoRTYbeLqTEwC3oujs1pkl5oe72hhGpAYR1zVhSil9t69/+TPYWEqlrQtQilp6nLYBXHD7DASfSn08YMyFok1l7rFez0hxcXeE7DYoaRjH3Z9n4KMgcYPVDvLIcfiUn4zYiFKgZEguV1y1jI+/9TLl6Uggb5L3JakpDoaiOwkkqXA+r84Lm73SaoSEtulJLJgCAbahacSN3KgnhCiFHDkfuFxg6hHiSFKaQLKKyrvl5fGTSfihkiWkqoXD9uxXy8nuljjpzCzm/7hJ/FNTTCQiT3RVVdq0gac9qLCngFKQaKRXJ8AACAASURBVGrMcshwNHJUz0kpjugexHYp4F929RvXbxfvUsSjFCdLMWq78KT1PeIHxcVhJBLKUnLtF5PK0/uV8n5oIo2fHAJvt+DSHNlgkqLxUoz3wUnlOf2CeLZYqPGDWcmC9oQ3UVCUIrIUMEalldPjeqTv8mfRnYlkKXlq5jzv6WXBB+5sYbmzQlmKsZjQuZ9Dt3uFlEEQoZQ8OD1/Uvq0bqMmreHWSzFKMeqo8nEjT1XyUiSv8aOylCq4/IO7tgnxdL0w1Pg5RXXu2rVfVSTuHzCCnF2Kj+pVe/0R7rLgDm8xfPmyFOO9YbODc/I9frKYDR7B6XSoLKWOOO4M6jrYhJbckwilIAVwzJBRMQk6D3+hxg89KKnNYp/MvFJ+UohRionI9cjLiQFXuBSMZDqUQq4ykCMaPJJ2Hdap/IQoBaHUx50hTx//4A1QKqLcuSe4wjmSWzBAKYlM6ap0Kdxi3hRvcKGHUtyzhjx+We5rHjbliZJHKazxk1jYFb6X3amSxjgKvCcgSm531ojTD7V02lBZimr8GIuAHh/0GVJopcEzV4hSYOrdP6L0oRKPDAyHEKXgB85RHd65Q4RSYFZs59CvT790fqcekSyV+8D7zDX/2NFEmhGiFCjgHn1RnLW0ikdngfcEhFsN7x10qnfQpEnx3NAYaPwkdcHDRuUMSKGCuFjjJ1Gz7V1iPXWJfAClhLsgSmzsL65Zs6bQhY6eEKUYyXSIgPzwJK8ZevkoJWEX9y/MSK/wYskjMSUoRe1SjKSkR49Cf1c6qGK7FGQbOfHQCtK5mFJuXSxLSeSQwGhaO90Sb5DHj5EvHlQYt2XQIBeiIxGiFOSCi6k9tSWMDiqSpfT36oUMxzv2Fz0M410nxbKUxMLGfmKmR8M50SV16vsLitN0UrQoXoqxKSlvlzWCV6KL7FLg1rPbo12tTtQSek8A75Jp6ztCd1qk8dME746xrS3jBTWOpPh4KdYmJNM2ZowuJ7pA4wdPrU5pRTa1QI+QohSRpaSpt3ZVxgFfH0fZZn27FKu5cn1eau7J2dH5ZE6KUEp7N8a2qIBPCWboPQGbahy7XKkkihUxSqHemZvaxfGyGK/xo/FSYOWXKRSh/KM1pvEr9k0GjZ8jujs4MErxslTI3WRb3/0neAPFy5el0L6UYVbRfSvpOqKHUnhdVCuVXuDyyvfZEKXuzXap7lkJ0hjL3bMBSplE7dk/ZvYWfpk19J5QKxVeX5wqNMdxmzrviTeIxi/4eFfnAZd5lDOi8Rvg3tuTKFhgWtl5jkdheJB0jOxzD7FwdoUu9B4NUEoWkhmTP6B0Pdd/eNFDKXJPTm4TN/SZ70IZIN4uhRk/bfSOk0WVfvQsb5fC3hPAm7kN+tihtAEfP1Ci1+zfVZnEq/SEKAVW8ODpw7LvhYeS3gk1fowUdg3pzcOIgSd6xJH4MFNTJ3Oii6QaP5J7Qh5wYGm2r21ezh3i0ixEKdg1NmfkqTXhjqRpsY+fRA6bjuTkp1DziCFKQUFGYaai5Q00fkBSCvB2NzEhwrgRlLLrMWhQJg3twCQFD5fsKA8r/uK4+50r/OnsegVQigkpHNQ/MwEHv8GdU5Ti7VIyt+MOxfnzebNInTBeigXGr51zzDQHh24kVl6MUqw0eEJv51UOOruMgV3KIjazD+Th96MjT1GKhiDuUzilbtCFN4g0fuDX+kdh+v79pdSh2gCl0IOVE/899Fmk8WPME4vTrhVu0bH8NEMStUuB9U1mZqZzGuJlKcz42YRM7mmb14kkpgDvDqH3BDRuY+rEG1vp/lKU8dMGD5+UnDeAT4bLkxSn8YPuWshUZlRbCeuNYH8pk4jcoSNz8nXLCYnqJbIUo/ZKcmRh6xI3RzK4Qh8/p5DqkVWp1ZOoqCxEKYiTO9bGuV2DspRN6p6s2lMFVA43yInONamfhA8xfkgXzOfxYyRxhYMqBxUOisPqMQMfP1ggIY1AxACB2yyUJxo/idocUn/eP0kSTAMqvvSoXtgQFGWl5FMTSvRQitNpgzsyZAyL5FL9cCMkRilNcP/+/YEse8TZYdbPQOMn1ZT45O5P60sFZANPdHlq8f6vKx/qspJRWYqaehnkd0IhDHohlKVAI1g8dEzVdJ7qDVAKNutDWXoo88qTFNX4yevCp+/O2l/xhEw7A5SCeS3lV1K4iJelOJQCYa7H5D0gctA1AWn8YCUle/XC9YxUpaKtQ2mhJ7qM7XG4OMuD38uHJykr2h2pyoT6H4hlKW1Uv5/RRoRUfBfLUhF3wamZVUV3o067+rIUIlfzpk5OSgXtnBCl4LyTuV3JIN6iJ9L4yVNzYnpVEWsgGhZBVC/8wErNm8JhRh0JDGQpGxTnkAUO72QHKgONn8Qm5IvBUzKHVlGNpUiWCjiIcrbfKIB1gzsoSrX913f/rWO8NYMWCcs3plghCrBz67Hp8OE1Op6KohSVpdiIu76fHNblbRTLUqBkVyqSwAlLSVP9iTV+EsgPEDOutJDXDhjIUhYRub6jSw8X0mExyDbLSOGgjwV6DSTVEm6i/vVJfsDMqb2jk2s943WGWBFKQSjcNylTDk8BYy/LonHnSYrapSzc+h8u92hXREmC1/gRHz/wELGzD7R/wveBRymOpOTa6Bjf2jVQPaodDqHGj5HKHe3t7QNDpSx3VuTjp/ZOTE47m6Kbt0JZCvCRhdLQNnpecAg1fmapQVWBJQtOe1EDgij3ROqttIT1Mm3iOLrM68tSXH3EesJ9FtmluN9MzM0oxyyWpRjJ4g/SszzI5lFAUkLvCbBXut1PgSl/ONyeYVFliPFD068ZlaVg9+7+1edLfTYMKODYZgONH/KeGGdrW+TPlYcqhBo/JjhzlS0IolQJz/v4fT9k1YAR/5W/cR1bcCTV9o0pSsjLiyJO+0HY6C5eShCjFCBrSXlxWl8eAkQoBeF/0eXJ+xO2EGYY2aUGCPP4yVJ3+w6Y768DIQONH+wdeWD//mv+dK2kKIXz+DEyc1fwjVSay4iwwpp/OOR7ZIT/nCMpibppbOecrCEkJFgsSzGp1c779zv0y9k/1B0HsvEkRb0nzBN3nOztH8ZnBtehFOfjxyhtEnuCQdy90pWsGzxKcYwfPPbivJFVSn4TJ4H3BGPueqw8L8+5Y5UrcV0VRvWi0tMc1uhaF6AUxJnFotLus+maJdT4qSLS0/KSs2qdHXBGNhFKSVMzPyxP2OIasRl0tjAhRbIUTHIpn68LnRWjFPzEJ72Az0KUQi58/WpqR/LbFAllKaYueEPOjrRah5os2woc5m6AUtC+2ZWN8WGJG/25CWQoS8n3PXxY99BUQzUYQpQCz96HsD2XK3WV570nujgPgjwyL/7QKv9wf00PpSyilvfLATGoZswWFgYMHRSleFlKbWq2L7XzPV5JLpKlwJ2mJst93hYdhohlKVDQBU/uCXn2+EVcLEupAyZP2t2nXxXvyk1lKcT4wRZDPYZ1ntShw6hTPnFPWNRHRFIIpShJwcahspLJI32oFCz0RNdE5/brluK1L/Wjfs6XuXnFkxRBKSa0pNy9dxBxfYAGeJTiZClpwPDOe9r169onuV9QqQvXAyFKway737nPuFPYdQLK63tPwLaqvXM8+nXt5zugN9mhU6jxkzCm0W36OOziHQAwSmG7lEVwRlD2UCidU9vmVDjXtkDjx9pELIBtP7rC/zWh0DKv8ePtUrdOl2T3K12QT7cKFspSUnmJT/8kHVcpkqXAxo0y4ci4hqF2kV3KBjbDGTLblXfvFKIUY5bo7D6qKlAbu6Hfqnvco+M1ftQuBXXKIma6H97sHsmtlwYaP4maub8clPQ8ByPU+DGS2AWnvKbrVD9UlvrMwcXE5sUfMqlrEiEpjFKQtNLqyOUw04yOOtu8zi7F3QUTsDjcos7VbBDlDUUoxXhXxwydX1joRUfdEKXgSZiblXyxxhHGjzvEKCVNLU7bVRjJU5QuQ9KkpqzUJiMnud2uL97LnQZbTLCoAlZJUOr1SY4EWVhZUyvKbYs0fmyJi9IK7E37zF0DFnuh8jxJUVmKDQ345uOc/NMsOguHDqU+hgetTe1ceni9las26ovOZws59otHKSxLgVZLqT12mPcl1/eesLmSWXS4UOlqVvLNxyNmc04KIlkKCYra9pddCGMniJcyKUGlYZeB4A8WbMaRgEKNH9rUHUxqSa5WGAJFKAXeiT9HBiPnlUgyKQWyFKO9D1uiVlQS+BejFPMkBLl/9o97QgqLUIpzZ3NP4ZXsIpSycXNxbQr0prJyDe7BSdqI8RP4+MFYqyGaflrtGmzzM0Qp85LivOLkhMJQ7slgxk+n8ZMG39qTXXX/xhrK4FBZ6vW8xXIJC3PlBf9JFEl939FDKSSH3BrzMOJALzxXodcUpYgsxYD5/ecwZVho7mniUyr28ZMqf0gs3p/G66sMfPy4oWBVvH3f0HsC7dXr7FFrmBMdUIqRBdwv9AtVKUxUfi4bNuFppxChFDQBDvUwgPgQyVJqpBtAZxQmUu4CnqSoLAXFTepC7XipgqAUyT3BqPc5mYWCp59CWRfMXaOzS3GMH67UhNQO34SylFqhsAA/SIXShChwCEpRjR8qzpjQdLFQWi+ql4UZh4IbIbrElHRPqPFj6iKO94s5yWtGRHYpiVTNQsJXRz8naqbWl6VYCO64sx62sfTjbgFeBCilOTYK7LwOOVkeDiT6UohS0FWVjVvmAOxyAqWFKAWQKYWEoPCztI7kFEWMH2IveFkKHgr4u0W6UG81A40fq43um3hrzUzdrvWCqF6m5Jbn/dPfnOc1ftQu9VneYmj5RRMUNLFPhFKwQB63vVOeXMEnixXJUpDH75a7J6TsSh9R6ShBhxilNBMvL09f1c2fd3Y20PjBfIC4XtganCsPL2KUggmldluQd5qXMfVkKUiCp96ngkkFF5lJn8A7HKZCWQoaMIFNkNDT4w6xxk+e2v6hSmF+5T0CpTxJUZRCpRgLXQf1UIpFp+QQOgpvEhcvskOm0C6FisPjY7k39CLwnmCkXMgtCqC1wJeIUYovhz8IZSk5i1JDQdv2hP0SylI2sEXk0DFk9wMoL0Ip6Du0KVfZUIoS5PFj5FdmPgizyewUSZ009WUpRrPBFqI+vEIO9HGuXcMxhyKUguZkqtDwJxRfxRo/2Gbgdz9TE2XJYS+cHMRAlmLksYM7dFjj5ASzHx0GGj/w8u+UeOujjWVPuPNwBZCUAKW6Ha8IonmAgIonjOPSTHZxWMwto6TUi3szEaMUJIKf6OlZ5UVxk0cpKktpUne7Q35DT+pkLfbxg3Qu+xPWRFpp+JRgYo0fI3d0i0OHF41FF8tScL8M49SUCO/wTV+Wgq/qELdQhrELCadEo+qAvSewxo+R2bkMgmP9E3JehFKQeMv957i49RnpZK3lSUoPpRiWppJFvRHZpdSxM32cnphf6Ub3SRTLUiDCM45yen9gl+KSjpGdOzTeR6pCYdPcTOo1I/LxY1Bp9MJC03BglHrnfQfOLgUbi0KaPEVIeRVn1ID1JKhvd1jlx07hTmtTc9ISZvtjMQsKU5SidilUs96diXz8ZBHVn8R9s3le3CCS2kIfpYDnj7TS2jBSc6XZ9Okc2YhRiusv7TciXdH+UiYZ12fHDdoyoZigKGL8OJSispRFQG5+afpSmuxeYqDxkyhLBty/laVLLyXQ+DGQLwYCvpfqIrqpLNXcARi//8Zh4S+UpWC6BkyYFDSJyM3QBRFKSaQRRwrNwZfZhKrbRCgFbrMH0n1ri8KpRkYsS6k135TXZLXLS95f60l8NAxyT6BbB10xi97RoYdSLHQx+O584D3lmTQPIO89wWn8IOV67o4025wdHiNPY1dFEUpBPFXNUgizs7XtiM/zJEVRCtgqK2Q+oSEQeiiFbouB/aXOBnUOCoqpxXopnV2KY/xMXDUTPgrqfGq2sikeBWqXwt4TsojcIUFtgj7K6UUMqkKNHyrdu82koNmRTfEkEKAU7FCdOQ6eUOdiOu+EKMWYBrrcBZNaJFnShCilNm+KTHJWTSmOAEW2+aRZs+YkJzq4zSbb2tqusqX7kuqjFNz3PmQ2YKQWCsK4GaIUMNx6JCWOl1JF17RDA09DusUoxWivbI4P8575NU0tYShLyR29lOo/eAbGAKV+P7hly/TfeYW0DqWm/5dQKrzvQIEsxTidSW5n2869EqYud4hkKfhNJ2JwF4hlKSZU7jLBdgDvdyuWpVSpuZCUe334xFzbdu+7sKgOQ5SSyixkvNFHjFLS4LtnU7744otMWxqHRjzROY0fY34mB7aSWe8Cm5svxcnqRJ7oKEJwtksI+LkRZ3iepDBKMaz94m+mvPfFlMODiO1MKEsBTcXWxMDMs7V1x9YTQbZZ2GjwiwUx02xtfZcOPoxvUOg9ofXOTeNK11bipyzQ+ME2hZNr4LxvL8/DcdzM50kKwRCjjbiLS48mye4EGj9woDw2YXdNPsoIzB0UpZCPH6MJOAi3NQXujNe2CuKlUN7RJJe4wsI46oanj1LQOHtssUJmIptYSNguIUqBAt7ODRwIk/YRntQApeqiN8cjB0MXOvKCPH7o7lI3n14/sU8F7b6hxo9hQsByyht5RD5+EIvXrSBk8lk+hxOVpf5rKFUnlqWk3rn3IhV+NAGdAKVCWfSQWN0ixD0zMUrBuEhVTroKxCilKVkc6eSkkatMm4Z84YI1XsI8frAKOoYnQWipn4wspjxKcT5+6oC77YI8P+4d1LvQkesC7z2BNH6MdmKc0srJxsZU6XTs4BMWrhChlAQcPLxC5Vyqf648T1IYpWRR5b5ZvXp79twxLa+KU2DooRSqTwIotSks0twp0smR+65DKdD4SQMOjJnk6W8eGTu8c85pbu5RlMK5J2QR5aeVkU2dzJ2kpLSe9wSjuesw6VSlkzJkcuecUm5rE56krKBptAvi6UgncHFw8oOvcAg1ftorxUM948J47YM+SkHU7eSgco+xo2oStvBcEEYpur+U2iQw/Mz5e07UW0uAUqC8yu2WBI8mcwjRCQpQipE/WZzJLTSV4dy4G+TxY5iSg09kcjDTkweLGD+Bxo+xgSU9JmE9tSsZopQiZM/SbjV3eB9ToSzFqGHT1pqhZW6kAV6WAo0fnr940F7cq4EsJdccOBUW5mrG0jYpSlFZCn7nuHF6XixLcb+zet42YpSCpUzlBKszK3EyIQ9OiFKQX/HDnKxxsKN7gmcclumoLIV9/CBX2+VIE4Vi3z5uvkOLAk90tdQkuIeL1EQaPDFQxXVHJEsBSXCKJ/4WeJLiUIqxSOy9ZlBSpEIzvf9wbPsRy1KSgMX2GsgNLmdZlquFl6WA8WMkIWBrDEU6GGWIC3daqPGTa9xAOmfUZAtp6P5Ho5EIjTV+TImb0tV0n02o0jUETwxMUrp4qZBwTSjzhM8gJdT42Wju5+bl76KLjUiWUtcFHDn90DxjCMFH6J2+XYphAu4Xj1u1qxDfFZwVopRaeytmlXPeONuhRnZBhCw66e3adezf476zbbtSjqYMUArC3KFqMmhQPWL8BLIUmHHi1sT7hynNMYAbaPwYq+j8gsjYccbz+LESefCGrB0JBaFQOXdQWQo0frwoQs+9kHcDWQoYvwFVsD0gH8QtlqVAbIbkBPZejvw6Bm6zoHFBO3eYcX2EK5B4zffXQOMnDz7mVgcWWxpgKNL4ya/s9vUYEB93LMdjGn4yvCyFffxYuZsbqLzodIaGkI8f6gL2nmAsrvSsslnsDwlvHbleiFEKP1Md2vIkhVGKtQs0B5QFfzTlkxCuAjFKgYsIiXrlToMcrr9zB2NhYdfDXu4YGjA9CZvJBN4TMJE4voiFVQUfAo0fuGIHDIpTOz4JWJxkwl0iQCkoDWk99A+hLCWRa0La5wLjx+Jr9FEKflGn3t1V4FV9qVCnfxLIUlf2pBUVJtF9tcR2KbX3zI2F03sUFg4iRjN9lIJs+cvj45KaKmELwg1B/mgCiDV+8BPYDfQmh1iWgkSCx3wuQkq6D3ywndyYxm/sFm2EM/WnEslS4Epf/PWZ9Ds0KplHKWD8QqH55zt0PdSbx89XVGIilqVYm+OdR43qeiqcVkBRitqlzM0SswHca2fT7XpFshT4XYKvEAQPkIhaUFiJonoZi/vX14RFukaUlxLTlgClWHXs7+GRflKpyi8w5HccAKFDKSXqF6MW3SnJNsv7+J0Z6R/RZl5E9dv+LLpejFKMDLbNkPLhDTpTL9H4qSFQripU5RR8pKqOWxp4lKJ5/BikYNdlgdTZpYDxgxOmibXrAzwrUx0qMAOk7z2B+o9UO6CJp4dI42eamPBzwOWyK/1I1A9HUny8lEFpocYPqGafiZ+9PSU7fVkKNV0XVZyWnPV1ON+6vl0K8vBOaJMzbsApP5b0TYhSjOb+TYWFTM4DrL4sxaqldQqlE9jiLZTmT7jyYpRi5Mc6RCrrjm8KJdUjxg+thdQuxdoEb+g6qiv8u4c9AYxo/Cb6Vnmf6aVL+KIf1Qsx58d9/JxKNmEpFFqhshQo0emQkLbpGyPjdw6iP8mahso5ppwxNeMmAD3xHO8GshQY38MehkV6BcpZXFyIUlK7CR+le4xzyE4eEFSKtSpCWYoNGPRB51G9gzqXxscR04eBj59JYvGI3h16e+aMIU58QrsUOL1YhK9nIQDCzcsplOsFL0sFKVG3kOeo/pTkZSmMUrDF1caCqOyKyA1jcNJyMUrJUzfF+wVM4FdqEUqBuTE2fZ7TsTXBu8dgll2HUjiPH2O3+Ilcakfzc8CyQVGK0/hBxFNf/9Ta2drca16ov1y8FMwb4omOUsFK9UsLNX4S7zOQHXrMicieN7DeS4RSrJu9XA3GKVQxOkQohX7iN1iAsbJvx23ZNvDLD5qiU2rF8ey8Ij6ciGr8iCzFyNxu3srKGhNJp59QlgKKBHTTwavIx4+RB0yp0oS7BExYg2lS6D0BnZElphf5DPPtRKNDDVCKqYPpB/+UkTjQwIgsFdyhsmniYD6CRChLseq6OrXEApgIFt0t8PjULpXXgF1KioJueT8XroxJyALPyjiEKpr7p3R6Nu7cM18MZCmJ2m7x9Lhj5aXhRAlLUYqTpRhtyMyU/nFOZpCutPo6tvbV6cdLSSPOFEMOtR49yrOyhhAVsdjHj5UfLD7VvwcKAXHET06IUqxEyo66luTmEpBRsYXlboGiFGb8YCly85Pa6W2Go6/xgwKq2Jw7fbLSeuaQ4GQxSkmDc5b6VGc1mCEJ9pda5e+deS0yY1UBx9LzKEXipWBH+cuBjhs2x9G1npelOJSC/aWGFMTGlNnPHIs1a0JZShaxoTQw4H6nSnxzvCxFko7BinDtQZTvtfXlCTgOkCcpzvDEQmkvx4yN/KPmSIq3S8G8RQetWiRLweCA1+6TOLIHAXwVylIycFT3qCikq6FYloLSaDtUutwCZ9e+G8f0N/ftAUPByKNWlXn3rvArh5T5qG4xSsGtlqTvSDuNmQe4wMDHj2UXT58+CP4NCme5GtycW3Ew1qy5Ow4ZVavdBk3/Y8OYeDJBsV2Kj5eCKlG1LFcaPhJZyhpQij4sVC9/SJ0Sc2I8YPMejtnjhk7ufSZh9sS8E46sWlYOKXt0Z0AM5IaW+4WvQvjBUJbynuk7smtP2MiQaPb1UMqRBZunvcLV/AljUadUkCktQCk54K5LUp3CydElbkIhp68Sa/xgDS058shUKq2rA6zhDiFKwcrC7y9FtuXSoRSnRw44k1zmfSCf33WMRyns48eCp1pP96rEnpP8sbVYjFKMwu3A/qwHgaR5HeNH7VKKxOJ5/WvSZu8+j5cFHUohHz9Y6u2infPS8+eRMRLJUiCBlOxpF1PbzjdtHmb8kKkXFFutOnBAARSbPcI5/zSvyBbIUlA6NT0tpjbHdyhJHsqTlBVqG6xq2SOyh1bA08CHAKUYuQm3H5yZKZn3YpSyMIdAgbSvdUpooV0KMijnzY9sSusWeaIzmmEXrcxDNvWgkqS+LAVdk8cOeOCdfe1h9fm4UNQ5MUrBPsIZOzwgHzuFWMT4CTR+NhHL+2zsB38jqziOywClmKaxMQNGjqzZX0HWMyFKATgJOTUepUCW4u8K9Q0favZMu9PrBw3zUcAefCoGXs3NLCIOzAuL8JztaK50LT85uymckYGyyQxEHbjA3ASEbLiW1iB+N5Cl5N658yMj3crnRTria4GkWqOFiMpS8idRkELO3i6qP8mxK5ClAHcV+7zsWXAje+JEahCjFJBMHeUruDZYdtS73ErU/RMfbiFWXRlRZjXqRkEU8Sthlf3eRvEhrQlKqaNyh5T7jiEdgDoEGj80qop9oGf2i8RaI4nQEx2WmoD72bbjdFum8YwfkaUgCiEzP3taXl5MAiY7xq7fm9A+8fGDBuuUd3fs3/WQX/d4lOIYPwk4ouUkVB7J2bUF36jJB1xOdOI9AXGp1Vlpd3jmSiJto6fxA4I1P+Nc65PoTPcCVPmhnTuo94RE6pcBplxiEIO+mLfReU+ASS1uQgfPjzuUxrtgahbLUiw4YLab5x8KBfFhDuoJ6+aU8VOUzMzxvefDzz6hLKXW3nWYvXjDJZweEcqLUMrmSk7Ffd+lPjN7GUcpsJHfSjiccUl/F0SRj59FoNfDSK+HXl6YdTTQ+MmdEnsVPHx44BrmH6ALAh8/mFwQnSKT8XRFZCmEUiy5Y/23utQ9CZGmKpvI4Akfd6h8cmXChA4pftHp7rOf9I+3OdZh8OaTlSETPvYsjLzyzZQOh71UEyd3WOPndh9+cdSvRu+zgSzFakLc1Gr5YhfqAwYkNWvRLMtmkCGJG2cG9vzyurKrMnEAcRoRoBRMV5NjCbP9wh0T2zwgE85A44dYE70+SFi7Ph05knqtow/m9zV7Tk6u2V96YGk8JgpAKY6kSO4JtfIYZDD2J8oNqAqFICK6J/FS6XH5+QAAIABJREFULGwuLZc78eMqRimbWJAmgIWlru6M2chWlqgHFKXAkvXF4fX23/iQDaQYN2dEUs3advyYRT1ngs94jLibr5fVncpSHOMHF5iAZS7Uie4mbPLeNCSFt8LeE1Lz4zFft/ElCAbVPek5ugWcJowflK6rc3LSgmcrHiaFvftbzdDGolZc26po3zEf+tJwJyCpUWhwWo59D5Yj+ZVcCIj18VmwI6vdGj/ucqEsBXsV7U+bt0WX8E2i/Ah5T1C7FKP284O9evnnI5Kl1HZHarLyZ7uxqGo4hCgFCAqnKxbEpM3DS5FY48eog4951YUuXkxRzkCWAltznEvcei87LIQa+vhJbBxdXLYkuVQSoUGk8ZOagLfb9DgXL9jdi+shj1IgS+FfuJ/pi8nEmnkqUO4GHEi4nJk/+0DNncw9ZYm5sFlR/omQnJ2Da05Wlt8oXZAw+0zMuwvazbuSfmfyqAfV+SnLa9cbqw6qNZSlJGpQ58hllKKQj9+ix9t/m9u9o4Mj6gcbcavMKjqhAG1/jb5LZD3++f2FJbCEfzuZEzq9q+8UlFwri+D3lwL1xPdz4YJm1jjbLIAKhKgzJjoXvoCeQpRiNBPLs0snjnIoC8RkaT7ya5QKkGx/zQScybnXP3MskdWgD4rhvVboSAoS4rY3V7AHe8i4DkIXHU+Nh+IonQvXRTZgvZeF1o33mWKcCEkRlIK7lFmYhIaCZy/LVcHYO3Ak1ZrKUql3DycFfHHKhU49m+Fcaqz6NzFJMXCHchWYrUgHTL7AJIV37pB7D7vsH/DNpnB6mh01eiDEJFOSYkxMZWAJ5x+Zif1Ivf2l5AEZUPqYJ890Nh0FKNWM8/Fj2cRh8YXAeIPI/QXOuCMX5p6Q1Nk9+qYm66TOLuU6CkjqM0pSIITI6yzowEkYsy8+RQNb/35vjhmsSy3fX1P7M88yC1EKSCxg+qDwiOk0ntlQllJbqEG7JCXjguxSWONHffw0wPj169NtTWYnnFzDUOOnsN+d7OtRxGeck7b3gGeD8/gxNuArH+M+qmdMu25VGKWfIUupYmsAMtWK2JyqpqnFFQfSC1J3FyHGLzj/TkbCA6fykx9kLx3ZJ6s02r0g1bniAOxmH56aO7RbdtbPuhWd3g33biBLCc6iL2aD+y56vG1qk9vLejqy8B12qrvT/+60eVF5JL+y6cR/rph6dVFrS7yjPBOxoejhxKXztBvexiSHZKlF268uamFt3ZdL4AzWuIPrQ1UlN3lZgu38LgcSFKVADbUvyckqMIlSndnIZYta84yfOuDAKX/XkA3r+SdvNvjG47kApf+a5AhPCwwkm8uS7tec4iAP+ixzFGVI4jKKyHm2jXVyEKIU+LyygKWU4+fdZgGlMCenflIHDAZUTQ4VRSmO8WNgo8ZAFeR1pRSHZCmYmYBS6HpGGupkIzOxe0JLgyyFTHs0uENTMsirzm4iT68yxPjxKCWR15nYyE3UdKHnNX5TlLAUAOONvCqkCqW5oyPXmBCloGs+k2t8h2BZB12gHAWbexEfP/RdcDDmX3Bbwlu//5EVCz03PVPzbvvcG5XwmTuApLiM+aCe4AaGkQI6q8y0ZGgNZClSjH8zQCmUbsY/yd9vQilOc2ggS0mUE2NG3crO56M3EEnB4HEZkiwCMj083AsCF99N9tgZz/WIRynjshRIvXf22UiVx5Jnu4YUnzhwyz8iswJIKjI4/8QZ9wKQpd5LT5vmm59yZhegyJ277g+dzCLS9/v65uu2L+HvhvtgIEuBnhOlfDIxUZHpYDJl2W9Npk6d+nhnz1BUhA2NqslKg7iZa4QfV/T/59wmU7c/nvvpxwgCWO3xtKLd+xPu51QQklINP9u8ydQmVy+0ICRVF3WrV/wZ3zF80i1N0LK5iKaoLAWdkMkcNbyLA2vlvrPJb0usCUpBK0+kDD+loE0zz51Tm2y/veStUSj3hETOTgDhvojXiYlRCi4RHGrFyFZYYJz/ngLOwGK33L+p9v4pR3IZY9cVoZROllIje5VO88XyshSHUhC+GjPPZffSKkq0oT3yty6xbvZGb94YDqUZltQuUXe4cQE4P0pS2ljfay7lWfzOHVKnT44useRlKaJzooUlTTvs3Nui2fdDEOMH662m92lTCKEcVoblIcZt3I+LYHBJHj82YvelXYVekbRtlrVqtbWFjvFjIUsNuETzp00FKAXb0fcI9HY7yCs3ZLrUmNy9sqEqxpSV0OKGKAVd1D8YiwWvw8DC0HZv1x8tUYz6iVdg4L5QP279hkcp1vixXHCHXryUtD9CKazxA5Bcbx/YVNlU6xXyO7YVP0OWgu3SfE8HhgSNSr+TdCY/5cBmf9i+MzWzKCwi/879hHlRySf799v5wGWL95k7BRHpd6LHzSuZHJ+ZsGXLFtJB/bvhPhvIUmDM6xAE3nNBQcRqYzZ4LKAUcH4gS3FFmNAePrMjYg+DopVFP5hOf+Mq0Ny2x+eGc0nyVCHlOQ7vLchxp/Kj7Itlt9EFUy/0/ViFSjAWi8tBb0m34ZOwmo92bn+8d0mz7h19uDnHRPRIqjMNXszzF/4nfpwKRDn3yyBumcdKHULzQFGs/7kfObL/ritHUmqbjJod48r8WdQaHLLQ+U0uLKnXy+OHf6evTNORb1y9DXO+xT2OpEDVmzk2KHdcKZ1aQFLrbsPEpLIULci/q9479NsicCp6k0MpifrJN76wn7EXJSntxKXbAKjfJ1u28cXIB82HJ7c/vr2EkpRUej89pvZnnrOz8XaH0nPfdaCoKyzf9OMbU7ffXtELB3eYpvYrc5pSZDU5AbNGjL3tj9uv7p31zpcfAIqByi2qc09n99Jwlrbt/R0qnf8hWg/V5mZRHeDpp3g1xUIsa3oYbqx1M+tPMOMHgWiQoUQXW2nT49rVC7NAFuNQCsKt+hRFxuaediSVy80cvqpHFPNap28wsycDgoMHwr3CB0be4XXuAsT4IU8Tm4gNXbtuHgeBK+g6IKlwcbbZpsdG3L+VPCae8l3y6b5vUZSCtdhGoUn8qPfl9VYY5ZCpF8dLGZelkHEbtjrdVXgsF3ZmCDyzISniTFlERlVk8Kh53h/W9uvabX1seb8+9+Kigdv+6LR3NeRl8Y9q06dPt/BQroMGLwaylMY7d38MOoZWcdNfohg8ovvV7XNbrKQkJWFVTtp9TlaEoiSKia0uwHzefrsVlqUkNnIXfyu/OC8taU01bMjc7dumPr66hKAUEwrbN3mc5h0fJUn3ftw+FZjH7/tijZ8sdXNRZOqGXZxTC5CM3ZtNtgFQbruKNX4Gd8H6ndoJJPf4AkYpUDMXnzy8+ySftUvldw/aX9S6uQeWpSRMKAuVSOlTYZt2PQftz23x2ieYpFjz4Fv798/TreV2/aCCubNa8Hn8uCeu07Jo3/tx6va9Syx/IbKU/H5NWgKf6p7Zt2Yn3MD2Q6cQBsLBAZSutNd8WDGmXl3rMYgbc7UqMT3L/QHli5l9W65xpe9hjCM2F7qisIHzUOkmNw4jopBoY0c+cG1zzXXCeX+OoBmXnXg5euMDbjlSw3Y2R2ry4wjJsEnr10Lp7TsvQ9MQEDUsPSsrZkdaEfUHskqBG7swy/LrIJ1iHTWDD9ZmOrAHvy1pPZ6zS0HYza2lg9PTsP8/XCJVOny6BGle3iEkpQ4GGzljEkKTXwFJ/cTxB1SWkkjAUb16BFVtSWwApWYtAaa/2WfELqWM6nf/rkcZ3x1m+tDvAIW7jx3FrTisU3RxVsz+CrpmKCYM+X4WkFxDnuisTOU2qDLQROEWV6CSqu003t6B3t72Wid/Lyc7l8pAu1Anu7jCuCdy2Iou3EsmdYnz1yqeFFbGObJkEERvBrKUPCJ3/noUH+jihouAxq/FoiVtrd8hGj9wMYPpJIcXUqV5D5ClAGNaf/sxkRQsLEJhz7ZQ2hTIUl3gsSxqYdkJy1ImsXvGxE/s2YlHkT++RCQ1dW+Xt304f13IhtIzDzYZIguNROLXDUjm8YVFROMn4cQgyN1FmzAdfHL77UXdLf/VLRQWQ0Zz5ff1fiFf9NiHz2uS1q6D6qc+XpvWhuPrNFGX/Z1MzDNGYe8ECfvkRBPUgccXOnHck8Qi4IDHgJyE2VS/YPdgHaLp7XOpLAX3D3WzjhxtSFjJr0e3QQXbb39q64g4Qm207elBx0fQ7Bps4M8/ToVl58d5+PZw2AqzD5eWSJK+RKebbL2ESco7elxF3DBnmuCJDfz1EGp9WwVOlcvIEDWxjqRzrNcbiKS2/biGIymziOt3EouXxpcvDcQqpkfL0OBu3/vlNwTkLCw0LuuJnVTCJj3YCqWn/nhYBbqIxD6AUOtdpk/onXsW7cjO2v3rKDq7/be3OVkKj6fe65at6L6nPv5pWg9Eo0xdSOb+pT9TiEEkdW774wvvWBOSYlTRm/0DvSKPpcfjZ8NoPbc93gsw16xlPsf4AVAqwyI68wnEpeHO/7wA/EnrZuNHuHDLALPPy8vlEXgtk27IFw/ddnXurJaYpJDqqqJy+oTcsUR/YTJs3O3Hvy2xBLdZXt+jdwNcp+sgNhtMrVIWNPDsk1BHR9DUsjY2rNTCAjQprIUFXKCWA6TKJVIL8AhnpHUWJMeJsCr0zUCWsvHOPdVUq7KxocI7oJSltbW1bhdE1u0J2M91/jDmE/+5aO1cuOTbyRxJsfawDsn1gqpAib7o9lxYKNoSjZ+m5EiBldXE38lCwrLeo37c3gRAoGVHjFKws0dG1smySBZ3GPh9950gKfGyFGvHreDhdB0HKL2xtzV0gSjRmTpzEOCt6nBxCev15jo0o7evvcShFLhMu/+83sXlQDLRCjGKE0c5xvFCRyxLKWL3XKtMzP4HXsqhml9PTEVT50LHyYiMWWnJkUGmMvPgwYUcVbOSgnPc1Lq9lagnYg9HWgX83sOR9MC0/dJtIOud6MDhDOv9e6GpyiJ1QiVBGpuPTjYBjP2coJR37JqHZt4H+ZA5jfeYbdu3/7asH0cT0oiDhSYq8+BheN80VuLaG603a5d+wVVuYZVZU5zjkDOtIpRFXdXY58PgXp3bkqAU/MZITaneh5Ww3g9Q6V7AkzOyxe1hh0KbUDNlWOwRxESwFg/ObYORafLbMsz4kcWMLjVMEtw3nH/8E0YpJqA6B+ViC4VW0IFIauq2JrDaEZSqiy5279mza58aQjNs4C5YLW6DagkYPyRLsSjgamI6Hy8lC8lrdXvbtse3F70+AntPMI6JnUeOjOfuDrUR2mPoNo7xRSgFmYxvOTw0NXdNzKlUobOgse71G/A3cz9vwHuCu4i8wGigTyz3St/QL//JYSBLySNmXobVjuUrQd4TQA7ILuWHfoUUO0WRTtWbeZURaPy6A9GBEv1jDgICqitgz7CelU60CkCp19rCBc2adfowFP3IshaQUwRCG1j0DQ6Qpa4ummVt/drXGKWkmty00+UevMMQy2n8rK3bYsYPlI7zI5XK4NxdftyMhpXh49EtURc+5zR+MGnQnnEUA8Crxg8e3OO5LZpfaoN6BYHyMWm+vr7JMQn4Lhjzbm9sn/p4xazun7zHpdGV28UFqrTBLlzv4IW16woVXOjeoiP28YN4qVPgLN0/3Z3kXlO99+N2IPrWwPgBTMIogfKEcmbwVdZj6boLS1q80RuNEGTVKr8H23+3L08gKGnzIaewpLIU0AGskuTBwvVyrfu2vUu6k0B5iOq9B2233z0mHq+UTp6odJfRGGBBOzmov7/3oEJiCGdBlvoNOARQTxCUQk41qBvcAU19tX3uLFCic11TW7i5OEpVbIhXHfd0WKvDHEfbouNHShZuiUXxJpAAkzLtNj0SpoKQOOszX4RS4D2RfToyZMNl5DuMDjbwaBOguG3b53b6htOPQqB8VSF4sgMnxaLzdmsRxW6benUWJim1eWq6h2+MO2+Kltt33PYYFrNt29cOcOH0F2YTdxStSV8az9UHVSRtBX00XHEjSAk1yqL2zAdBrS41s4rTwrNPvuKIfnuTEbzNBC57gYeBLMVo/wg0s+HSpeBmAaXwxqJkF0RGktjTIbuXblfP0B4Q3AEEQ+xSrE3sKAeH/F2Ib8AH7z3B26VYeFzojx7ySe8idpfX+KkjhlcFBn/T35FcwjblTL0EpcBeeDdmAAS670ijuehItllq6iXaNDpzWBu/+Vvngu2GylLaRIey/oN6DAL7CdcFxrTfudsgMFgPnE/mpVqmgcWcvwXWbuS5C8D9gnqC+00du2dAB88OvTufIh7dNlNOAMlYWxL1BL0x+g5K9J9g2WmFSco0YuaADh9/3CGIZHVnpUG9ljSztqZ2KVqKvoPG7ztLazD1clyANiKztkOHDr3b3IvH/TMLGrvI0vp7knsCGHOFQh7qRHLpgenU9hCsVtZE48fAvhiKOhOFKdW8sFa73rdG3hMq1JwF7C/lF1vmdqZiC0cVbNPDsBbAs3mXQym1JvOUUqFoWu1OvIFAPXF7LghL2McP3FJc9oXa2Lk5kq5Lle4gpE69emEJRikIeN4UaGphYkF90Z4kFQFKXQXVD0dS6oiP3Bc457UrtWJJDXK3vDd+AxQCmMEoxVoljvC3SnUo4/XBhb2Apq7+dAOHpwbfmqRiwd++Zzxe050GD/kNYPTCTw6LdQsJqfyFvBnIUoxF1OTL4bE+XvSeEErBbOe9JyQWrrDVzLyHPGOq5z2BFzpl6p79Jx5SzwRYOPSyzYbyd6FPUuCQhCiqGbJLoXaBcQM9sEKXdguTFJh6aVTvjnHODg59+tGNCGi8FM3jxzg6IqBCcg06ZHaeK+qbWfMaP03UYX8zm1CbUA1GMnafQ6v6ZqB5AlMvUQHggvSV+PjxJMVF9SqUyjBz0gTESyHuuBmYevE851rm9eRcVK81tUvJIpaXwcSEGBh8rUTGRfVa61CK65auNNilrBFJEcbvQBlgNLQdiruHQhCtrVuORXYpOCCNDMCFHT4HEGdv+z73/DiNHysPjPqo66jOXdcE+rHcJaxVZ2SXwqZeRnYF7y+V2At7VzKgREcaufr3OZSClHTnO3fu2js96zSwMnDomXqxoINMG3hQ0Wlg/E5s3w6y0kCCUhILgBC9A8lS239bAi1wJGWTWJyf45vlO+aBN7kIKdEvAEW0tqaylFlJ1/jIxEnxkfaO3DVIlgJxrOUQTj0BNsvsLTKZWYYtpOhCB8hSvwGOth7fkCc6dxV90U9VR3/7D98NZClGk5meczqxE58olaCUNY3qhc2bYtyr293haU7g4wfN1yXG1A72TSBTC37gHZLqqfeE3BTNJeAv4BUO1i77XfTUm71GfPwwyrC6VaXpSH0fPwiUn+TvaGfnCISDaxChlMWVSVU2bk9iy2dzXBgXKI/qp94TjBSETb2D3efeCkMxtkvBrLBAFzA05svAEz34WBKkolM/UbO4GrH3hCTcjgGgc3uCTyOSgvYJSrHaxS77pOp9NIhTItULlEfNspAyXGYDpXHtJpxDEo3q1WgWu9Qx+8DHBZ9llYKdO7RXgma7Rgwr9cItSxjwnkD3zmVIAr+b5Jj8Up8vcmOmJRCgcUUhiNR7QnMl/eeIuzvXx/aazY0QMvWi1Y54T6i1uZvXfOBzeM1hUlh2TN8TnTSpe5M7OXy6CIEc1fjBk9WdhU/Mvg5rwUQPByIpJuBuaUj27lHxy+8Fkss0Ls7/WDJ3FsJwrPGTO8XWeLSL8WjnW4s94tjpQz8FBoNq/AJKvhk0aPqgYx8QDkQ1YdyiJWBIb0jjp98dCE5ZPJ3PmKZ/5j/4bChLec/0POIZtTGeWlLFshTsKO/p7z3sFG/tE6EUGLZ2xTvdH8zvOI9QCnkTwUE0fnKIELOBBXHKFuyKwNr15FGKU4kBlbHoJvjlTueJjkAEePk/kKyBL0IXIpRCiymJ6tXAjnERH5YFZ5IMBXo+fhyQwirO0jZQccasn9B7QhpwPz5UpgqYEI9OwwUk6Rhvl1Ir6PjgC/ioXqyeUMW6rw847J/aeZ4jd56SFM49AaQq1BchT3SYd5TxM42993OAz+zUj0jqLM4hSec9IVXwtMhV3hShFPHxgwUsYLLDpD4D+OTXTLgtFy8FdqmmrDyg+rBPoZ9CG9F+SodCvN401YvqlcgjNgzN8c2zzbmGvRuRQxIaWOo94X38ojlwjpDbk9y3ztSLvSdgEWJYOV2KkI8fAm9EUlj2kcIptakNLg0DG9rhc+4CTuPHRBz5p2N5pgPYUqnDFEIp67aoCgju4IppglHML/qHXQXAbfYtYKq7v82hlDTg+PKgzpMmBUFqbe4RgffEwLaIQ3Hg1T20cYN3bUnugFGX/VlueuAYFu4VqfpgMdBL/WRQVPeDgSwlV2Vejh6ccTaeJRcZyFLg8iJnwAmNVlKnHy8FP8pNm6ocFQrdaqQjKYJSoPapUu4zjXUuIyKmXrwUFqEZyAYLifSklLsUxksBwGFapF3g3GZh1JvhPH4QwzfyYWrPeVbVxEGDj5fCGj8EkPDk4T85xJ7oEkVU+jzHxYUht0gIIfGeaNaaRvVy7kA6khZkSAJidYp2908dMBviHDCY09SYWJairdLmUe4JZLwhjB/ES0EIYsIJ+5478aTBUb0UpcSlWWHuCbauaSZsUW1FR4gGd3CyFPgrmXK+g/tQjALLVSXwRJcoo3Lzi2J358WT/avAbRbNZ+rjp97niNsnj1eP8UOjyUjaw1IkA1csfBlySELPhaIU7Cd3MFBhcewYHXpk6uUu4FBKrTlTNKh8WDZky8V8JzypEHG8FCvVqkxVKhMTjpGA+Sb0RFfXeT1M8vLySvIK5Xqq5z1BG+V+N/Ki0UbfmOcyZb3USREqB0fUfSCUmZjWhUoV+yAeElKJwK/PPgxlKdhHtibGg9+eyCCPH6TwZ2Hs8AqHGtBDKU4OAamexTBAmteXpVRcicQaD8gVlxNTux6LkHrxUhxKqeUfVSQ52msy5hHjghClYJWH9QoncMBtiFDKJjGnonzH0jbpd7wc0QV6KIVMO4xNVO8H5t7H11B5jyMpNHOIJzpjev96gdOBisgzq7aEogp0KEWieiVuFnILGS+wCHNPSBjvjCEPo3yrrGaepSSFGT/i4ye3C9VITXR2BiFKMd5nxvyaanstEkIQWdS6MF4K+GQLuVpPKyvMkFSnWdBul0MCVYhxjB/CAazxg0y3dmCSYoGppMuVMEMSI3UL9/O2s6dbe4o80SVCgBR7ostBbWA3uMg+8xoJ7qAkRb0nYJPja1VnPN7n5gEaWEbPe0IG2pFy36/XR71Xnj8bS0LIIUm0Vy8aEf2Di5eyprsggkfWkyRlXWCdoo7lrkIohYi2y7NlKUhGl3bC1c8voLxdQnxTyFm3yz+kus24lKhc2yHxkB8iubaKYIB+++LPRmSp9oMvX07pz5t8BFG9qDjswYeeiQmVhMSyFOWoWNoWr/FrhlGKqYuuGXkZdhma4kPUgmKUkkY4n4h87876xBtksRKiFHia91CYqI/xHjuieCmJDTA/AyYtyHaPD+U6waMU8USXpnYe4Fmej9WscIUYpRhFYvLPi4uXVh44T/wEhZ7oLFMCSVFSN3QiEgWYAagnOsf4qU1jcxyy8/P60EBBEtVL4qXk2iP3/IM33MMEA+2Lck+oomxrnW1rHfIrsK4aoxT18ZMHHL/nD247JB2seBdE09SPSiOjFuDIDnRvxG2WaPykqUfWuCpdnSBjLQtn4dDPkASrj6lKEyqjQSmGUb3w2MGsxa/WQpRiNLFnH3g7XIusPo+Tkhn4+DHSiek7Yv6Bz0LjjORDJGTCgTV+JhOnVPqBfaQHXooAg4DxwxeQqF6GlYJuRmlOQyxpcAdh/BjJmdyNlcfuVFIuiTgkNRjVy40BfpFrQ9rUDlhjnznGs41PrG0FZHKYmH6jdFj6vZTyXfa5tZdT+Fr1Sok/imUpqamNIsx1+oKN8bRLeho/RxYVZ4IL7aUqyMb3BFcmRil4KmjELfjdJQ1R6tjMQiXkoUNZiLg6xCglj9r4c1ibnQURycSDgEcpqvE7+0CbsaqSUjUnS6GBJxo/VmoaGGll5RUYiusXoRQEgzjC9lUPIvFZPZKi8VJ14FjjnDWtNutGJGel14uX4mYTbMDdzv1uzDV+t19elsIOSWpNRnJ+fGayOwY5LvcEiCQkXkqtrE4uKs/SRTyRqF6q8VObVhfnV0UXV/iruOHhUYrjimGrHN97mVkJXlxP4AIU1auTpRgTP7NQiKrmSsILUk8glILcE0gjCDvK973s6Tn4Vq8H5BL9qF4JGzz9icwkeDotbRDVO32xwsTumBs9DyTFKReIj5/NleR5JTU3CjIvxXHruYEnOsrTm9WujI/MEHiiQxFIRI84Vp7jN0QpqavTseGenpdnR5ph3lbeg8uJTtQTsL139u6y9ufXUDZK3xOd9rqhd1bmOrHmRlVNlZVTxIE7/q53Yyb2mRdWndXtiwW1D3YP2FTJz+mGaoDfRbKURWzQ7JANzrXuugTOFKXoLogS7wNFSVdKXRJHYp2QOI8fazqxIl5ux0ZNLmBxw2KUgqWJfyT4CkOUykm4n7w/pfok4V8oSpG9etmSBc7Oq4r4SSXeqxcIWrEvdJ+C2l5E2WYhSfWC5K7ZvAhsgFIgNUd92Luq/4dB8djvhbHvo++JzkqkWpQk2Z/OalGGJJi5AW7hFgEu9oSmhdlmGQsNRPVW6HUf5/Gj6gnwtQt28QsIsSe8mUiWsnDMyMrSi+oVZkhi1LDQcPI0HluKUiQnukXq7jG9O3zo2ftUvCO+QD9DEtqXZcz66OROfvicGKUAA86Wxc4830BUL3Q809e2tk/OUIKvjCgnOqRIzK3wmbB5Pmb4gYQkwgxJEnADAE94U36xFEX1As/eL2eHO+xykQYbHnDLPg7uqP9+NFZPwM4diae/ucTHfujJUiy9qYbeWTt0EvOTAAAgAElEQVSlVaLHnZoyVysgqYeudz0S+2yNrM7q6Nmh1D9k00d5vB91QzXA7yJZyiS2eGmOR23ZQ9dQWkgPpRCrAMlOd5+OTKwtgExq+BoxSmnP7PzZvnT2lXSSOUGnRKcaP5ZzLqANwLsYpZi6A1kxtm1yYui+5jxKBXGyllxZsmd/wkPoDjmEshRUCHNdF3ohlqUksivJCQ+jclLoFtI840dRCiLtw8KsrMJcnbC4hOxSSNaiGj+wJOScz3X4mWePhRmSoFeQ34lFuUFwBzm7FKAU1vgxJonO+X0cqp7Q7hOU4klKwsphZw1+e2wepaxQAUYWmzOuT20pb6UQ5J6gVfLveiiFQA5Q6ucw4Pzg1giLIJClgOXNWVWTkLKPlhfJUtLU8ks10/SimQUoBfMp+HiQf8SHl/0xTTCmDl+hcaOe6ABSmyKV5gcPUn2pAKVAi8hKVaH2kAEa/FNZrguI8UMqR07jBzqlgDN5kMnXNSxqcrntP7ghkH6QhZ5Nl16YpILvTppQ1PskMZ8A4D3DE53eKLwzwdEpW+4vnXerYn3GxOj8eevTe03Mnvcwo+af/r9GOoX7xzlfo45ceqXEHxWiPH6wU2pmjq/7ZV10H0UpapeC3IoViw+kzUtcddqRq00kSzERC048jLoxz1s/BJEo0aldCmJeQcXAG/1YjSiqFzyaJ/Zf7w3/WdxhilLEIcnmTPGY+7ljiecCXEIyJJE8foykZLq5wuQYn2VKLEvJgwf5O2pCXMiEN0QpgCmphtWA5yTuAFVPkKheRn1lt6dL8PDlvCWBl6Uw48cgiyYw0bj3oGAQ2KXk3tWn1odMOEXvTixLAfcDq45OYBGilDTi+K64gAlBvCQpzImOdTfwSiRpilIgSyHGD8YmyUQq10u3K5ClGEi3tmOabss2RjmF0/hZd8Se6GqIIciqnf0EDwusXYIMSYjezSAEUUu32pErnXmNH9cfcEPjDWpocEQZkqRopzy0D8HQSYexnK0JF8lSIS4Qay23kZlqF+NN53FUrzVBKfCsyckb51BGZbFnZkhCvSAHa1OSm5dX5RWVnVc7OwK8FXdVpgaVBQYk9szLKw1esCqvG3bppNcbf1eIcqIzJuYBiyd8lOtOTEYoqpf3nuAEWtiu3dd2qENODcQucHWKUAp2QVw6LzPr2n1nGoJoIEvZlEwuhE0CL1OSgNwTYMCHg3pPIMbNTOOoCyARohRgxKZKp5IptLyhXSoxt2hQ9fnLnAYSOmkgSyHmSCKlbJuOpChKMewTFWuh4u4PvSCUQmsloBTHwKslJXV1Um6TKXyNUJYCMf1yoHnwcJqMX7e/FHYshkx8Wq2NzvNYKEsx3rEp/ubBkGaQtC9EKZB3nsikqmC60IN+AQXK49wTMHI2U6pM7Lw03xDtlA6lfBBJgac3ElkIS4l+0JelIOAJXAfvO39CdRes2RRBVK/2wKrS9st1SfyFshRUDHmGuZBpFlUNu13qUIqQOPyKtFvkQIHyGIRAPWEB/sxdJ426PGjQhDZBfeb7o6vEGj/I5AtSBdQR8ARvuychshT1RIfltMexwjr+2fEoZTyql/QDv6k1IT0GaTTakh6VjtrgxT3CtZBxUR4qK+nRPy5gcY/+LqGCy41/UWxxF+6CCAokv6SkqMP8CkpRipel5PKMzqdDMjrHI2U6HHUiu5QqFuJVRqXHDKX5QA1kKdCkJsRHJ4+hOitk6kUUxfv4SdRICgKMoGMvRCnYCNBJrpHyowbz6EO8vxQ29bJqtjo5OfkTEhNkmG2W67feC8/40QxJNiXL/V21Bzc5kosISvEOSWLOVaTxY5wSa8pcMi/xuySR/aVakRBEPOlYvgckJzph/MCr1/bO+sy0FFNyAUYpqvHDvod8vlexxk8R4TDP6vBp7YIETBZilNLYKVRSve3yOI0fzZAE2zNN8FfJSw460s4J7VJqyYT25rLg3/mUeEKUAmvoPhVEKfJrldguBesYemrA3pFbQ4wf9+hJVG9sXBhk5Id9EMNKcGoOmYFdSltyOdJc4Z2YEoj7SOxSr2FTLyiOpjzZ4KzLjvGfyFJoSYA09yA3gAgNUAjzj0GN7JNKGSZURvdGIH1v4M1ChFKgcomCvWp0Zg19lApF1UOzFlKNVhcvJUIpYHcnfuFjH/WeD7llgY8fN5TAfJTHxFRU8mYdTeevuXGlKIX2BrMw0/Del3xOdBovBXfO3THXH3hBshSqgWj8pLL7NTvyy7woY2eAUtjTTMEJZuiOzEUZkiCqFxLm2JY6khoQSqH6qSwFUjTXNG1AZJeSyO3uJ6OoXgm+jNf4Ue8JLvk1xx1y1YhkKdjgGaJ6y5Jo7SKUYhSI1mDnUVK5UJbSRo18ENb7WhiEIHIop0MpzPhFHNlVoB22kV9uBLsgQr1gxEYSIKlbpPFDp4F1g8vIIUQpALmep12jll+mIIdISiBLMcE91CgEMZ6MrFiWkkgDvhh82Oe9y1Pisa+XSJaC+9Ymnr/83uH3Nkwrw4INZ5cCDmcMUU/sOXWs14CdJLUW0PDzy1L0pv7cu0jjB0OmzXQoz3PvZoBSVJZChAyODXKWNiySpeCmVVZOoU5WVPYX79wBd6m5n+7rO4aPqkHqCTRheZSSB+RW+N8vLw2kk4qiFNH4wXyqU5ibEOSHjpCc6NQhySY6fcwXC0anUL2SWJbShMR7mZiYxaYQpRtPUjRDEqNKTd+/X7fTnkiWgntEqxfLPqHrsUiWsghe4GFbq4tbFnpPSL0/SHGSM04lJFxLLEuZBFQX28Kmd7RynqRwiKd3+5RAOQj6PiTCQqjxc4I8PhPTl1Yu74VvjqIU0fhJNIn93MvzOvJSoMguRZ8qfRfm8WNZlNyIrCfoEiFKSaTBG/JGOddWOZLiYrsUo74/c4tJnfJ+Hnn4iPHjHj22S4GBD3KiZ7dzGJU9wJ+7fYMMSRqnaI9+o3qOGuVAtEsEpboTkkrd0/XAvA+SeY3fMzIkkY7+hW8Ge/WieKkzvafPFPj4oZum8VKMuo7z06Cz3aj3BMREAmiSfvJus1TjB1G9Q+Jjs7/m063oafywJ7osIzsveekaasLnUYoEyquVkA+g58iyQCptCDV+wJJvClQETDiIHfqAhu0EGZLg/MYHkU77wC+KMEcGKBVQHWObM6aS9+oRoZQa8uVqVcrgy5Vwn+jgZSns46eNjpkXfqDXmlB8ls+JjrPNyrzT0x44ya2O55MREMlS2mjfa17V00imArH3BKhc06qspJroWoieRW0LUUoqy9xRY5vtm3UHj54eSnFmLQvXRMjUGuaHSnKHviwFawUnYWKvYXRapPEDbJTDdgLgIMNyhYUoBVKA9sD+kw+4h4jOG9ilLKJravv1dHDecQdTjAFKsazMKnZjQVjixgKOpMSylATyzY/1V5pDvley4ghRClSCNbYFsKM8XY94lHoOWYq7pT/7At4TQlmK8Z45PNrZodMWllQtlqXUEUdOR2ondOOXObEspXELNJVpkdsLOcQ+fohhHxTqvfh3XgWtZ5fCC7FZyIGskxW8QZDfqxejFJBEn3sLbBPK7/mTRoQaP2iXDWWBReF7YO85Hi0LxBMdeAffWsgW5xxD/GbEKMWYxt4qKoxtc8qR1MCjFPHxg3ipIMjqDlmgvFh0icguBZm9Dts7BRzk3fmF3hMQ8TQuv8w8bGJyPHa7EcpSrCbKx98vQKewFMhSsAviAdvasqba1PyiUNS2RKTxU6cO6+0TMnhwJcudpShFvCdAu5ST3yavgodAgSwFLIjbethxjy2hKnohSkksMgYH2ri179+faEtthBo/Jri83ajs2ng6n8UoBeWLd3l26ODpeRgPHK/xoxmSWDD5pW4ucz2yGdMcYvzQo+OU6ICQkFwj5KISbY6KNEzoEKKURBIxISXSviqc5U4CAzNhHNI3N5Rtllz1F76J7FKwSsmOH47NTaCqBSMav4DoVbs25IzhE8SIZClGk9Fptl115/Xc/aOuGmj8JHUKOCnTbTOih1LY7hRQnl+6wKGM+uDxKAWyFAvMacDdEQ+9N5TG9iSJtUSe6Bgf4UJ6iFHKJjGvCDlEvdceUzVPUlTjJw/uUQd74eiSovIoxUf1tuvatV9X537rQ7lGeLsUUaJLYesIuRk+BxcguxQotmi22YjlpQecL/tPGFoZyoG9SJYCAV8DWXt5b3We8bNCbUGixNINq0rjE4cWYagRavwAKZSuVn5WVmTKiVCKiThzL957Qlfspo3qE9ilYCfmedqQ+IAzpWS1EqIUo9rdzU97PK9fzqlAjmz0ko4BoiNZqjQwasHhJ6hiOAClOIUhb5eSJS5/CNoHVyvCkyPGT6fxI4UCMldNyvmkoZ07GJOICUCVl2liVBFKSWIHmd+HfT1wXS9DlhLZpUC7sS9wXyBJSI26RVGKylKM2pwLQaQLkUQsS1lEZY/rmfa1F3+BgcZPopaik7qoWT2U4pgTm9QOs528o77g9QtUlsKMHwskVZA6s8J7Aw2rEWr8SM0s1wq6B5EsxWhSD/vDzqMqM6K05EmKylLQQ5AY1DQainebpXYpi+g9KZF+cNC5w8tSHOMHD5KTNXmJU+g9oY2YWWqVUVybfIP4OIp8/NDO32h8qLyKUYp4orOaiMwi74yaNPD7wXyv0BMdikGUPUTaQw3ooChFZSnUNzAH6Q59uxQkwoEQxIw7XjReSrQLImOzOyjMu3pe4N35GGWApGhqTO55A2sASVD4yg1QSq2uM3PyC3SirCFi/DgMorIUdNhCGZFpu4sI8yLvCahZEXw3a2hOchbhMEQoJS25NWlxctqPPJf1X5elxD5+wKoe6dOvn4Muz5ueXcqRhTtibKJz8nJri7gvaOxEKAX+WdHF+6/xYZlGUAr2UQyXy2RSN5qiQIxSEo1EpgnVKRV1KIW9JzRR5RDSOzt1QRGWJkQaP0gT6yZnGWk4RVIRSkHcSBxaZOVuVO8klqXQfekfeho/PHOCN4Gvm4mJkuoMeVmKoJSdC+jjIEidEKXQe0Lj3b5QFXC/zaR4MohCWQpSyyVBGAEjsZeyXCeEKKWJOFbpBLnqgmYTEBfKUvKAJ3UaE852wxUWoRQsNyyLXriT6EVflmJsIATRO/NGQeLo2aHcJWKUOrNq3mTnn70P3MNcuZ56gpM7uYqpzwiHUqI8foqScmC5+5VB6DE6DGQpSG8VUljoZW9HKjHU+DVNXLUr3j5kWM6pSK5JIUrJSvacyrjW+3yVDdd9PZT6b8lSBnYpecDB4YMX1IzxJz3iUYrapSBPfacC7w0bG5KlWO192wGDnd11gpABSsmCD5zeFxLnlHEqELciRik01CzLr9LiHeUhkD51w8g1yuAS6gku1PhJNNGekWYK5YRJBAXEKKW9MqDCywYk2dNeXAcMUAr2KUAnwHAJr+gDDkHU2aUkx7aYgNqvZDFBEh6lOJJSeyeOm+0kt0jtTHRfQu8JRrG4kJGBQOBE1B9CWUrtHV172g92R+3w8xOudQFKAWMXXOioAmnClJQWavxMU5dXRYZMvoyZQui60BOdq1Dwou/jJ7FJzVxa7jvNIT2BqGaEshQrCd6QbzvS3/vIKTxyeiSFaURQteH+UnVRuz3cBw/LtS3Djx4xfhxKUVmKUYBmalUFeXDAMovtUqxT4tmqSKXNYtimnXs6WJbCOdFhFQvenZ49G9xmMYK/BFlK7D0BjwA2ftKeySc+sYayFHj5STU2KrBekNEToRTsIFTqr00dRoQMuMiYxq9Me6biYfSASqxpl6P0B3CAXYos+xbgv+9qTsQBsGb2exvJmJDAGZ+XBu9Oq/DX7fEj1PhBCOKqbpDwJDeGbCAhQimUOjOtLNJUm9ELu+XyJEVlKZuQg5EmMpuoNVhi4LwnUAepXQr8qZcWhKpND/QjgW48SnGMH8RLZS2dbaYIzr6GxXyqRMfxUlKrBdf8AqInTepNPNmFshTES8WkzXaqC8hdJtqyzQoNOaOtvualTfxoUu94LK4KUcpEVW0b5AzaUnQtHGKUIs+NYbmz8CKQpRgFmCV3xebaEpASa/xYmdbRyw94ZsJYijV+Eq5aOjUMNX6QIakATLmuiSNwrmExSoGgdH3XwzPTiP8o4iTE8VKK4N1ZtUHlOyDzKdeYEKVYTWqme+TEokrq7qbT+MWZwkb2L/qQS5VJHbszaLJYvjHFio4Eq7niSfRFhrIUZhoY3ZokkqVY1u5JqCZUYsfdLzwypJ4Q+vgpoovLvDPHPEx0iMcOAgYoVZc6ISgoqGg2YYx4jR9RorMWEbtv9BkZz8trQo0fhMUmO/Rz6NfHvRSbbsSe6NrEUb1rS71ME8lmOzxJUe8J7cHNBeHh4fcBLdAdUJRqRmQplondk+bub2oa7UDkGSFKSb2jN2YPmB0ZkJuAF3Oh94TUO7NUkXprwGZf4l4hlKWApCa1SVhj7t2T7CWIUYp6T6ANxSIDbo3r6VuBQUyo8VPviyiH7W4IRwxdp9sMkDx+cjtIrgAsKR1akV2KkQe72Gvd3JDjMTqEKAW1PXFS2TD21HwhQimGdYMykGaRTCWxLKWG/aU6VnnZ38/uiPOt8Ro/KktpU6/PDovoWeHFtc6RlEjjx7ARnR3gKLPHl2CUorsgQpRDj7jwuPX29mTRILJUs+Z5/cPt3V78YR9Y2Pc1jqTavjFFSUkKGFBdELmeLMU/JnK7+E2EUvC4uCR0LH+RgcbP4sqesx/WpBXl9irASmSxLKW2ycwPytnfrw+1hfIoxcVLSRhlwIGt3pNX7cLQL/bxA5Ka9NDVCg68jhmxS7k/yKhxv39r53pOYuBJiqAUY3a/ZtqqnFW2Wb3Ik+c1ftjHD1DqSM+EgrDY7NlYdcWjFMf4AUr1DTngUTphxzXM31CNH/aekHqXV4SV3HoQfOtnP27MhbIUkFSF/wHbXRnt7uDWhbIU432gIizk+mm/W59gkhJq/Ew0C3y7ZdfyaRRFKAU2kMowc1ebyfFYo0ZRKh/n8QMSBAs6JEalT08kS3kf2RRm5Wo6nG5YL0Qp0Ph5JikhL+Vl7LlhoPEDhj66Jss2J2ZpvDfXAmL8BBo/WfCejpVn8uc5kg4YopQ8NAlgztUV5RVGhxClmOC7q2B39o4TyskemTxKDU1elef8XzjycsYONEApWGdYrrfohWr8qCwFGUiBH2Ml/C7cdSIfPy7ok4GwF/pYDGQptSY6vZ17mxzbXUTAFqOULHXcvMjj5wdlJJDwT6rxI3YpdvGwnDspg3N9yRZXIh8/CVMS5xcqZ/hNoEWylMQ7dleBd2J2jm0V4eipeoKiFODoLk/PD8F8QrTsQlmKlSbuSZnoPGBXei2eOzq7FMf4yb2j53uB67LtGMI/U8YP556ATRDHlfbptaVkD8lDKJSlJN7AOkPaVtsxBTbcc+BJChvtQqPbFZUPLQu43vEJd1qo8dOmlhf5R31E07HxKEXsUhDc0SllSsqU9ISCUHi6cAhkKQalW2FUKnwKXoUopfaeuTnl8OEp2UNnY1lFiFLAUa8qOnz4cGY74ngiRimQgp0mDoYIyNl+eHYgxg8xSfzOHWxohoNDzj3q/ikx0PhBhqRxVU1tnALaEHFJiFKSgIOTPT09q+53JiRF7FLNBr756X/reKutEZTiR1QgS3ErukReAt57T+SxhZinMdT4hVTFybwcg9tvITRlgFKMxT6X6V7akOle+Lnox0uZs9C2NHXACf8NlwpDzouiejHjB57ouTFL8xz6ONPFUujjx9iUfAGzUZp6kG7ALfSeADdmO69IZUD/Qj8AVGjPAKVUEztEWjk1tXIlyl49jR+6XiKNWn7RCpxvalOIuCeyS2nsXBxDtYsHeWkx8iOUgnlD9uqFwJzqVQNOK4OPkMzgQllKIpeEB5rA8IAjNGpMnHtCGlydl3fay/vIZUjYC4dQlmID3EI1Wt2G82KUSt2dn4dW6xHUa0hflmIY2PpLoZnYfh+qGB1ClII8fh4Ozs4OzqtSyGQQxEuBwrAmH0475HXEUqDYe4JRl0woAP7BO5qI2mJZCoa26WKfwiTMvUD7hho/7f2YpWWB5qHpu4jlCtK5gCROfPzgWboq4blZuHFPFuojPn6Qtsza8r/yBw/aCEpxo4lfKEpRuxRE9Vb4XzltH82vwP3/ye02QrPNajN2Pggpmn0lm4K3AUqZRM1McbWxsZpA8x/ooRReiB3P5Dic/9o/dukavF4KUQq2l7KLrXSykUJME+6kUOMHjF/WjfVa9ZVcEgUpRilQK10fE3+lz9hK/Oh4kqJ2KXUdpIGSs1JHPHHEshQ4j5rb2VtZPfGirqtCWQq2vw5yMZW5uYQTXlnoPQHQr0hKst8SaU5YbaEsJVGk7gJ0s4PSeFHCKKXLkKRQJSV5uUWaE+8QocYPux8SQQJGRyRLQdju6UjY4FGXXUJgl5Kn3krwj44ZG0kG1gClds8HN3DIcUCWSyFKAfxvfGDl5Ae7ouLyBiilit5xY7Z2H8TciTR+VJZiVLE9bcfp9uUw0PjJtYkjM4vLwqxmVhjR+IHyxc3FLbyk+nCgOe4ilaUQFP7XjudGKW5+4Khe94KIbCICi2QpYPVPPJwOIYig1cLz3UDjZ5pYs7TKVOV6ZABluTu/yzHU1BMdlvGMzp7+TsEpLnhO87IU0fjJ5aFytBMCffBCjR+4gRXb7vI39z5wDcOUSOMnkUakL7V13+2QU0FEJcr4UVnKJKpnlZdGGnCEhFmKUUqiisp1//n+7rNksTbw8UscsL5pNATz78JQTmUpvFcvYxGyABb6MaW4dViKBUnHILnEnQdOGenOq0iCZ57xs+IGVBZc7ZC9akApGTwRSgER0VHhrhahFANuUgopcuSnV+nbpUD3NDHdNvnaGqKfF6MUbNk2XSELBXstKS6UpSRsqk+SGezKziWQgObFKCWxiC5Odi9oqs0Yg8VoA5SSBuyu7Z2dz3vvGMhSsCvKWJczzqcG+xaRfRIFKKUOPjKzc+fsHR4Op/25O+RR6r9GT9DQ86EUlaUYWGEGHTiJonoxyYhlKW/YKzgj7U7IzK95khJp/OoS9zgPmB3omphnqPHjUEoicQ3OubYm0JRqSShKEY0fWKzg4CeFKKqXBSX6pOnZ7pWDdl/DwypCKWD5Rz5IzV1aGTsWy2pilEIOIifn+TkF3D3vz6CJSexSNI8f8JS33Efl2yZku5N5LUQpRpvRyUt14F78rfMu3HMVek/ItBsGxG9o994CmrJXKEux2jO7/JV3V/nknsfGIY6k+B3l1d7Ha30mDN2VWbGFq1vk48fK/RwBqeBAHdehFJGlwDmBAAw+LZal6qJyY3znbSGFxbIUJCUtjJRLZCXHwlmuvAilmDp24pThgw9jrQ+QlCj3hKQuOn1QZkK8y4EEf64bvMaP2KUYrPHLbljjx2pj5/tHRjtDJAO+EZEsZVfSv3//CcXu1SfLuPP/r71vAagp2/8/56f30+n0cEpPqYQmjEfG1ESlNBGlPFNChjIhP6MZZSrJTQ8ZUUolRw9TlDy6V3lGROSZEkJTMcdgxm0wzP+79tp7n7P3PpG5c11zf/9N5+x99l7Pvdb6rO/n+13fRclS77NH4S7FZPyo6oZvNuPHE8UfjkwuiDxM7UjGQim+KOpwVqTZjkjn4+TyDo4spfj04K7rkT/5psth/EjhxTbiVlHBkT2UcQKNUiTjp6gEi26kK8lZNn4w8RvtG1iYHOkMbsXQq2ehFKzx+3xP2IPtvhFNe/GLZaOU0tOK6wWbw21vtJDqE5rxwzZ+KlEnd3k8WrwnbAy5LRuL8VMCp2WBB4/apjetI6qSaT2hGxa7Obi6cM/qCnLiyZKl1KKsL60uWLsuvWUvsRSWgVLg/CMdNmduvxo2+epzInIm49emO+O4SFMnPLwNtzgWSoERJwxFMlp0hl4KKLsHay/GJ3xEjoZslAJZCjaL10VaEDy1Y6EUT/Do8CyzHYfXkuoPto0fX3FTha8x7KebRdpvchg/UWL7gXXx4KoHvTc4OCgFqwJ1NrnuAXMwEklZjB9IBc9P2d+YGDh3LxHBB4xSpCwFZsoe110PrN7kdc0bvzOWXgpN2hYcWbjK/ShVK2xZCvz4tV/zO19QNOk0l/HDKGUaHLH2WrylUxype2CilID/9JyvEiz7xBmAmmPZ+PGjPMN7J271OkruWqbCtESHHVOKTqcfvLW+hGQUOSil+bT9+waD8Z5pUhIdeUii9FJ806j29YkPtv8cNTJFRLw4GqUIxg90/sduASvmc74CoxTTekLkc+KHrrk7f97WTlLwTFlKoBB2bJKl23Hv800yKIUcOBOVY+dx/nTckoSrge1bcMNnMn46YfM3K1WXzJ8/G1sgsGQpvp09LLO3s5eqDRmyFC9xTpyF3QV6OTNblvI5Bks7vXvdSztKKg8Ylug8lYiDTnHh5k8L1uJlK2yUgsWn5evW2Vz3OrIQM1M040fJUgrmZwzmF6wluU7YPYptPQFWqDqPskKu+VLr8ZgoBRO/QjN3s2+elqzDJPuHLUuZg42Qoc00MHT26W0bDN7cCPmYjVLg71PJxwMkVOqtcVDK1P6CfZtS9cfUnm3A+DGtJwR205dtP+A558H2ONxiaZSajcxqQbmR9uPTQrfvdQVEe8Z6KdTkyVW9PJ3AV3t7BQzYS7qzY6EU2JGdb7Q+EFWw8hoW1eguRclSoguxe3ziCyfN2owHYxlZiujGMPud7DWr6FaBGSkOMVEKMmQ+6tyhcIvq1ZhCoEh0bD2hqhhxzMDgQFuEE+n5mylLQWi7L7+O/sWiehxe98xAKRB3qiH0kUOJTuTMm8n4+UQs/dl2VfvddGvcLFkoBW7Hj+7xWVK2jbZtZchSfFNFBXAeQVcsh/GLzd1UdPSXqJNH8ASCiVI8u4iKzbCrSGBsSzd+/MBE9EbaaV8wxSKmD1/l5dcAACAASURBVPAqZbzNElnSDB+3/NwhDYtT+NVwGD9YiKBxbO1c2BeOEO0BxxiylMDvbPnyr5d7XhhJ1u0HjFKELMUTBRSajYZdOQMaRlu2YH8jbFkKtXIBstGj2jsbpQTgAxrsmRTVqHGGL8P4oS7DF4TlFtQu3mFmOYFcz81EKajUqIO1JICg51mrevmaYYXO248+iLyVgn2IsGQpSMDPeKG3nfFCczx5oLsUxfjxDafpaOg/X7eOzCIpS0lt/HQD0s1SAs+YkXY/Ur0UoeoFB0uJI+cvcDw6jdyIkWk9Ac3A2GahsamhMTnqMGUpKF5EyegFo6+6kCsUmLIUbOhmaGPj8hy29yDKzmcyfjphO34MT2/5BSx/CCCgUIqSpVSidtwqtP5civAMvRQwZkjpKMAxwydbL1Xo2LuhYPukZHIfZJYspRpwJrJ09ILGy5uxPo+NUhCx3420HbeOhpPqEzTxQ2MhrZfSDSjxGj169IKlS3eZo0xwGD++Qpt++g++ged3ks6CMUqRNn4w3urrt7WBKRvlLOeDl6VgY4QdB5O9xhQ2WnsdwG6vOCiFtjgFexYBqhF0cBg/sBIE8VdmPs+2nuDzDavHXgQ2lGw0sjZ+ECEPXENMKjCQGt2wZCkghSyP92ssnXHiNCaD2SgFAoVI107VghqM6S5F2fjxFKNcj/hW5265iGl6GZQSoCJB5g1d+Oi94Us+rZeiJn7pIFHccqJWHVGMH+l7AuoEMS+mFMHCkqV0AlyL3LOSzY764hGBiVIwINiJwMaOrj8mSimonEkwsz5t+7QdC2oslOJramw6CE49aWGJIUtByWDpB6QgIMvFQimeXcMrC4un7rBSgUBrtk90GMw2mRWZFVH6Qg7jB74lbhyLTi/aQqI7B6V0w9IrzMxA8+W0/jlkRI4s5ROYG5ns5eoaeRpLHkyUAsOfp16ud9f5UHX7AaMUJUuJLKrnzJg7Y/n3oCZFZeasl4K11DYXfSmFDTwAEz+mjZ+A/1xHRUeJao7gcEDqe4JAKdRqLOzspJuPMFAKBPQzO6/5bCqjFqGxGD8+MH6zbe+lXeq9ZIQvkUU2Sgn8Ttmq6IjIBQbQQSh6gkKptsQHtyyd3A0SKDdD5GY4pI0fNDwNkapAsbeKgIhfxic6gVJg4zfTNyj2WuJkcvUJNfEjd+7gIQ9/CpRhJ1Qh4W1WQnpIAnYFtmaN/fxLL1Kzh1GK1kuZ6kBoFWlopo0fNNoLc8EJXuAF0vCDaeMnAJ9xpVsNfmCiFL2/FN/O2EVgCmbuvUgYYaIUWD8EwdxN15vahImFUjyBTXgv0FoFBMGYCQcHpUwDoh7tuDZx08kffQXoAZrxo2QpvumpU0FB8OdtTjyAJn4EjKHNcBQghMAuYE7arbEz5s4dh0dEpizF8ztTUFS6/Ufad8qHLUsRk1cBT6QG+wspBlEDGRulVALTLQ3WklIKqjaOLKUSkbt+WsDcKxjl4AkuSkkxDsUgRSmC8ePxo8a1tZlfsEdVTBxMvRR4JB+9Z1Pj2ritE/BgyEIpmPIP+md4wDJPC/zipV2KkqXU4tt//vLgypTrTXiNigxKEVNFnuE4+zZN+3GGZARSvRTRpZCNn69f7HfhJ751EaAMMq0nBHY24N/RcBu+B7eZshTY+P0EXarJN3ctpsmZKAULihYGqRhue07EDKGZjB9PVaSjhhxzkntIslCKF3ZmwjW/6/PIGTUEZ8hSCgFnjnsbjvP0jCNZcqb1BDwOh8xGSyxZSjXC8kB4UFBYCblqhs348TSjHoCNn8HOhC9oS3SmjR8RO6EDEBBpyWH8BGoR0y2gCZIWHkyUUgg86fj09NFW0kYARi7KegJ3zPfz+W56KaKgsh8sWQpcY87a/GVaqa+IeogtS4Ev2Ru35hdaHyDfmjyU4sGSX6q5QjwUShE2fgJootCZeJrSB5iMn0CQmFZaOr+wwJrU1LIt0cF1d+n4wu3XRBAVOtgoxVN8WvFL2MkQ3/iKPcQEhyVL8UyjHhw5BEI4qRqRQSli4gdbxRYszbW+5lG4CEMF03pC0yPdyTewZAI9krJkKZ17lpNHLr5kHCu7GY6QQilVvzM/HLJPb6Kd4TAZP5+AcetUFfyi/jZNgMvGXi9l6C0KUgmQjlmyshRPdK8wpXf1wZUJ27FWhyVLQVXB7tcyO3MxUcrUI6Ix+aq3il06aUPPQSk+P/DGJ9Ojt9kYkzNqto0fkWeZDzmMH/KrJ/MEE6VME9vHxp8+ylkv9X66EpVKj60nggQyJaFPWSjF82g48IttFLiWxJyQHJTi6eimZ9UeCKcrhoNSpooqNr7heLqOEqIYP0rVC68W2oRAmgemHz/Q5W5dvzBx2XqSRGehFHg8D4QMHCcpI5kuRaGUTtTJ01sTik4XzuSgFJGoKT8idlLjF7uoRQwslAJvMhFbx5yb5jcAy9gs3xO8tup+1pPWekpDszYWbYu63u9cuMcAMn4WSmkGphsk3LpqThWfKUv5RLgfhyUMq3ZsJhutdOcOTP0gf2k8JMySB8PGT/Ve4T+Do3amrG6/eop4hIlSsF76lKqmIqVGBnxl2vjZRbjPKDgQ3ju9FQ82HFkK3DeDnA2m7qS0xpGlgLZCr52nQmZQDuNHZZz8ZqKUasCjQasit1+dRjWeDxilaBs/Vok4spTu06are4+N3rt3OvnSOSilGQDrmXbckrrZZ8tSPN0L6UW3TttQ1cJEKZQB1J8EAjorTBs/4Fk1lXSDVJRIppbtewIMkk5MWuB+K06XjICNUnxT/pnIlZuXHHQmZSESpSi9FI9vOu3R4doD2AIARULrpYiJH/wAe+YpAg1DpsC0nuAFeRM7d1DJs2QpCK2opgOe3YJIn8dYlqLWS/FVvDfBgIThE6XNYPwEPhEFpa4jXS0jv8AwRTF+lO8JktaQVp6sXgpqJn2tZ3rIzxEtx4NQ3CyUMvU5f9dX5ULuXurNMFGKsPG7YeA0qju9FIoR9Uf0+oiDZvwoWUqga2MM1lJ29uQUhsv4wbwTxgSKfYBeTeyCSK3q5fPjxwVuPUqt54I10NhDEoUf7+e7xyhFj+q4OshPDkptSrA2SLDeaTCPpA84jJ8o6tjddX6w3S8VjwxKYUv0sJPb4643bqYWktMoRa7q5WkGCeDdnAqiImDKUuhXNMghJCMONkqpRowE7/HXd1EForsUxfiB5mrbdHO/wOnGJMtOW098SkSpkPjI+cimgh/oTk/rpYiJH0qUGMmJh+GCaT2h4FPifGCTpXQ3HKYsRYdGJ+hgoZTdDecDoEylPRGwUCpqx9Xp46aPm7jNXIACs2Qpvkpg3EKFtlPedOUxZCm+ZsQJ2FfaIjH2GtaosVBKJT7th5KDa/eSFrtslBJE5MIisvRJ81K8UdpcGz9cLVKU46CUpp/reott38MiTay/4MpSPgHR3opK22xIGGPppXgBDSXIpxktVHzAKEXZ+BFVJfvBkqWAAF+3bl109Pc2NqSDZg7jB9bCz2H2QWkOGLIUYSCgkuh4PDjsBvi+xqQOjVJ44mfqt+Scvpq+3XV6G0Pmql7InQrai5bOJZvx4/NhUauAj+UceIruUhTjB+MocqlLs9w0SlF79Saev3MKjAxsyDTYeik6ZfKEaT1h5/F0l4sH6fQbPcGSpTihLRwHw3a3pPWEwO8p7Ij6Ja0nZ9n4eQQM+B4sikU6IhwNhVKkXgr2lD/t63N9R5HZNbL4srIUSPMWYAFvF6Rj/BwHZzF+fKWGw7Vf+AZRWWShlEAQHuV6LXwhxSdyZCme6Sld2CmAnvLTjJ/Uxq8ixWPrZtvrTnjez2H8+GpRBZt9z7QcNyfzwJKlYPvrkScm/SCVU//6KAWTYZ1fxqVN8PVREeBCcxg/PJWXDlWy1hOEjZ+pR+63ey7EXvNdR5JilCyFfaKbhj0a4XtoXXS6mS9Zr2yUUjVf57vQmxrH2DZ+0IfQvAF6NXnQXYpGKehT0OfoQ8r4YRs/6AW6djwFqQMOWi9FTvx4aIcJaQQUiY6tJ2D0BqdgQbp0/lh6KejPKrKhmSgFenSwGtalZ41sxq/NZZoAath7Gs49C6V4YY+Oh/s8aHGd9CPl/5nYUd7tU0KvDM6rgnx0VU65BJFlZ6IUXzMqzTnNYDM2JoZHmLIUzLj1Vx3efjWc2ruKw/gpXDh/KNywoZyy3UATP9lVvTyfe5YpFoWngxvKfAlZkItSmgGbDHauPE27HWXKUjAotLX5lXSQZjcfNOPXU1mK51P9oKBg7VVDarrN9YkO7VXWuoKLUrywtEjrSZHWCSuP4n5BMX4ESvFgD6HD1taTEibNIk1y2DZ+qh4lkWBMRLYZjh8/srVIv+guJUUp8CfTixzn4TkapT76lCgW7ksyvY6WpfDEj6fo53nuojddBWzrCaIzCegMMPVSoPzxG3cubhppFkpN/CjGD3KDJrTS0CzGD3yi91JV8Fh2IIh4hEIpUpYCH4g/7gHTVOPYj8jqkZWleDBz87XVD97m/j1ZeCZK8ezOjL5ouKTsDtWh2SgFC1PmzTlxK4VUT3BQyjQxvePosdYtPmTZ0cQPizfEXr3wqvzSFi9wdjYDjSBRfi7j1+Yd35h1OYU2vWGglKmiroKqitrTkGtKsIcZOj5sWcpcQGSS9cGRpW7UJh895E1VuhzGD8ZQsJQ+FY7fOUQnI0sRKMXzs4mOnr53+vS95OSRRinCxg+8zZbFgbwwffpCc5wZhFLozWAbP1gvVbB54tbkq9hAD0Yq1qpemNELICBhKIAioLsUhVI8UfXW0Y60LzjUpWDqRXhIwt2E5JFp4oyWpQiU4oki0m65JhwAuMAHy3oCrMFRqmBigg+WLCVK3FHqar2W3jaPhVJSl6I4NEuWupdWesBXR3+ZG0YaFkrx7aIK3ArWpng8+BbDAEMvBctyTy5asMDRvfGHi/gFslBKYG9vqsm3t6e6OwulBKbPVzntCSypAAWJAHLHYfz4bdUPspyv0SDIkaV4qvEnzK4uKZwfhwlLLuMHE7+f4s7MowVhWZTShbXkOooiHXMbl8C5d4gY/gtkKV5Q/EjLhNHjaU9sclBK0XyJ13yvj0gZlotSYOUW/EvDjmuUOxamLAWruV+9QitL6bWlbBs/O3DnEpzYfrQ3OfdiW6LDFtFwh9dGwQjdpSiUEsFmf7caSy9SbZ5EKamNXxth1QkECWo4cNAoRXQpVZ9NrSnGZ7aTnicQPTEJmbL1wdYT4CgAESM8TfSJDqYsZeqxafFm4zPO17D7KBKl6PVSKN8Cvipy9U8EZjJ+PI+IpQucj4bbzplFrkhi6aV4KqtgT1NvuyWkWw2m7wmPeydvIXsg958u4tiZKAUzO7Q4X6oyZKIUj5d44mByEazsuYx7JAelwHdiZGTBjz/TFcu28YPSnTL38QmihmQO4yfwqR7k6+PxytMcl57B+CkGpN+avX5duPGmrTvAOyZ64oO38SOLIfvFQim+yH5cyeGsUtpFD9fGTzMx3WvGsZAZXuQKAVmUIpRZYKR3zMxgbRxtsiRFKbSxIU810EYH7KUDAk8JcE6YshSopQpPT9xqffTCXswfsFAK9lC++wtMb+L7kUZ0dJei9FJqT9tTXCJOnA7C0cuiFJEibDp32iWIJ7oxCAvRUr0UMfGDfQxmQ5/+KS5YA4/1TOsJFY9+H4XrqvZ6+hMpKjJlKQi9ZU9wRCx4MsItj4lSPNHTI+C4Y6LnXpIEYKFUlFlK/I6iOQU/YKUcG6VMNSwMjQWKGpQ0w7Dx4wmiYuNcjI3Njc35REFZNn5kdUi/mCiFBrv0W2PB2zzZX9koxVOB/Smjo8quYAiCV8mxRAeVlArIktR4wZWlBOCIFjzb0XmQRSmeYPWcY5MMFhs4zzsXZ0888gGjVM9lqU2RyYvPTaTpNK6NX1s8+A6Id/Rd9gUJZWy9lGrYydqfPA9RECC1niBkKYGp35l5cbpoikApZxiMH4/vgTxbRWZNMnC7SjRpFuMHO384/TM6OnpV2mbcpukuRaKUAC3uCPdYtoU0NOPIUvx7jcmbLVQUb8j34ycQVVesj07fEjd9L64GpvWET1hh8lUXXVvYZoDscQwbP74oseKb6PSmXTCxFaBmQXcpvJjM4/rpcLtHk5xnbTZHd5mMn8AjwjGl9yrYhPI4brYsWQq25niuqaqgauOiQATGq3opGz+BwG/bNF2wB9KlmjQLpfCMmZw4QwRMlIIu0svPxkLNQk0HUy8clOIHrD6lowlOesnEacaP0kuBmI3sMwTkfcKdC5pyS3fuwNwSMa8kHmLIUgIVpeqny5fPORetQU7KP2xZipqnUMXF3yyUAvu2w5FOh4Kx9x70CIfxU4w/2D941c6fI8riSOWD1PcERim/EssEr9mUy3Cp9QTJ+Pk9Ouy2p7fivWMHSFaPiVKwdsPefiEsdbPZhg0UOCgVb3ALZjdmlkewu1e6S1EopRhxcpZXWqST6/xr5gIogowsRUgR4MfvhOXxX2zvuadgeY0lS3lEFSLvje6WTnuJtkXJUtj3hEpYrlfCT+HBEQkp2MKEKUvBXr2ukDkz9wonT4KGo7tUb5QVsNLbbGv8YMvq9s/N4Zpt42fnZ2xoZxdgQy9cYVpPAD/wz2D9YO/0q+GkPCSrl+KphjWAMzKFgFXRz4m4WSgFvifGaapq+p2LC8K3mSgFv6E9U4F8wne5fvxg5ghFkLYNDuOnG/BqmpLG6rPeVAwcb7MCTY0gqAXaeYYsSqEMKMChCcoXMg8fMEr1UC+loKMZ8HTZCesJ34sUoVzo4FhPmPJhOr/zQHj8fHKhOBuleBaB4x5kZZ2ehsc6KUphP37A+I3+tPRqr0TX0+FECkzGTwAGR6Lqp4Uhu5RIsxYWSoGS3/HnhQvtFxob4/kD3aUoWYofMOeTsTPuzvhk7C6qS6FVvbQshfz4PW2/dbXwFmbGpHopzPiBdcU0l3Hjvl9I6t6Y1hM+YScORJ2YvCt9O1l+piwFRXoevm71gO8XLsQG30SXomUpVZ+Gldeutx73OCnXjx8xxPMUdCnLEQqlKL1U4rFZt3YuLkoopZyOyeqlYOeOk5f3KGmG3fhhj4CoWhZKecSWRdsvXH3CjbQ8YaMUNGmqLaPgXJQiIhUQn+iDZvwon+g+Acc+irtu/RWpAuCu6uVpBM6PEwmAv6JmzYT1BOVtFjIgjR2l8GHLUkHMzKIMw8FAKQHf8LmOvm3A3Lvr1MzNBcQDHJSCpaMXlpUv1AkYZ4y18DKMHzFsK/gVRmbNX76XXCEoRSlS1RtwbIR9mvPRGwmbyW2KmIwfX0Hn6cHI5G+jKV6KhVKwln+1sYqqKu1Tl+5SFOMH+hXb4PB14fokQSKDUkSZUJfqFV+QlfU5pnql66UIegJk7LZ1q9NCUlTI8ZppPaEbdmJz76i0w1k/kvwIU5YC3uLUtG07WlN8yNAMlIJGUn3S+fDaPWGFnz8nMsOUpaDKZeZNcMFGqWNOYz8Z9MnY5XuD4FE4GDZ+wPgl/Pi9kk98aQoeEJmMH/ieyJpkaWZwuJYybmDY+EFsQEdKyQs5jB9M69BT1FjJkaV4KlEFkVmnbahXx2H8eL2+vLXHZ1Was/ORacT0kYVSKHrZ4wNGqZ7JUm2Jj9xn71oXrL/tk5GWpONHDkrx+frxaR3XelOmkZz1UrphJ7MWX/tFuiSI0kthS3TTgIbycL+nlgaO5EDFYvwU/GAHrCO+4SKqatmW6KZh1w7pgkgWdQh3abpLUSjF0zFvGJnQCi7FBEQcJONH2fjxTQ1fu2jC4o7pC8lXz2T8wDfnMTd3p13UCko+03pCVdfeRdcuAEKTIgVTL8XzCTy20n3+VXucNsX40XopnkcgBDU3rcbcC5Pxg+zqgHdjiiyE1stcLwUOnHeFBymoqNCVL6uXMvW4V+h5zPq4y40OEoaYKGXqUThv+urp48aNI9s8G6U0/ZaMvypdx8ZGKZ5p4Nnnqjy1bXg+DbmjGD9KljK1gJFq5QF6628u49c7foKvzhnHuPT5mNLEshS9qpd4XzIff3lZiucXv9U9crGXu8Gs+VfIFsOx8YMutSptvrsTKUnB/IDpe0JFUTeqpJ/l5PXeIhXcrGQYP/hBAF5BtoWrVXsewtI9ICXopZASfsVSb5C6Yfoyd/a8yU6kq1qOXgoYwUngnAlWq53GKyToLkXJUqLqwqxb469h90bwftgoxQu44flcZB+9bSHJOdKyFMn4gdOy03uNgyAocVAkOul7QmPUUW8Qd6bbkDDElqVWNdb+tNee9vjKRCmeXUCbkoUK34Za4sBEKViQfMLLiVbJsVGKrxvwHJYEwy5UFD3BlKWiCn9OBN/RCQdc8GDBRCme3ZIBaOMN297kUMKSpVQDCq0XpJVSAMhFKc1VFXELn7sssU7xFqCa4aCUKLHQKW6T13f4NjQNjiylEVGw+cuTX4WfKfMNQlH8dVGqh7KUaZtO9bLZI0fChmKUopVj44fMVrz2xKc1UUIuU5aChfYwd1TbNHJXuBpsXYYOCqUw4wfbuV633mx83voIVfEMxg9EYI3mX9CO8OQSYbYlOmz/ZLnyNGy8Ee8WR8RPdykSpXhq8Ydr12YEBxGJwweNUtRevfceHLUAEw3nW3vwFIaJUnzdwDknEgwm4NghPNN6QtNn62lv8NIQSSm+WLKUbsCcQY0Gk2mbGixL0Sjl0bDLQkE/YORFEoWZq3oVPQqdlxZQXCJknamX4oU1HPDV5SvE36VsSxiyFDi9XqgRFD9mrAtp38BEKYBAfY1wi3ALcqhjMX6wtjNhs358AbnjqRxZCra/Ti5yt5xUS3pYpBk/UpaCNbuvbNR8tg2gAB5N/BDfJ2X8NAPOZEVevqZxxkkWpaSyFPXOyO8PW5aiGjAz0wxZCl4hIi+fmxrS251xGT/VgFeFk34av+Dg9j0cxk8DLNjij82+2xUcrPO3T0fO9iUSo1EKr+qFLZyXFu207Gd5TUaWkkWpVQVO48+NsqEkVZYsBX78lqbsWBzncYP0wER3KUqWUjBcvSs9MvmIN1lUKUrRe/WWBwPJMMeM3HqMRiksS6kELDnR6Dw5xZwMTzF+2PeEikfu1eB7D76ae/L4KaJLs2QpRb+vP2mMtKZBlolS4Mdv8oxRo5YdXJsSRETPXNXrE+F6PBy2GggX4LS5slTkWl8LxShLcosDWpYSwQp4e5tgfTVekH5wcOBZeyJrTJTiQ+LORV6Wi6+SIMZEKZ5qYm7K74nnU4LJmSfbxg/8+B08+jfPUaNGkdoFNPGTtfGDdfACBZiF8Kk9XbkoxdOxG/D1XnNN+2hM3vx1UapnshTxGsGGm5Y/4QeOLKWQWJIWOdnVy2spqZeRQSmkekls8EqYNX+pq3Op1zksgTNQis/ze+QYvirydFgJNRwyV/Xy7KLSSuff9aU1xWzGzyfe8eeI9IIdjQfwUE13KUqW0gyce6TwltNdc6I8MiiFbfx4pveOOcXdcPo5zJVcx0ijFDHxU/VZddjAMe57aqhlWU+o+KSv3dOwc0/gA8bOHVLfE6siZzntsqE1exilyPVSsKN8eunoMbMXAMGPEZJp46cUMPKoS1TucWOSHaJQirTx44UdW+DqdNE2seI0SapRshR0qbaoE/Md108zrN66tKIMVw0TpXg+59t/8pz+9MTi9XL9+J1KbC9dsGOS0wLHXQSXxZalYH+pueFo4thLJCCqFk38MAiRNn64wnHB0DnXxs+i+oqvrY/I7xzJPmFZqluU+rBlKZLBw6WmP1koRf9On7AZP54qeNX6m4sFuKMn54YyjF8vAchKoqBNrq7u7kfiTrWRrYbeBRHN5UzDYrcEr2rcHH7+p3Ds/YHJ+PFU1aK2Fhzefk6H7NlslLJL9ARXcptG/7QQF4nuUpQsBQ6ct693sRVRr1aKUthslq8Q1Zic9UV4oivppomJUjyfqIMrFx8Pp5fyM60neDrxJ52z1vpGnDyOsYQlS/ncO5lVeu0X2r6BgVLI2+yBcIs2qD0CRkAvNWbCZ8rKeos+JjTBPqAmv9VYW2Sw+BrRqjko9eB4YIJZyqZZFFsqI0spBDTsOFxbZNZYu3jpNXgRcDBRCuiJLcG9NII9Hm0h5xcMxg9Qaqvr6NFLXV29dhGKZrb1BNruHraTt9WnjF45shRJV9KkJZfx672qFlTdOn4FB0ilHsOPH5Fp2Y8PmPHroSwlWxrynIVSpgH2aJSy6GUbzNuGzQMYKAX23cjJsCEcmtSUnYVS/BvtXgcXFy3YSU1eZFf1CuzsT9nqq1QvuXsIdvMlOgUbpUwVqs/uCrdbsou0JKO7FIVSPoEllu6Tj9ILCEhZitJLCWB1xsRz6w/ZelzAm7pI9VJo4sdT1NX9csbWnSMuBpG6Oab1hIDnt/rc+j22dmdJ/xEMWYqno2J3Yc5Wy3lxSlRoxnopO79t3wepKGjqq5EUAWNVL1817G8zZiw/t3zGjL1El6NQitZLlVwL//LEzoQj1AINhiwVFHBhBhzLow0FAuL1MVGKb7cp7dbdAXMst6+nuxSxJaz6pHFEaqZt+vpR5dPNDbHCj41SMLf8Mg3Iq6IDLng8QBM/AqUovZSq4ep1unxVQbU9Tp/D+Nn5xMOObOv0LWLl7dVLNjmZr/8CWUqmNOQpk/GDEXzQ3mgXC7Uge5slZXuJJi+DUmjkgf+gsIMDvvFBy1KzwcaPp6oTdqy2I+4MeMckeXY1GcZP1ef63WibabbBOq8nxl4hJo4slII9yc4cvnwcJGXS/TLdpUiUUlVQ8/hyTmPWAQsFrJ2RQSkBypFAQcM+umv6XhfKNxe9XgomfrC7po6GbbDPBc91Oob2PBSAkqWw9QSfp2S4tyt6r29vEmcYspTA/rkOCl3uq2aI/fkyUApapeE6XZha+5FKPRZKAfcTHDwteho1t2KiFE9kV21vquE3wHMhSf6DQgAAIABJREFURdrJ6qWAUFDqpd9bv5cukW3IOROl+KZ217OyJkUmg88wVC7OeinNNvuJabVXpxHvEG4rmjF3lDdNfFD7hefTwqzjQUR4NkrxRIk7j/YOUgxLvypC8XMZP7CAnAACWbh3IWAViuP/hCyFqkLmYDF+pgFzXQ+u9Jq9I3LyyPVclBLIhKRPZVCKp+J34VDw8+m+vZ5HRy/xJLqkQOPTFj0Y7CQmQKIL2qLGFEbO8nJPWDl/qWcQioNtia4Ka4qWFRgchc1yiEZNdykCpQT86r0wPVEKvLjONrCckGhIlKL1UqArcB1ZuHjBfMq3FS1LAUqZ+oEDqCsuwfqgT9i53lwAGWBaT5hqPDVbumPlgqXkVr0M3xMQusDsysVg2+oTltbrgyAwaeNHMX4qYWe2xymBP74vUvC8lMn48fUTr5utDInzFqCgUsYPyVI8MPeBfCmpQK8zbMAoRliiUzZ+8DxYE4FVKgpJHCyU4ukHrYadMS6Gk+oLpl4KNvo9ZrB09lUbARmajVKmsP31z9N69/beNAFTpTTjR+qleB6JB5MPhGv4nHcKJyLhMH52Fqtmfg/7cxckUzsdsKwnyKSprw9blqLeEpVb/P3OshQ02U2zZw8aPzvO3pRjPUHx3sw0aJRa2ounYtfg7lq2ftyArWWj563HEQBK6aEJCKGXAjc+1ctGjh8z8u739tiajIVSiPHb43GM2LmDaBp0l8IoZRfvWmZ2xDN6iet81ysuKCcyKEXMthQiHow3jl8Qt2ypL4YxWVkKzLnHuyY4LVhQ4LZg7CGiIEzrCdj++nOXpxV7r39B+lxlyFKqUctcExaPHgkMyxU882SgFJKlDBZd01e6Z0BaODIZP1HYsSy3AynPqQqURSkeLJN3dXdcv/pv6U7u8/YqEM/IyFLEtUx/gmsmSsFu9j/t6d3LNmrrRQywbMYv4mCy065xlAaeY+PHU4g41nRl4rhPC47goqOJnyzjB5vhuPfb8dMh25LJ2JCey/h5VJ+bZpG4bCk5HP+FUepPk6UE4JJLp1dvtV5qqrjBy1kvRbUH6ptCKWQ9wRME/u1YVu2kyNqOu54kK0bRE1jVC11ATUNNv5eSKu5wbL0UzB2G7Yl40LEngnTrTncpLEuZwn6vjbXOk7KSZ5/DPgxYshTPNL7xmm3ign8mjonD+hsapQjGT9PW78KcucuXx2mQYjjTesLOAzbDufDg58CKOMybMWUphV52F5Yvn7F8r4YPbrdsxu/M0UK3ONvE1tPeRP2wGL/Eg7UdKdO8cVApShGyFOjIPz5Wi+rO7S61dEZWlqLqW/rNRCkwSKr90UWkGX/wKrbPYKIUbIm6elRalvNRnDGYlLH3l+K3xTfWTppU20F5xqYYP1KWAvONirj4xrUTD67F7AuX8TNV7C0AzSPt0+4tjN+HLUvh6a+0uvHZO6MUBCMkJQEdk4z1BGL8uAeFUljVK1AN+/Ljc6M8o4PA+wNxQJfSQ4MduXMHMX2B+QsVERulVALSZk1afKLIgHIjTDlwphg/Xb+oUR+fO5diTHG90lW9RKTg3LPCK81pT5R7Ctm05n5FDLYDET0B7RhYTU0FWK5HZoFpPcGzuL5zvtki3y/bU3CHZMpSUDt2sMKQZ0fMGSE2Bkoh1dCBwOsJiws6yE0UmIyfrsjG88HhWd3opcCtZcCAcx+f85TuesKUpSA5xsFCKdj+escRX9uwB0doEl0L0QtATyD45vnNHQlK6vXTBDgSjiwF1lLVoz4e5bmH5Ho5spRP4qBojwv9zLpf1esT6PlcQdNvVRzZHP8vylIsxo/xxvAFg/GTc5+2nsCW6DBIWfQC19t4zoWeV/xk8X564seNgMn4mQbwbeNHzr8W0M/xIiy1g4OFUvCLgg5sfq1Evnd4gOkTHVYPBGwForh3xMe+LJTCXQpFKnswrCdgF4bE66BVOlU9lnTJy7Txkw1InNNdCrHkPKWwp7ssdBtcva6R7AaT8dP1mzv7mOXoa9Tki2L8KD9+fFWL3r0tYDMaKhlKL0VuE0L9TH6zUapwNmypevx6o/z9pYLuNdbOTJkWRHKRHJTi8aoHpYT37u236WIQkQDN+GFZSmDYpvHclO9jt26aYSBBGnIYP4FPfNNee/vqM5QbRoxS/702fqwXQlwyGT95T8gwfm9GKdKPH4pDZlUO6lIyshQ3BQZKwe4Tc9f9oh8M2pHwp9gsh+5SJEqh6AFgpFKFjCwlgFatoKPRC+zcfET6+s/xQ7QsRUz8ODmgGD9kPSFQ1VTT1+/dSwS04HNz4lGGLMUJzEApHrDn+uDzEyjF3kEYxpgo5XOvcbvn62AfKvOyshQVNZokUOek9UTppzr0L7InTJQCvdTS4MDC2trLcaQMydRLgSI5y/mjPVR35jJ+mmD8mGLRFvbox3BCEc9EKZ7dqnO/TAN35xqnXBpGHEJ55MhSMGuvdS4oMoisPY3byl8Xpf64LMVi/GRfGHneY5TCizu4MSh+EkIzfty7fKYluumqdFeDyWPnjlw8zx1PUeguReml2HHQKEXY+IkCxoCQFRwsiPp45AiCN2PqpdihEYku9T3BSyxZOnZvcLDowvJ+jph/YMhS3NCyslRbYsnsu3v1bXtVL+9XhjkCBuPHE4U1uI4xOwIoICBiolCK1EtxY38XWYrHuzAuPi56+dg4UohlyFI8HQ3FgCWf7CjbdUoHazc4slTbqpNmTntsPVatZTF+WJZSiBrpVeA0doartZfrd0QSXMav96ZZ48fOgH97g4gS/qVlKW/8klhv5Y/IUqwoZFAKa8RZ96XeZvFevezbLEt0zm0GSoFHEvsvTyw284ItjKKxRpLuUlKUYsYhRSlk46fgl15UMHnsjNyDRWYHbAhxjtZLyZ/4yVpP8MKuFyUsHjtj0EHroqPY1p0hSzFTRlf0xK83pB1w3bKgdOyMT9MWW/5kg+Q2ph8/Q75+Lyie2bVwkSFhWSIPpVAo+ngXWQqmyPceWH910ZayfmAwfqpRo7530Q+2H2djP2AiwZRybPxEmyqml0y+OhE2JvdAOWAxfmBl+OWJoiIzy0XnSCt9NkrxND0iriCbJpi9EmztX5jxewcbP/pt4ZN3kqXkk+gU49c9Si1GKEUu7mClz/LjJ4CF2m2KSuCayoJSaNJd6q0oRdr46djFb106cvb4izqwnyM6mIwfJwNM64k2/SgIvXR8nAZpsdQTWYrcuYMnEKlVbx0Jiad4qwiIhBiM36pXv8DOnsHB+hpf3iVmThRK0bIUO3PvIkuBMdi9BwsKZx0nxTiGJTrPdNXBlfOuhodHnCiI3EJM/jgoJdq009fnfFZtLamSQxM/9OLAoMp6ogpkDbzZKylZWCgFqeLCsRk/VdidEpTUAnCIq9YjlPqw9VLmuJSsd/JeUYrw48fKAFxSJDrN+DEfYaIUmhGB6wLaeQFcsRg/Zmi4kqIUtvHjKSgIBAqwDQVF6dGyVPcoBYxgH2w9AfKQqQJsgki7DXsHWQqEPNhJ11TBFLYLIjCKYePHE8TnLjBzPOc512y0613CwqGHKNUzWQq27bz3wNNm/OyxeC9epvWEauKSkQWLZ48vLJ1/JJog8dmMH0+1+tW2ib5z+h1dSIAUQikTWb0Uqmv0asiiEbJUH/wAbNmmCpTiqkF3PWHQCBj38exzhCn6/0VZ6j2glKyNH6c/sFBKzn26S70FpSgbP24UNErJ71JM6wlO8B7JUpT1BCc0k/EL/DKtNisy6/KB1YQtFnu9FCc0048f5zaT8RMIXt84eeSO542DB2gSXWrjxzNV1Kged2HAxGgL0tqJg1J8VY8bB3/8xdaH5ATRxI8AKcrGj50BFuMHzq0is5KP7h134nBWxy5ihvAWxu/D1kv9YVmqidxYdMQnInaVEdc9l6WQjZ+cA6EUGssoVS/rERZKse6+G0oJOKHRDzRKdc/4QdPrQ+/Vy4zkHWQpZkDiisH48dp0AkeNOucZ50Kp1Ji+J7jh30WWghYde7ho6/gxrufoLiXVSwlAH6eiCYeCgEyGjVLo5xsnRxcdoAya5KAUGZSKgbWqV9Vv4scnFowZ4zr/3HRsevvXRak/Lku9E+P3R2WpmW9i/Jh6KeY7Q1c9RSnaxo8TxVtQimk9wQndI1mK3l+KHZzB+MFNFSSM0HqnP1OW4okUTBMbJno/f+6N9guGg8H4gdqB+FH6wUEpgabdjRO+W+fPiA4inmLb+EmDkmccxo+vqGhqaGhvGESpJd/C+H3YstQfRqnJsJ4HHd2j1OfE9KHvR57vgfHjvDZpl3o74/cppcVkxkKjlPyJH0WiUzt3MAOz9upl3WQyfpybLMaPc/9PlKUEqs/19TV6qSho6Nva2xPiDoPxQ2mjbkULQhwbP7i17VFhyt4BwPiZC+BxNPFjyVIoFunBZvzQHYifFmKhV///9VLS6qLPZPRSb0YpbD1Bh6NPmKt66Z+pE7YlOvU79d1TlOpWlpLqpeRP/BjWE1Sq0u+eyFL0/lLSYOQZg/Hj3KVQ6k/QS/H8ljmN3xUOBoyf9ivbRcAUA6U4aXOtJ1Srz5yMdBzZ78QR0niSYvy6k6XYjJ+cNN5sif5hy1JBAm6BgG378ruhBMZs+FS+oMNe1cuNREaWInZB5DzBsPHj3H1Xxo8TAd2leoBSAk5o9EMP9FIwGL8HWYqTux6iFLm/FCe4rPUE2J0UJRgcmbH1pHXRkWj5KMWMgCVLgZM/gf2quTawl7A3FvV6IkvJMn7M6Imrvy5K/XFZ6p0YP+z2m11zlF6qe5QiZKnu6In/uCxFTfzwzh3s0jHWS3FuUhO/HjJ+7PAUSv0peilRrwDwOL783HSNIDy7ezeUUlXV6N1LzUcXHGDx7AUCyCrN+FF6KXb2WYwf+zZcY1nq/9v4MatGBqV6bOPHiOGvwPiBLNlnkPx57bvopRjlJi4YjB/ndg9Rqod6KYFCm6ZOW5CpgFTIcWQpZvpMlOKpXRh51POQrQasxh99RY6NHzMwcSVPlmI+9tdFqQ/axo/lx49Z53+eXkrZiNqrl51Czxi/DW9EKWV/5+lylQyyNn7shOGazfgxH6FQ6k+QpWQiFpDn74RSvLaItMhJTuu/PpZg7XaVcCtGM37dyVJcxk8mF8QpRqluPSR92LLUv5HxG0bQPsD4vQWl/gwbP/Y7gelHz60nsB8/ThRvZfysEbFFWk9wQ48J0QYQe2OXQvREb05I9ANzVS/7kR6iVE9kKXbUcP12lJqCqF7lviP+pgCPg2Psp58OGjTo3Dpvb2Lm+IcYP2Y+/roo9UHIUt3Z+L2F8WNaojPfCLqiu9RbrCd6oJfqjvEjLdHli4o90Uv9q4zfnyJLcarunVAKQsNmbKA2EwVRe6oieoLoc93JUv8y4/dh66UITQKnVv9cxu8teqk/xcaPUwS6S/WA8SNs1zgx9ACl3m49Efqmid8bUIrhx4+dtR6iVA9lKXbsb0cppockpLiSPf5PM35/XJZ6J8ZPvvxOMX7do9R7Yfx6oJeSr+rtkfXEmyd+9P5Ssi2SOGfa+LFv/3tkKSqVd0UpKhz1TTN+3clS/zLj918qS73dxq+n1hMfqo0frZeSP/GjSPQ3W0/8UVnqz0Cpf5ssxUYpqjPh756g1Fd4ZkhYojNDE1f/F2Wp92Dj994YP7xeivti38L49ch6gvKJzokdM37d6qV6xvh9GLIUu2w049edLPUvM34ftiz1Phi/t8hS/3HG74/a+GHG782W6H9Uluon6xOd02h7Zon+b5OlGIwfO3N/zMaPGctfF6W6k6V4bWCQhKBZuGGZdO892VL/ibJU99YTPV/VK5s18pymJ97C+HUrS71tVS818ftX9FLdotR7s/GTU3N/giyFGb/uZKl/mfH7sGUp+Yyf0ri32PiJ5rxdlqL1Um9Gqe7oCZ2tIYS32Z6t6uU0DbpL/bsYP8UB1milXZ/x8kn0P2W91MxzciOXYfz0OQVHPxAL5dXdPpWrZWZ5m+VE8DbGT4nlE50dQU9kqf86Gz+1GfOsEAh1q5fSGPAWlNKcM5lcgvhRN0sQZSzR5TYLGT9+tqqwdxXn0B9DeEjqzsZPxXxsKCqDw6x+8r3Vqc3vQ6ykewtKda+XEi0jhGitFwak6yBm27EgupSwfzcopTAmBIC+e1kqyHGwMmL85PeJXrPRxM8h5GO5Vsuq5C6IQ/uPks+m6vf7HLTM3dETzFW9zFLB1dtQSs1sDap45aFY1csJTzN+3clSPWX8lD9btEBu+T5AWUpjxjzc2oa499Kl27OCiDhgW3YV23FfIdW/svKGGfoq9AN0q1cV6c9YTK/q1VBR4D6iouBKM362ch+wpfaXWhruLe8IX4BRasXsUzqcBFRVdcKvhCJjeehScrOook92qaGfy2+XUt8Ty3TklVFF/9OviIFnX4G3IjcDCvqeK1cIlYX9B+mLOHfBiYTOSMJ6InTldA15sWt4Q5cCvZRXsIhbeaoqwf2+QF1q5jl9FQW62qkTVZGL9XBU9qHfeNpqyg2+ACpfvRtZSqD0NSEMCT+a3VvA6RDgsGmAI1Fu8DarxM26qk6wGS1LIWctnIOnyvE9wXymxzZ+et10KdGSxYRcglroezt4KCWt/sttsXExs0h8fRKltL8wW2hsbGxuaG680MbYxibaBvbZg+P5tOW4Swk3jHExNobb6BHZP+ORaAxGx0f9IArmTSK+bZbfEvf7frR8HdxnhTc3tFlnNgRajbJVn2SDoiJLzr+ihNpF2EPS6OiF3PjNn9s4+kNwocOsBQsZWcPZhAIVYZT6bMTHcj1E8gy9BqIcGn00BkrAyZ+5scuCLei+8gsDyAAnB4bTZjiDyCDpsxSVn3N7oc0Ot6kQONTZE7LHuW28bvVkhFLDzOTWr2G4F1SOUG/RDKg7buCF0yPJLnVumtysh3sNUxbCxE+uIMzT/3gK6pBW346XayomGjAfdSmJ+qS/ycm6ocu0Ihql5HepoDFoRgzv5jPsIYnV+mAXxCLWXr3sJ1THOcO7ETqEyEcpnTnUgE6k834+iC5l1f/rYA2RLvsQKQXPWESMQ0bDV5Z5jSYOszIvdzPLMnwxevTOPkZERqcYUA9Qd4jv+V7Wi1CDgWP4JHc6lMwzZmbO3xD3+w4vcp8vc4M6NXOf9Q3qlcLQDd981V/ev/4DrZCVYOhiM3kJzHefp44ScJg5SV4W57ubtewjCjn0p69tlUQq7FrQVXxuRnQpq+HWZvIyONoroT9KQHmwsxlZSVTe8ffOWWjmuUZ+DXmZOQ9ByauXSitVJvh8d8smE6Gydv/SMi+5iVsPh1mA3rfyIzczSybapFGfnV5y62a0NVS+utsMWx3261fVFakFL1+DupTw2/G2GoBDzJpRUbId5YRuKzus3Cm33GWlRL2Bjd8A2IOHGVpXVVdRQ3+21EOSIvj3ZR18lYUFtCy1UEONnUVdXRUN6FKQB72ZS+W8OpGa/vL/VJfS6u/69ddfw77E6I/xYbaImPhJ+qqr+/uro3/kB76AT4IZANNI4nf6V/pKXd2BqHZliR6Kgf5d5kl/PfRe8APwBPMZCKCu/hmOQij/kBBWt8rK2g5UHmUiR/l2IHqMZD+Ki5UFIjEH3OmNRrgv/xhVAKMGRo2a80kk0TQkejg8owzowp8swVR56aP7DkbQLtFd2YzR57gKrRzoH+gE8AnKvgRCwz9m3eAAenDbSq+bm+rqRNng/aHAcoODLFW64+uP5bz+UV+7Eygl/NZyDqoYduv42nUy8WKmOhAFI3JIFYK4wIkrT50w8mPUvFjhR309Z+cK4tUr7zfYa9uLe9iuM8AoJVRfPGiOnBx+Pce1Ft6N8LNFBfjVMZP4+mPLWfjd4mTezydGqcET5s2bAP+c0B9xjs7g3+T+uL2SrRbyhFu3MvUD1Z67y630vvSM+SwVE/mrkHXNfPiNVxJIQl5oCdmp4R6ZezoaIjUyjFWfyagWUBWgP6I+0Me8eYtg4gYHjp6ZQTJqOsI/cEJXDCfvjNyisjF+wEnRoeXdlHkeApP1IJNFVGMwxn+zqJvXP+8JikE4ZTKuDKJeiLrBZ5O/IQYrZo3g6CEcnTOjr2bOm+A0ATcp+CQqGH6YMO8LdVzm/c4jlxODGfPj60GR5MRv/3B4DdKXgk7hD97N5AlIUB7aZyZxRb008r7TvMnDYTR7zwfRpZQlRtr4H3xpaxuhc/yDEec1v+f8vc/krKDg6I8oPKoH+MPVINM035qhd3n2rZH9GQ8I8x389xOTDWjm4v24jQljHEL9k2BqALOMfHV/h6SpdLmJGsDNwShG3UFbWSJENSJWD91P1ImR9lQ99c/gB3+YPuQ7qOtBp8t3SOJmFe4lEbWhBfH4Oww1wmnEQGDtGBTb1FR1yJhE4uDQZ9jw4d8M5/wN+wYPZsoSK+JF4MY5VZpDIyOiOBIrIyuIHb0w+JPe19YmRAJu1v6dv+AuhVLAIzx0IXSCvyTNJtnK4ieD/XEzkYgHrshWjskYvMII/xDzcnCekeT3J0+yyTcmL6f5L7O18l8OzNOmw6gLJakDn2STD+enDhwM7zbVRM5LQc/th3CpodTNmNBMiTIOQoSXpOZpK+cT+RA/GQj32Id44GCIIT81D79dZeWYFdlQPkiUzIAkFZoWFCpPSyJ+MTATBhGIhPiPIkN/cFhlZBopx7wcaEIOenC6IgnfinkyMC8pP/XJ4LwkZTGUkxi48a0/7RPFS1axFZQExws/PssW5mf4awkhO/7dvoKYOy1ul6jMxl7+jXgPkvLG1o7ivhnudRslnQazLt8nik2Um6wAABlJ/quW0vpsIrn88paVj2+jU4kkI/fyfeXfr7S2Vg59Zb0yZ6Mwprz1H5z0Ja/LWh9vJFLL76yY1XEfTiXKVqnlrfeV8++0Otdln62Y9fg3I8nrlseZU42mahtZQY+Q/YM+IkEp5mds1IIT9D8fvQg4k8Are7GvRlv4e142vN01T9DrRQ8QAcgioLDv/5B2KW7aEnGu2/388pmL6zKttJSFVuLyRSH1SZ1li0MeGmkLJVZWXWUhIXniQU1uuzdyQ5O/WHUl/CM7Y8LMqodaVjDYCDvLWi5lpl5Z5HYzCSK1ssrPcAwZlilsrnDjxiERX5lZehMafG7Vb1YoNLyPkEpo3/NnDttohEL37XKvyszvKlvcUTO1vGnmpUxWPiQxdxe3XMpWTsUxKFsZZZS3FMM7cGwacltbS2hlJX45um5j/p15i3Meil99MbOOmwsYhMWdO3Zno4dCaoyMhBJtq65FIWuLtY0g/NTORTNDipvbQxb9I1s8tmkmZJdxQHNHnfXlvmfkjRg4zSYeyRe/XJOXNPXli315QqH4xRqq1zDCo4uY9U2LbkJqUH0SKMlDKyN4G1oNLTPrasR3duzOJLJ/m9OmcTz5nY77nviLTZJiTJKsXrsl3xevgFO9sSHFK/anfldRdTvmxZQXaXWsbBNhhTEbBr6oqhHnaYv99frsu+N2U+yPTl9UtFbmn11UmZuz8cWUOzt/Vc4wS95NDjY4UfiUWHWt2ZVQGeOfnR+qDkkk1InVs2PU1TvLGu8bNTvufjXv/pQ+A1seZ4sHHa4ixkLUiVFnkH5LUGwS8Z2y3dkSGMattMV3KuqzoRqUrbReV6zN+Z/9oXdz7gszctfmkD2fTv4/d/LGLtU5s+N+xoiajNHFL4qtMvY5rHBo6Mh7UpO6pG7FBvXUDaGheRmPbobuU7+TXEkUXk4xJM0nZu3OjK3Uy72Zui9T/GKjiX/zovrUJ/tfhdx++czq5bOM3PsO2VoxDW4t3DYhaV6RPS7nYf64RVW/qQ+E0Nkvv5tXb9W8pTJz/9SuZ0Mzih02xIZshEabGlufOuRZ6pBiITEq0hkBCN2/bcJvkq6qql9TB2b+/iLzzlcni5WbB1Vu1Mt/sU/7xb7UO7mPb+c/WZG6tO5FU3FGSyUzAiImSfN3sXUbYwbnpZbsfrnBIbVP6JVKh/KbgzdkpvYxebmxOfbSy5OVetr5r3bX7GfrQVLLE+oyY14NaWotRr3RKOZV2ZDWmzAeCI3EcxdNuPyP5paqz4u1mgd9O6ySBH869+RJ/tlht/cPTX0B2d8Y8yqk6reMF5nNL/xL6vI+M0rdADnLf5KX6vh39nBChY5tHT78YfPoyrlNeRlLv3O/nxFbWR6Sd74152a21dSGH25D84w5X4d7OStp4dSYrqqa13X7zlzKNNKKGXLzdU7lmeHZ2p2N93+PrRO+LvstSfj7lnrx+kvt9Zw+KdQe2rmzUjzi5oVva7S1YnLrxJ/Xny2r0W5+cF9v1YTMmLH/C9OXsiqHrrrCHDnTCzorkuZyRyjjmmdTXzzLKI+ty8x/UTP1Rc3Zz6Gy81/2yflV2WTwZ3cvF9MB/sMnb+pSr0/vc6yMOZ9zZXjm2UVTciu1xS9jH2daCWMadoeev3nl8caY0PLGYi0tYWdrZTfFEMYsvbR1NwTvP+yZeMSl3JuZMSblOQ+VtZQ7h9y+M2TDiOLOBDe3uqSXOeWFD7lxaGlZVf9wu2vChh9/FV+p2zI8yUqcWy/saocg2V05fcruG+U3hGwUWgl/L6l3iB02u38mq0PAYG5V/e3D6i0Dq34V332cOyRbOxW6VFd7actjh1eLpgy7n9T3bN1tZS2tmCt/D40d8s3wPG4ulIVQ5LpMZStlSCajpM83dXl3Wj+vKG6O7b+hbqNQ+Pux+oz21pD7DrmlMztYXVIoDs29lJmvvj+18ObAYbe76gbH9leP7f+yrub1pRp1h9T2nNSZu1ck9Y0dAhNHVubJnEjEsa0hHZXiK5dyh2d2nl6z9j5kI7cu87xz6aWNEsjZRhi2f3f8O6dNE+GF4qaqwVeg4TZWVYq/qe+K/W1qV0tVZZJ48ItCGNlf5SBY7tpZKRfjYO4Gs4n83NbHNUJh/ril26F4AAAK90lEQVS6h1YlcAovvLHy92OXhM2OvxoBWtWU9/ev+B9uBL9vaa3Lk9xp76gEc4CulkqrzoSOSi1h6oP7MTeGZMeU/z3bqjnn184teY+quhkOcAlgXrk70+p8zvohD7XE5+F0btWVYTWvK0qr7idZpQ75Fd6e8obLcpoPWYHv+esNXUqce7M5975R587Ll5LE51sfZ0oyJnfUw3t/XVFp1JzQUWyUmutWBRUcU/74tvzWoJzfVVdz/n+yU2Nn1eUpv2qsKhY2z55VBw0/puRSUnNu6269BrfKsS2Dyys7Y7koBXWRH3tJ70p917Dfku40Vt23EopzdwvvuBXftf7NITa5LkkobGiCRi3sbC+WvGpqreSMtTCjSh/mv+VmBgxmqFXBGz1ZLDnbUrk84X5qbmt9tlB4NgdyDyPu/amdFR03OTGgFyKUQMOF786dD62gQdZoZVTMqsqb2lVQdRsmj50tlfkZL65U7Yut/2dhVTajKiBv56E3Kis3x97MqBi+pd6/c0j/YQ9TW+py6zMhc0116hUdITXi9stNKHMoMfYhaW6ve5GWk92ZUHW/+crNjEW/aUFJirVSX5aHwHSUyJmwcwiWkdiBlZXFOx9rdbZsTD35+HbXkMrygvokMZwCmuc3QHdCKKUsHkTKPOzQkpjBa5qKlTsbH0PpMwpvJkFn+vtG1KXuwzhi9Hr0r8KMnTCe1A1sRy+VdeS/XFN206j5AYhv8N5g8Gl+UPWrED5/jVk1JDN/7v9mitPrM2NzBhd21HA7pDQyYf4rqP3m2MuVSULA00xhxgM4Bfmx7HKe8Pdvf5XAqHZld+abopBG9u8/675LCbsa67bMenxnwrOuil+n3oH2K5nq8KrloVYzmtmKHzx+KMzXS517KdOq/Fto1fKz2nzscf+DVcWxleqxuzMzHsCrtNJLLasHsWzYbeiKybunNuRkNj8Iabnkeng3tzVLxA0wnLvVOW5/vDHjZNVDZUkMoNSdkMzfY/+h19ACA7PV2UUgAb/+6GbS85xnGU0sjIBMxQAodrXW/XS5Lju1/TGIyOIHxcpnWzbGpP/v/rOtaHC+UAe5ah5xU3inqbjTmhsDKpmkYXemsuT1hPokq9/T6jbCxDG0BL5iqzKF+a/LKqEbCTNab+be11q1lhDhZWpDeB5JePlzq2okne2PM7U6ryzKKY7pPPkYelT+K6hFsfrZx7+1PlaP7eBWAIpH2Nxen78p53ZGRdXDztY6RyhJczuEgwMmDdClIPrXIyrZsgyZBcnU2Jz9dzr8O3Na6zJGDNlZ+zjv7Lctf/cP1RND67R6BV0qw/VSJnZwKpNtdCqZ+kwvtaUyZsSi1mKtrmH1DlYxw1suV2oB3MDsZUhm57e3u0ZU7k91nDCv9jK7V0jyTdRhdpj03ZCW+uzUK5cytfOnhLTUAa48qPysesLD5txfM65cyhOXNw05XMuWQBkZgWqC2hcDrQFDMXoRMecv34fSW3U2FiunDvsVyCbAb/njESOi93Pxhi4lXrOmvGX3WWhnFfWvJnxX9isIDuWtz+603ISp+/X+Hz02Gbzv5bHdJrk5xSscuulSMS/XrEl7XLzzZuixS/4jLpXVZb549rKivjm3ap9/0p0hd5vuA+Tdaal88SK3UQ5A/A7PhYa+2He39X9NrtSNqEsSZ5TVOWSUQZCHnTn9m+4PTS1pfajX2XRzhfrrqmKYXLBrTTwopzjUZM2+75L/nnqlrj0nW9x18qZDc2z9q53F5TO/G/JrX/H5qt8+u5NwaYV/eUflncZ6ea8mP/V8VU3f8pabJhsz0jd8+/iJY71JSd0z9/4w+73TesnE/2Vx6N2q4vK6ZyAWsKviPNAjVuXDHmrnd7ZX3c5ouplaMiTzVXvHbWH+nZwaoxih5HXOw4N12o/coJOx84+uYe49uLDO/8qlspzQF2vGXt6dmnuz4rHJi7yupvr9qedzHvYtD7m5gqJU2THA5K0lpLJzRM2rRTV6ep0V9+8sKr4TMnC2W0hOTWpuY3LVvrFZrU11tyXsgCjlQU0hdSadl1aU1/tXJHfM7HO2f03DpczyhKzLN2GKEnJTnJvsFlLvoJdRsZszbc3vbGqpKm4eVvx6WHFJ8vaZw7q+Ke4cXvOq3fnyJYdymLs7jMzqmJmTJ3aIBdJQTurUT/mpJY9r9OYOuZLzcGrqo8c1+WNzcnNqBj4Jza2qiekCYgIaxTPgpj+Q4w1dCkrZPPu+OHd7aU5ebp3eq7qXuTDKOIysdZtZt6HpYWfLs10tLW7FXY2XZ4Z0N0YKhZL865XZ5SEzO4pf5/zWOazmbktLTk1nwuWQnOIr9eIr9TGocgFtXjuyh3cYn18nXJ5Z9WuSVfPw37qG3e4csbFzp3Nyfd6ry/A+7u72L6lXR21i8PnkkMW788pKWzh8nfA5zKhy/gFEWc7915//tm1ETXl7Vusl/87t1o8dPn+svqUutMQaWlVucsjM3YNj3VrqauS8GK3mXOfkjidlySGL6r5qqbnT8ax8VmlpJXx3Vu0rSe5oqvtmu1vI/aEZIa0dv7Iax9RUoBH0OkMqQ2Eo6O+4+2X7zdDYYSaL6mJ3O7xqqgxN7XyCAO/RkBVNj5lzRjojkmbH1o77r4c87PwWRJpm+Ib/ZYNdO1oubUxFORu8tDZkJkiEcg+g2fvsy059oj01A7psTEZ26uChMSv2v+zTp0ZLfGfKlCkrMqZM6TNFrjQjydjQJw8UECARfjYQnhqc6g+n2Rkb1qx5ppW6oTg75uWUDRuKtYVaQHOzUpdo/f6izzNtsQkwfv4Zazb0gcExCcg/SG3DviTxmil5VhC4zxRQcaSu6AZiUZRQYihjzuAyIKDqM2Kdk9c+GfE/qcMqB7k1Vd0fWt6S3FH53eGORW7FrIpnZef9XXbfpVAeJHqfScShJg5GDtlWfdWtxCah2VoOoaEmeQ7q2vnqfeGWv/ZUuDZxkDe241Ig7WIMPJgUs98INIIoOqTogzAOehKxgxDuoQEmRswZ5pThXqhJaKY20iT2ddDSdtDWg2v/pL4QJF+crdV3/1B1eEIP4oT4U0NNSD0mTpj4jFE3MTFBqixQZjpA+kPFEIDI9H4rB5i/OgyFYCb7HeAj7zMxPCrv5QqnpoaGhuo5QFR5+9VBb6lNFKivf5K2uh7cMvGHfIFiKD8VsiGTODrN2ALc/sC5IUMm3NxVtxFEy7NlE+qKuy5tzLhUk9syZEL/Tqchw/KA8RtSD2IpKzC+FEK86lB92qiOUF3EQA069E01MckWToUKgZxBHih1FScKmJRCvGieCAc6x1iIr4VCoJdgDiXsJm3KJgPGRonESgsehuDwCdo30CCQP1FRMpNGsRKpESlJIAWUMPETnFqhm/g2+k1+yYkIofZNTEL3q2dLHPT6wtuC4upZOezXMzFR10JN0mQjenvQMpnJ/8eu3tyloAZQzlCRYV6AvuCAM/hP/A6CIapqdAv/IucT3UKPoODEbWkYdA1XxM/dxoDfBE4CPYxTRCkTMVLhUCrysoGSJrNLpIaiE0KGiHDonMwU3EStSvookVfyg3iMKASKA+UFF4i4DTGArQ+KiIpMNqhk6tSpfa3gb+pQ0INBK1POn2oEHJVQaIR+7Qv3hiZBQO2+RmRWZEMzz1Ei+MC/4wASKE7PgjJjQ1dEOFwD3Jvd/IJyQITt5j79M1QIeQ4BqFP6LpzAb/JvyD6EMkk+RZQdXaKAKEL6DnHGDPUfu/p/BYZmSl6Qi1QAAAAASUVORK5CYII=)"
      ],
      "metadata": {
        "id": "yw8bvmeRrvSt"
      }
    },
    {
      "cell_type": "code",
      "source": [
        "# Load the pre-trained YAMNet model\n",
        "yamnet_model = hub.load('https://tfhub.dev/google/yamnet/1')\n",
        "\n",
        "# Load and preprocess audio files\n",
        "def load_audio(file_path, target_sr=16000):\n",
        "    waveform, sr = librosa.load(file_path, sr=target_sr, mono=True)\n",
        "    return waveform\n",
        "\n",
        "audio_dir = '/content/sample_data/audios'\n",
        "\n",
        "# Get list of audio files\n",
        "audio_files = [os.path.join(audio_dir, f) for f in os.listdir(audio_dir) if f.endswith('.wav') or f.endswith('.mp3')]\n",
        "\n",
        "# Load and preprocess the audio files\n",
        "audio_data = [load_audio(file_path) for file_path in audio_files]\n",
        "\n",
        "# Create labels based on file names\n",
        "labels = []\n",
        "for file in audio_files:\n",
        "    if 'original' in file:\n",
        "        labels.append(1)\n",
        "    else:\n",
        "        labels.append(0)\n",
        "\n",
        "encoded_labels = np.array(labels)\n",
        "\n",
        "# Function to extract embeddings using YAMNet\n",
        "def extract_embeddings(audio_data):\n",
        "    embeddings = []\n",
        "    for waveform in audio_data:\n",
        "        waveform_tensor = tf.convert_to_tensor(waveform, dtype=tf.float32)\n",
        "        scores, embedding, spectrogram = yamnet_model(waveform_tensor)\n",
        "        embeddings.append(embedding.numpy().mean(axis=0))  # Average over time\n",
        "    return np.array(embeddings)\n",
        "\n",
        "# Extract features from the audio data using YAMNet\n",
        "features = extract_embeddings(audio_data)\n",
        "\n",
        "# Split the dataset into training, validation, and test sets\n",
        "X_train, X_temp, y_train, y_temp = train_test_split(features, encoded_labels, test_size=0.5, random_state=42)\n",
        "X_val, X_test, y_val, y_test = train_test_split(X_temp, y_temp, test_size=0.5, random_state=42)\n",
        "\n",
        "# Scale the features\n",
        "scaler = RobustScaler()\n",
        "X_train_scaled = scaler.fit_transform(X_train)\n",
        "X_val_scaled = scaler.transform(X_val)\n",
        "X_test_scaled = scaler.transform(X_test)\n",
        "\n",
        "# Print dataset sizes\n",
        "train_size = len(X_train_scaled)\n",
        "val_size = len(X_val_scaled)\n",
        "test_size = len(X_test_scaled)\n",
        "print(f'Train dataset size: {train_size}')\n",
        "print(f'Validation dataset size: {val_size}')\n",
        "print(f'Test dataset size: {test_size}')\n",
        "\n",
        "# Function to create the model\n",
        "def create_model():\n",
        "    input_audio = layers.Input(shape=(1024,))  # YAMNet embeddings are 1024-dimensional\n",
        "    x = layers.Dense(128, activation='relu')(input_audio)\n",
        "    x = layers.Dropout(0.5)(x)\n",
        "    x = layers.Dense(64, activation='relu')(x)\n",
        "    outputs = layers.Dense(1, activation='sigmoid')(x)\n",
        "\n",
        "    model = models.Model(inputs=input_audio, outputs=outputs)\n",
        "    model.compile(optimizer='adam', loss='binary_crossentropy', metrics=['accuracy'])\n",
        "    return model\n",
        "\n",
        "# Create and summarize the model\n",
        "model = create_model()\n",
        "model.summary()\n",
        "\n",
        "# Train the model\n",
        "model.fit(X_train_scaled, y_train, epochs=20, batch_size=32, validation_data=(X_val_scaled, y_val))\n",
        "\n",
        "# Evaluate the model\n",
        "loss, accuracy = model.evaluate(X_test_scaled, y_test)\n",
        "print(f'Test accuracy: {accuracy:.2f}')\n",
        "\n",
        "# Save the model\n",
        "model.save('audio_classifier_model.keras')"
      ],
      "metadata": {
        "colab": {
          "base_uri": "https://localhost:8080/",
          "height": 1000
        },
        "id": "095iu6IJJTUb",
        "outputId": "9537e9c9-ed35-4958-b6d6-748e1c5e7218"
      },
      "execution_count": 152,
      "outputs": [
        {
          "output_type": "stream",
          "name": "stdout",
          "text": [
            "Train dataset size: 6\n",
            "Validation dataset size: 3\n",
            "Test dataset size: 3\n"
          ]
        },
        {
          "output_type": "display_data",
          "data": {
            "text/plain": [
              "\u001b[1mModel: \"functional_40\"\u001b[0m\n"
            ],
            "text/html": [
              "<pre style=\"white-space:pre;overflow-x:auto;line-height:normal;font-family:Menlo,'DejaVu Sans Mono',consolas,'Courier New',monospace\"><span style=\"font-weight: bold\">Model: \"functional_40\"</span>\n",
              "</pre>\n"
            ]
          },
          "metadata": {}
        },
        {
          "output_type": "display_data",
          "data": {
            "text/plain": [
              "┏━━━━━━━━━━━━━━━━━━━━━━━━━━━━━━━━━━━━━━┳━━━━━━━━━━━━━━━━━━━━━━━━━━━━━┳━━━━━━━━━━━━━━━━━┓\n",
              "┃\u001b[1m \u001b[0m\u001b[1mLayer (type)                        \u001b[0m\u001b[1m \u001b[0m┃\u001b[1m \u001b[0m\u001b[1mOutput Shape               \u001b[0m\u001b[1m \u001b[0m┃\u001b[1m \u001b[0m\u001b[1m        Param #\u001b[0m\u001b[1m \u001b[0m┃\n",
              "┡━━━━━━━━━━━━━━━━━━━━━━━━━━━━━━━━━━━━━━╇━━━━━━━━━━━━━━━━━━━━━━━━━━━━━╇━━━━━━━━━━━━━━━━━┩\n",
              "│ input_layer_12 (\u001b[38;5;33mInputLayer\u001b[0m)          │ (\u001b[38;5;45mNone\u001b[0m, \u001b[38;5;34m1024\u001b[0m)                │               \u001b[38;5;34m0\u001b[0m │\n",
              "├──────────────────────────────────────┼─────────────────────────────┼─────────────────┤\n",
              "│ dense_22 (\u001b[38;5;33mDense\u001b[0m)                     │ (\u001b[38;5;45mNone\u001b[0m, \u001b[38;5;34m128\u001b[0m)                 │         \u001b[38;5;34m131,200\u001b[0m │\n",
              "├──────────────────────────────────────┼─────────────────────────────┼─────────────────┤\n",
              "│ dropout_19 (\u001b[38;5;33mDropout\u001b[0m)                 │ (\u001b[38;5;45mNone\u001b[0m, \u001b[38;5;34m128\u001b[0m)                 │               \u001b[38;5;34m0\u001b[0m │\n",
              "├──────────────────────────────────────┼─────────────────────────────┼─────────────────┤\n",
              "│ dense_23 (\u001b[38;5;33mDense\u001b[0m)                     │ (\u001b[38;5;45mNone\u001b[0m, \u001b[38;5;34m64\u001b[0m)                  │           \u001b[38;5;34m8,256\u001b[0m │\n",
              "├──────────────────────────────────────┼─────────────────────────────┼─────────────────┤\n",
              "│ dense_24 (\u001b[38;5;33mDense\u001b[0m)                     │ (\u001b[38;5;45mNone\u001b[0m, \u001b[38;5;34m1\u001b[0m)                   │              \u001b[38;5;34m65\u001b[0m │\n",
              "└──────────────────────────────────────┴─────────────────────────────┴─────────────────┘\n"
            ],
            "text/html": [
              "<pre style=\"white-space:pre;overflow-x:auto;line-height:normal;font-family:Menlo,'DejaVu Sans Mono',consolas,'Courier New',monospace\">┏━━━━━━━━━━━━━━━━━━━━━━━━━━━━━━━━━━━━━━┳━━━━━━━━━━━━━━━━━━━━━━━━━━━━━┳━━━━━━━━━━━━━━━━━┓\n",
              "┃<span style=\"font-weight: bold\"> Layer (type)                         </span>┃<span style=\"font-weight: bold\"> Output Shape                </span>┃<span style=\"font-weight: bold\">         Param # </span>┃\n",
              "┡━━━━━━━━━━━━━━━━━━━━━━━━━━━━━━━━━━━━━━╇━━━━━━━━━━━━━━━━━━━━━━━━━━━━━╇━━━━━━━━━━━━━━━━━┩\n",
              "│ input_layer_12 (<span style=\"color: #0087ff; text-decoration-color: #0087ff\">InputLayer</span>)          │ (<span style=\"color: #00d7ff; text-decoration-color: #00d7ff\">None</span>, <span style=\"color: #00af00; text-decoration-color: #00af00\">1024</span>)                │               <span style=\"color: #00af00; text-decoration-color: #00af00\">0</span> │\n",
              "├──────────────────────────────────────┼─────────────────────────────┼─────────────────┤\n",
              "│ dense_22 (<span style=\"color: #0087ff; text-decoration-color: #0087ff\">Dense</span>)                     │ (<span style=\"color: #00d7ff; text-decoration-color: #00d7ff\">None</span>, <span style=\"color: #00af00; text-decoration-color: #00af00\">128</span>)                 │         <span style=\"color: #00af00; text-decoration-color: #00af00\">131,200</span> │\n",
              "├──────────────────────────────────────┼─────────────────────────────┼─────────────────┤\n",
              "│ dropout_19 (<span style=\"color: #0087ff; text-decoration-color: #0087ff\">Dropout</span>)                 │ (<span style=\"color: #00d7ff; text-decoration-color: #00d7ff\">None</span>, <span style=\"color: #00af00; text-decoration-color: #00af00\">128</span>)                 │               <span style=\"color: #00af00; text-decoration-color: #00af00\">0</span> │\n",
              "├──────────────────────────────────────┼─────────────────────────────┼─────────────────┤\n",
              "│ dense_23 (<span style=\"color: #0087ff; text-decoration-color: #0087ff\">Dense</span>)                     │ (<span style=\"color: #00d7ff; text-decoration-color: #00d7ff\">None</span>, <span style=\"color: #00af00; text-decoration-color: #00af00\">64</span>)                  │           <span style=\"color: #00af00; text-decoration-color: #00af00\">8,256</span> │\n",
              "├──────────────────────────────────────┼─────────────────────────────┼─────────────────┤\n",
              "│ dense_24 (<span style=\"color: #0087ff; text-decoration-color: #0087ff\">Dense</span>)                     │ (<span style=\"color: #00d7ff; text-decoration-color: #00d7ff\">None</span>, <span style=\"color: #00af00; text-decoration-color: #00af00\">1</span>)                   │              <span style=\"color: #00af00; text-decoration-color: #00af00\">65</span> │\n",
              "└──────────────────────────────────────┴─────────────────────────────┴─────────────────┘\n",
              "</pre>\n"
            ]
          },
          "metadata": {}
        },
        {
          "output_type": "display_data",
          "data": {
            "text/plain": [
              "\u001b[1m Total params: \u001b[0m\u001b[38;5;34m139,521\u001b[0m (545.00 KB)\n"
            ],
            "text/html": [
              "<pre style=\"white-space:pre;overflow-x:auto;line-height:normal;font-family:Menlo,'DejaVu Sans Mono',consolas,'Courier New',monospace\"><span style=\"font-weight: bold\"> Total params: </span><span style=\"color: #00af00; text-decoration-color: #00af00\">139,521</span> (545.00 KB)\n",
              "</pre>\n"
            ]
          },
          "metadata": {}
        },
        {
          "output_type": "display_data",
          "data": {
            "text/plain": [
              "\u001b[1m Trainable params: \u001b[0m\u001b[38;5;34m139,521\u001b[0m (545.00 KB)\n"
            ],
            "text/html": [
              "<pre style=\"white-space:pre;overflow-x:auto;line-height:normal;font-family:Menlo,'DejaVu Sans Mono',consolas,'Courier New',monospace\"><span style=\"font-weight: bold\"> Trainable params: </span><span style=\"color: #00af00; text-decoration-color: #00af00\">139,521</span> (545.00 KB)\n",
              "</pre>\n"
            ]
          },
          "metadata": {}
        },
        {
          "output_type": "display_data",
          "data": {
            "text/plain": [
              "\u001b[1m Non-trainable params: \u001b[0m\u001b[38;5;34m0\u001b[0m (0.00 B)\n"
            ],
            "text/html": [
              "<pre style=\"white-space:pre;overflow-x:auto;line-height:normal;font-family:Menlo,'DejaVu Sans Mono',consolas,'Courier New',monospace\"><span style=\"font-weight: bold\"> Non-trainable params: </span><span style=\"color: #00af00; text-decoration-color: #00af00\">0</span> (0.00 B)\n",
              "</pre>\n"
            ]
          },
          "metadata": {}
        },
        {
          "output_type": "stream",
          "name": "stdout",
          "text": [
            "Epoch 1/20\n",
            "\u001b[1m1/1\u001b[0m \u001b[32m━━━━━━━━━━━━━━━━━━━━\u001b[0m\u001b[37m\u001b[0m \u001b[1m2s\u001b[0m 2s/step - accuracy: 0.5000 - loss: 2.7750 - val_accuracy: 0.6667 - val_loss: 0.8736\n",
            "Epoch 2/20\n",
            "\u001b[1m1/1\u001b[0m \u001b[32m━━━━━━━━━━━━━━━━━━━━\u001b[0m\u001b[37m\u001b[0m \u001b[1m0s\u001b[0m 103ms/step - accuracy: 0.8333 - loss: 0.3237 - val_accuracy: 0.6667 - val_loss: 0.8681\n",
            "Epoch 3/20\n",
            "\u001b[1m1/1\u001b[0m \u001b[32m━━━━━━━━━━━━━━━━━━━━\u001b[0m\u001b[37m\u001b[0m \u001b[1m0s\u001b[0m 104ms/step - accuracy: 1.0000 - loss: 0.1621 - val_accuracy: 0.6667 - val_loss: 0.9200\n",
            "Epoch 4/20\n",
            "\u001b[1m1/1\u001b[0m \u001b[32m━━━━━━━━━━━━━━━━━━━━\u001b[0m\u001b[37m\u001b[0m \u001b[1m0s\u001b[0m 107ms/step - accuracy: 0.8333 - loss: 6.0264 - val_accuracy: 0.6667 - val_loss: 0.9100\n",
            "Epoch 5/20\n",
            "\u001b[1m1/1\u001b[0m \u001b[32m━━━━━━━━━━━━━━━━━━━━\u001b[0m\u001b[37m\u001b[0m \u001b[1m0s\u001b[0m 144ms/step - accuracy: 0.6667 - loss: 16.4880 - val_accuracy: 0.6667 - val_loss: 0.8106\n",
            "Epoch 6/20\n",
            "\u001b[1m1/1\u001b[0m \u001b[32m━━━━━━━━━━━━━━━━━━━━\u001b[0m\u001b[37m\u001b[0m \u001b[1m0s\u001b[0m 102ms/step - accuracy: 1.0000 - loss: 0.0872 - val_accuracy: 0.6667 - val_loss: 0.7467\n",
            "Epoch 7/20\n",
            "\u001b[1m1/1\u001b[0m \u001b[32m━━━━━━━━━━━━━━━━━━━━\u001b[0m\u001b[37m\u001b[0m \u001b[1m0s\u001b[0m 120ms/step - accuracy: 0.8333 - loss: 23.8364 - val_accuracy: 0.6667 - val_loss: 0.6825\n",
            "Epoch 8/20\n",
            "\u001b[1m1/1\u001b[0m \u001b[32m━━━━━━━━━━━━━━━━━━━━\u001b[0m\u001b[37m\u001b[0m \u001b[1m0s\u001b[0m 127ms/step - accuracy: 0.8333 - loss: 0.1968 - val_accuracy: 0.6667 - val_loss: 0.6217\n",
            "Epoch 9/20\n",
            "\u001b[1m1/1\u001b[0m \u001b[32m━━━━━━━━━━━━━━━━━━━━\u001b[0m\u001b[37m\u001b[0m \u001b[1m0s\u001b[0m 119ms/step - accuracy: 1.0000 - loss: 0.0433 - val_accuracy: 0.6667 - val_loss: 0.5651\n",
            "Epoch 10/20\n",
            "\u001b[1m1/1\u001b[0m \u001b[32m━━━━━━━━━━━━━━━━━━━━\u001b[0m\u001b[37m\u001b[0m \u001b[1m0s\u001b[0m 106ms/step - accuracy: 1.0000 - loss: 0.0210 - val_accuracy: 0.6667 - val_loss: 0.5134\n",
            "Epoch 11/20\n",
            "\u001b[1m1/1\u001b[0m \u001b[32m━━━━━━━━━━━━━━━━━━━━\u001b[0m\u001b[37m\u001b[0m \u001b[1m0s\u001b[0m 100ms/step - accuracy: 1.0000 - loss: 0.0579 - val_accuracy: 0.6667 - val_loss: 0.4727\n",
            "Epoch 12/20\n",
            "\u001b[1m1/1\u001b[0m \u001b[32m━━━━━━━━━━━━━━━━━━━━\u001b[0m\u001b[37m\u001b[0m \u001b[1m0s\u001b[0m 102ms/step - accuracy: 1.0000 - loss: 0.0057 - val_accuracy: 0.6667 - val_loss: 0.4360\n",
            "Epoch 13/20\n",
            "\u001b[1m1/1\u001b[0m \u001b[32m━━━━━━━━━━━━━━━━━━━━\u001b[0m\u001b[37m\u001b[0m \u001b[1m0s\u001b[0m 144ms/step - accuracy: 1.0000 - loss: 0.0306 - val_accuracy: 0.6667 - val_loss: 0.4050\n",
            "Epoch 14/20\n",
            "\u001b[1m1/1\u001b[0m \u001b[32m━━━━━━━━━━━━━━━━━━━━\u001b[0m\u001b[37m\u001b[0m \u001b[1m0s\u001b[0m 138ms/step - accuracy: 1.0000 - loss: 0.0416 - val_accuracy: 0.6667 - val_loss: 0.3814\n",
            "Epoch 15/20\n",
            "\u001b[1m1/1\u001b[0m \u001b[32m━━━━━━━━━━━━━━━━━━━━\u001b[0m\u001b[37m\u001b[0m \u001b[1m0s\u001b[0m 145ms/step - accuracy: 1.0000 - loss: 0.0023 - val_accuracy: 0.6667 - val_loss: 0.3632\n",
            "Epoch 16/20\n",
            "\u001b[1m1/1\u001b[0m \u001b[32m━━━━━━━━━━━━━━━━━━━━\u001b[0m\u001b[37m\u001b[0m \u001b[1m0s\u001b[0m 110ms/step - accuracy: 1.0000 - loss: 0.0204 - val_accuracy: 0.6667 - val_loss: 0.3500\n",
            "Epoch 17/20\n",
            "\u001b[1m1/1\u001b[0m \u001b[32m━━━━━━━━━━━━━━━━━━━━\u001b[0m\u001b[37m\u001b[0m \u001b[1m0s\u001b[0m 144ms/step - accuracy: 1.0000 - loss: 0.0116 - val_accuracy: 0.6667 - val_loss: 0.3389\n",
            "Epoch 18/20\n",
            "\u001b[1m1/1\u001b[0m \u001b[32m━━━━━━━━━━━━━━━━━━━━\u001b[0m\u001b[37m\u001b[0m \u001b[1m0s\u001b[0m 135ms/step - accuracy: 1.0000 - loss: 0.0161 - val_accuracy: 0.6667 - val_loss: 0.3356\n",
            "Epoch 19/20\n",
            "\u001b[1m1/1\u001b[0m \u001b[32m━━━━━━━━━━━━━━━━━━━━\u001b[0m\u001b[37m\u001b[0m \u001b[1m0s\u001b[0m 145ms/step - accuracy: 1.0000 - loss: 0.0120 - val_accuracy: 0.6667 - val_loss: 0.3320\n",
            "Epoch 20/20\n",
            "\u001b[1m1/1\u001b[0m \u001b[32m━━━━━━━━━━━━━━━━━━━━\u001b[0m\u001b[37m\u001b[0m \u001b[1m0s\u001b[0m 138ms/step - accuracy: 1.0000 - loss: 0.0207 - val_accuracy: 0.6667 - val_loss: 0.3305\n",
            "\u001b[1m1/1\u001b[0m \u001b[32m━━━━━━━━━━━━━━━━━━━━\u001b[0m\u001b[37m\u001b[0m \u001b[1m0s\u001b[0m 50ms/step - accuracy: 1.0000 - loss: 0.0465\n",
            "Test accuracy: 1.00\n"
          ]
        }
      ]
    },
    {
      "cell_type": "markdown",
      "source": [
        "Predict Label of A New Audio"
      ],
      "metadata": {
        "id": "kjvfO4EqL8F9"
      }
    },
    {
      "cell_type": "code",
      "source": [
        "uploaded = files.upload()\n",
        "audio_file = list(uploaded.keys())[0]\n",
        "\n",
        "uploaded_audio_data = load_audio(audio_file)\n",
        "\n",
        "# Extract embeddings from the uploaded audio data using YAMNet\n",
        "uploaded_waveform_tensor = tf.convert_to_tensor(uploaded_audio_data, dtype=tf.float32)\n",
        "_, uploaded_embedding, _ = yamnet_model(uploaded_waveform_tensor)\n",
        "uploaded_embedding = uploaded_embedding.numpy().mean(axis=0)\n",
        "\n",
        "predictions = model.predict(np.array([uploaded_embedding]))\n",
        "\n",
        "if predictions[0][0] > 0.5:\n",
        "    print(\"Predicted label: Real\")\n",
        "else:\n",
        "    print(\"Predicted label: Fake\")"
      ],
      "metadata": {
        "id": "IIM4P7yUKnAG",
        "colab": {
          "base_uri": "https://localhost:8080/",
          "height": 108
        },
        "outputId": "60027469-0d6c-4d47-d681-66580ebce224"
      },
      "execution_count": 154,
      "outputs": [
        {
          "output_type": "display_data",
          "data": {
            "text/plain": [
              "<IPython.core.display.HTML object>"
            ],
            "text/html": [
              "\n",
              "     <input type=\"file\" id=\"files-46859874-f9b7-47d4-9a8c-bb83f57ab23b\" name=\"files[]\" multiple disabled\n",
              "        style=\"border:none\" />\n",
              "     <output id=\"result-46859874-f9b7-47d4-9a8c-bb83f57ab23b\">\n",
              "      Upload widget is only available when the cell has been executed in the\n",
              "      current browser session. Please rerun this cell to enable.\n",
              "      </output>\n",
              "      <script>// Copyright 2017 Google LLC\n",
              "//\n",
              "// Licensed under the Apache License, Version 2.0 (the \"License\");\n",
              "// you may not use this file except in compliance with the License.\n",
              "// You may obtain a copy of the License at\n",
              "//\n",
              "//      http://www.apache.org/licenses/LICENSE-2.0\n",
              "//\n",
              "// Unless required by applicable law or agreed to in writing, software\n",
              "// distributed under the License is distributed on an \"AS IS\" BASIS,\n",
              "// WITHOUT WARRANTIES OR CONDITIONS OF ANY KIND, either express or implied.\n",
              "// See the License for the specific language governing permissions and\n",
              "// limitations under the License.\n",
              "\n",
              "/**\n",
              " * @fileoverview Helpers for google.colab Python module.\n",
              " */\n",
              "(function(scope) {\n",
              "function span(text, styleAttributes = {}) {\n",
              "  const element = document.createElement('span');\n",
              "  element.textContent = text;\n",
              "  for (const key of Object.keys(styleAttributes)) {\n",
              "    element.style[key] = styleAttributes[key];\n",
              "  }\n",
              "  return element;\n",
              "}\n",
              "\n",
              "// Max number of bytes which will be uploaded at a time.\n",
              "const MAX_PAYLOAD_SIZE = 100 * 1024;\n",
              "\n",
              "function _uploadFiles(inputId, outputId) {\n",
              "  const steps = uploadFilesStep(inputId, outputId);\n",
              "  const outputElement = document.getElementById(outputId);\n",
              "  // Cache steps on the outputElement to make it available for the next call\n",
              "  // to uploadFilesContinue from Python.\n",
              "  outputElement.steps = steps;\n",
              "\n",
              "  return _uploadFilesContinue(outputId);\n",
              "}\n",
              "\n",
              "// This is roughly an async generator (not supported in the browser yet),\n",
              "// where there are multiple asynchronous steps and the Python side is going\n",
              "// to poll for completion of each step.\n",
              "// This uses a Promise to block the python side on completion of each step,\n",
              "// then passes the result of the previous step as the input to the next step.\n",
              "function _uploadFilesContinue(outputId) {\n",
              "  const outputElement = document.getElementById(outputId);\n",
              "  const steps = outputElement.steps;\n",
              "\n",
              "  const next = steps.next(outputElement.lastPromiseValue);\n",
              "  return Promise.resolve(next.value.promise).then((value) => {\n",
              "    // Cache the last promise value to make it available to the next\n",
              "    // step of the generator.\n",
              "    outputElement.lastPromiseValue = value;\n",
              "    return next.value.response;\n",
              "  });\n",
              "}\n",
              "\n",
              "/**\n",
              " * Generator function which is called between each async step of the upload\n",
              " * process.\n",
              " * @param {string} inputId Element ID of the input file picker element.\n",
              " * @param {string} outputId Element ID of the output display.\n",
              " * @return {!Iterable<!Object>} Iterable of next steps.\n",
              " */\n",
              "function* uploadFilesStep(inputId, outputId) {\n",
              "  const inputElement = document.getElementById(inputId);\n",
              "  inputElement.disabled = false;\n",
              "\n",
              "  const outputElement = document.getElementById(outputId);\n",
              "  outputElement.innerHTML = '';\n",
              "\n",
              "  const pickedPromise = new Promise((resolve) => {\n",
              "    inputElement.addEventListener('change', (e) => {\n",
              "      resolve(e.target.files);\n",
              "    });\n",
              "  });\n",
              "\n",
              "  const cancel = document.createElement('button');\n",
              "  inputElement.parentElement.appendChild(cancel);\n",
              "  cancel.textContent = 'Cancel upload';\n",
              "  const cancelPromise = new Promise((resolve) => {\n",
              "    cancel.onclick = () => {\n",
              "      resolve(null);\n",
              "    };\n",
              "  });\n",
              "\n",
              "  // Wait for the user to pick the files.\n",
              "  const files = yield {\n",
              "    promise: Promise.race([pickedPromise, cancelPromise]),\n",
              "    response: {\n",
              "      action: 'starting',\n",
              "    }\n",
              "  };\n",
              "\n",
              "  cancel.remove();\n",
              "\n",
              "  // Disable the input element since further picks are not allowed.\n",
              "  inputElement.disabled = true;\n",
              "\n",
              "  if (!files) {\n",
              "    return {\n",
              "      response: {\n",
              "        action: 'complete',\n",
              "      }\n",
              "    };\n",
              "  }\n",
              "\n",
              "  for (const file of files) {\n",
              "    const li = document.createElement('li');\n",
              "    li.append(span(file.name, {fontWeight: 'bold'}));\n",
              "    li.append(span(\n",
              "        `(${file.type || 'n/a'}) - ${file.size} bytes, ` +\n",
              "        `last modified: ${\n",
              "            file.lastModifiedDate ? file.lastModifiedDate.toLocaleDateString() :\n",
              "                                    'n/a'} - `));\n",
              "    const percent = span('0% done');\n",
              "    li.appendChild(percent);\n",
              "\n",
              "    outputElement.appendChild(li);\n",
              "\n",
              "    const fileDataPromise = new Promise((resolve) => {\n",
              "      const reader = new FileReader();\n",
              "      reader.onload = (e) => {\n",
              "        resolve(e.target.result);\n",
              "      };\n",
              "      reader.readAsArrayBuffer(file);\n",
              "    });\n",
              "    // Wait for the data to be ready.\n",
              "    let fileData = yield {\n",
              "      promise: fileDataPromise,\n",
              "      response: {\n",
              "        action: 'continue',\n",
              "      }\n",
              "    };\n",
              "\n",
              "    // Use a chunked sending to avoid message size limits. See b/62115660.\n",
              "    let position = 0;\n",
              "    do {\n",
              "      const length = Math.min(fileData.byteLength - position, MAX_PAYLOAD_SIZE);\n",
              "      const chunk = new Uint8Array(fileData, position, length);\n",
              "      position += length;\n",
              "\n",
              "      const base64 = btoa(String.fromCharCode.apply(null, chunk));\n",
              "      yield {\n",
              "        response: {\n",
              "          action: 'append',\n",
              "          file: file.name,\n",
              "          data: base64,\n",
              "        },\n",
              "      };\n",
              "\n",
              "      let percentDone = fileData.byteLength === 0 ?\n",
              "          100 :\n",
              "          Math.round((position / fileData.byteLength) * 100);\n",
              "      percent.textContent = `${percentDone}% done`;\n",
              "\n",
              "    } while (position < fileData.byteLength);\n",
              "  }\n",
              "\n",
              "  // All done.\n",
              "  yield {\n",
              "    response: {\n",
              "      action: 'complete',\n",
              "    }\n",
              "  };\n",
              "}\n",
              "\n",
              "scope.google = scope.google || {};\n",
              "scope.google.colab = scope.google.colab || {};\n",
              "scope.google.colab._files = {\n",
              "  _uploadFiles,\n",
              "  _uploadFilesContinue,\n",
              "};\n",
              "})(self);\n",
              "</script> "
            ]
          },
          "metadata": {}
        },
        {
          "output_type": "stream",
          "name": "stdout",
          "text": [
            "Saving linus-original-DEMO.mp3 to linus-original-DEMO (1).mp3\n",
            "\u001b[1m1/1\u001b[0m \u001b[32m━━━━━━━━━━━━━━━━━━━━\u001b[0m\u001b[37m\u001b[0m \u001b[1m0s\u001b[0m 42ms/step\n",
            "Predicted label: Real\n"
          ]
        }
      ]
    }
  ],
  "metadata": {
    "colab": {
      "provenance": [],
      "collapsed_sections": [
        "iaqz3bgWsK9M",
        "szU4Kdes7_7y",
        "samwnq0C8gtA",
        "uAAGZvFM8vfx"
      ]
    },
    "kernelspec": {
      "display_name": "Python 3",
      "name": "python3"
    },
    "language_info": {
      "name": "python"
    }
  },
  "nbformat": 4,
  "nbformat_minor": 0
}